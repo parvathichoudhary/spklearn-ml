{
 "cells": [
  {
   "cell_type": "code",
   "execution_count": 3,
   "metadata": {},
   "outputs": [
    {
     "data": {
      "text/plain": [
       "array([[4, 3, 1],\n",
       "       [1, 1, 2],\n",
       "       [4, 2, 4]])"
      ]
     },
     "execution_count": 3,
     "metadata": {},
     "output_type": "execute_result"
    }
   ],
   "source": [
    "import numpy as np\n",
    "data = np.random.randint(1,5,(3,3))\n",
    "data"
   ]
  },
  {
   "cell_type": "code",
   "execution_count": 6,
   "metadata": {},
   "outputs": [
    {
     "data": {
      "text/plain": [
       "array([ 8,  4, 10])"
      ]
     },
     "execution_count": 6,
     "metadata": {},
     "output_type": "execute_result"
    }
   ],
   "source": [
    "data.sum(axis=1)"
   ]
  },
  {
   "cell_type": "code",
   "execution_count": 8,
   "metadata": {},
   "outputs": [
    {
     "data": {
      "text/plain": [
       "array([[5, 1, 4, 8, 5],\n",
       "       [8, 7, 1, 1, 1],\n",
       "       [5, 4, 1, 4, 8],\n",
       "       [7, 6, 5, 6, 0],\n",
       "       [2, 5, 7, 2, 7],\n",
       "       [7, 1, 5, 1, 9],\n",
       "       [5, 5, 1, 9, 6],\n",
       "       [0, 8, 1, 9, 1],\n",
       "       [2, 0, 7, 2, 7],\n",
       "       [9, 2, 3, 7, 8]])"
      ]
     },
     "execution_count": 8,
     "metadata": {},
     "output_type": "execute_result"
    }
   ],
   "source": [
    "data = np.random.randint(0,10,(10,5))\n",
    "data"
   ]
  },
  {
   "cell_type": "markdown",
   "metadata": {},
   "source": [
    "### Tranpose of a matrix is data.T"
   ]
  },
  {
   "cell_type": "code",
   "execution_count": 9,
   "metadata": {},
   "outputs": [
    {
     "data": {
      "text/plain": [
       "array([[5, 8, 5, 7, 2, 7, 5, 0, 2, 9],\n",
       "       [1, 7, 4, 6, 5, 1, 5, 8, 0, 2],\n",
       "       [4, 1, 1, 5, 7, 5, 1, 1, 7, 3],\n",
       "       [8, 1, 4, 6, 2, 1, 9, 9, 2, 7],\n",
       "       [5, 1, 8, 0, 7, 9, 6, 1, 7, 8]])"
      ]
     },
     "execution_count": 9,
     "metadata": {},
     "output_type": "execute_result"
    }
   ],
   "source": [
    "data.T"
   ]
  },
  {
   "cell_type": "code",
   "execution_count": 11,
   "metadata": {},
   "outputs": [
    {
     "data": {
      "text/plain": [
       "((10, 5), (5, 10))"
      ]
     },
     "execution_count": 11,
     "metadata": {},
     "output_type": "execute_result"
    }
   ],
   "source": [
    "data.shape, data.T.shape"
   ]
  },
  {
   "cell_type": "markdown",
   "metadata": {},
   "source": [
    "### dot product of a matrix (Matrix Multiplication)"
   ]
  },
  {
   "cell_type": "code",
   "execution_count": 12,
   "metadata": {},
   "outputs": [
    {
     "data": {
      "text/plain": [
       "array([[131,  64, 105, 109,  94, 109, 136,  89,  89, 155],\n",
       "       [ 64, 116,  81, 109,  67,  78,  91,  67,  32, 104],\n",
       "       [105,  81, 122,  88, 101, 120, 130,  77,  81, 148],\n",
       "       [109, 109,  88, 146,  91,  86, 124, 107,  61, 132],\n",
       "       [ 94,  67, 101,  91, 131, 119, 102,  72, 106, 119],\n",
       "       [109,  78, 120,  86, 119, 157, 108,  31, 114, 159],\n",
       "       [136,  91, 130, 124, 102, 108, 168, 128,  77, 169],\n",
       "       [ 89,  67,  77, 107,  72,  31, 128, 147,  32,  90],\n",
       "       [ 89,  32,  81,  61, 106, 114,  77,  32, 106, 109],\n",
       "       [155, 104, 148, 132, 119, 159, 169,  90, 109, 207]])"
      ]
     },
     "execution_count": 12,
     "metadata": {},
     "output_type": "execute_result"
    }
   ],
   "source": [
    "np.dot(data, data.T)"
   ]
  },
  {
   "cell_type": "code",
   "execution_count": 13,
   "metadata": {},
   "outputs": [
    {
     "data": {
      "text/plain": [
       "(10, 10)"
      ]
     },
     "execution_count": 13,
     "metadata": {},
     "output_type": "execute_result"
    }
   ],
   "source": [
    "np.dot(data, data.T).shape"
   ]
  },
  {
   "cell_type": "markdown",
   "metadata": {},
   "source": [
    "### Dot product of a matrix and it's transpose gives a square matrix \n",
    "\n",
    "### square matrix has equal number of rows and columns"
   ]
  },
  {
   "cell_type": "markdown",
   "metadata": {},
   "source": [
    "### Krammer's Rule"
   ]
  },
  {
   "cell_type": "code",
   "execution_count": 38,
   "metadata": {},
   "outputs": [
    {
     "data": {
      "text/plain": [
       "array([[ 2,  3, -5],\n",
       "       [ 1,  1, -1],\n",
       "       [ 0,  2,  1]])"
      ]
     },
     "execution_count": 38,
     "metadata": {},
     "output_type": "execute_result"
    }
   ],
   "source": [
    "data = np.array([[2,3,-5],[1,1,-1],[0,2,1]])\n",
    "data"
   ]
  },
  {
   "cell_type": "code",
   "execution_count": 42,
   "metadata": {},
   "outputs": [
    {
     "data": {
      "text/plain": [
       "-6"
      ]
     },
     "execution_count": 42,
     "metadata": {},
     "output_type": "execute_result"
    }
   ],
   "source": [
    "detdata = np.linalg.det(data)\n",
    "int(detdata)"
   ]
  },
  {
   "cell_type": "code",
   "execution_count": 40,
   "metadata": {},
   "outputs": [
    {
     "data": {
      "text/plain": [
       "array([[ 1,  3, -5],\n",
       "       [ 2,  1, -1],\n",
       "       [ 8,  2,  1]])"
      ]
     },
     "execution_count": 40,
     "metadata": {},
     "output_type": "execute_result"
    }
   ],
   "source": [
    "datax =  np.array([[1,3,-5],[2,1,-1],[8,2,1]])\n",
    "\n",
    "datax"
   ]
  },
  {
   "cell_type": "code",
   "execution_count": 43,
   "metadata": {},
   "outputs": [
    {
     "data": {
      "text/plain": [
       "-6"
      ]
     },
     "execution_count": 43,
     "metadata": {},
     "output_type": "execute_result"
    }
   ],
   "source": [
    "detdatax = np.linalg.det(datax)\n",
    "int(detdatax)"
   ]
  },
  {
   "cell_type": "code",
   "execution_count": 29,
   "metadata": {},
   "outputs": [
    {
     "data": {
      "text/plain": [
       "array([[ 2,  1, -5],\n",
       "       [ 1,  2, -1],\n",
       "       [ 0,  8,  1]])"
      ]
     },
     "execution_count": 29,
     "metadata": {},
     "output_type": "execute_result"
    }
   ],
   "source": [
    "datay = np.array([[2,1,-5],[1,2,-1],[0,8,1]])\n",
    "datay"
   ]
  },
  {
   "cell_type": "code",
   "execution_count": 44,
   "metadata": {},
   "outputs": [
    {
     "data": {
      "text/plain": [
       "-21"
      ]
     },
     "execution_count": 44,
     "metadata": {},
     "output_type": "execute_result"
    }
   ],
   "source": [
    "detdatay = np.linalg.det(datay)\n",
    "int(detdatay)"
   ]
  },
  {
   "cell_type": "code",
   "execution_count": 30,
   "metadata": {},
   "outputs": [
    {
     "data": {
      "text/plain": [
       "array([[2, 3, 1],\n",
       "       [1, 1, 2],\n",
       "       [0, 2, 8]])"
      ]
     },
     "execution_count": 30,
     "metadata": {},
     "output_type": "execute_result"
    }
   ],
   "source": [
    "dataz = np.array([[2,3,1],[1,1,2],[0,2,8]])\n",
    "dataz\n"
   ]
  },
  {
   "cell_type": "code",
   "execution_count": 45,
   "metadata": {},
   "outputs": [
    {
     "data": {
      "text/plain": [
       "-14"
      ]
     },
     "execution_count": 45,
     "metadata": {},
     "output_type": "execute_result"
    }
   ],
   "source": [
    "detdataz = np.linalg.det(dataz)\n",
    "int(detdataz)"
   ]
  },
  {
   "cell_type": "code",
   "execution_count": 49,
   "metadata": {},
   "outputs": [
    {
     "data": {
      "text/plain": [
       "1"
      ]
     },
     "execution_count": 49,
     "metadata": {},
     "output_type": "execute_result"
    }
   ],
   "source": [
    "x = int(detdatax)/int(detdata)\n",
    "int(x)"
   ]
  },
  {
   "cell_type": "code",
   "execution_count": 51,
   "metadata": {},
   "outputs": [
    {
     "data": {
      "text/plain": [
       "3"
      ]
     },
     "execution_count": 51,
     "metadata": {},
     "output_type": "execute_result"
    }
   ],
   "source": [
    "y = int(detdatay)/int(detdata)\n",
    "int(y)"
   ]
  },
  {
   "cell_type": "code",
   "execution_count": 50,
   "metadata": {},
   "outputs": [
    {
     "data": {
      "text/plain": [
       "2"
      ]
     },
     "execution_count": 50,
     "metadata": {},
     "output_type": "execute_result"
    }
   ],
   "source": [
    "z = int(detdataz)/int(detdata)\n",
    "int(z)\n"
   ]
  },
  {
   "cell_type": "markdown",
   "metadata": {},
   "source": [
    "### Querying data from a matrix"
   ]
  },
  {
   "cell_type": "code",
   "execution_count": 53,
   "metadata": {},
   "outputs": [
    {
     "data": {
      "text/plain": [
       "array([6, 4, 0, 6, 5, 7, 4, 3, 1, 4])"
      ]
     },
     "execution_count": 53,
     "metadata": {},
     "output_type": "execute_result"
    }
   ],
   "source": [
    "data = np.random.randint(0,10,10)\n",
    "data"
   ]
  },
  {
   "cell_type": "code",
   "execution_count": 54,
   "metadata": {},
   "outputs": [
    {
     "data": {
      "text/plain": [
       "array([ True, False, False,  True, False,  True, False, False, False,\n",
       "       False])"
      ]
     },
     "execution_count": 54,
     "metadata": {},
     "output_type": "execute_result"
    }
   ],
   "source": [
    "data > 5"
   ]
  },
  {
   "cell_type": "code",
   "execution_count": 56,
   "metadata": {},
   "outputs": [
    {
     "data": {
      "text/plain": [
       "array([6, 6, 7])"
      ]
     },
     "execution_count": 56,
     "metadata": {},
     "output_type": "execute_result"
    }
   ],
   "source": [
    "data[data > 5]"
   ]
  },
  {
   "cell_type": "markdown",
   "metadata": {},
   "source": [
    "### Basic condition is the length of the binary array should equal the length of the array on which the query is applied"
   ]
  },
  {
   "cell_type": "code",
   "execution_count": 61,
   "metadata": {},
   "outputs": [
    {
     "data": {
      "text/plain": [
       "array([9, 5, 9, 9, 5, 6, 6, 8, 1, 2])"
      ]
     },
     "execution_count": 61,
     "metadata": {},
     "output_type": "execute_result"
    }
   ],
   "source": [
    "temp = np.random.randint(0,10,10)\n",
    "temp"
   ]
  },
  {
   "cell_type": "code",
   "execution_count": 62,
   "metadata": {},
   "outputs": [
    {
     "data": {
      "text/plain": [
       "array([ True, False,  True,  True, False,  True,  True,  True, False,\n",
       "       False])"
      ]
     },
     "execution_count": 62,
     "metadata": {},
     "output_type": "execute_result"
    }
   ],
   "source": [
    "temp > 5"
   ]
  },
  {
   "cell_type": "code",
   "execution_count": 63,
   "metadata": {},
   "outputs": [
    {
     "data": {
      "text/plain": [
       "array([6, 0, 6, 7, 4, 3])"
      ]
     },
     "execution_count": 63,
     "metadata": {},
     "output_type": "execute_result"
    }
   ],
   "source": [
    "data[temp > 5]"
   ]
  },
  {
   "cell_type": "code",
   "execution_count": 64,
   "metadata": {},
   "outputs": [
    {
     "data": {
      "text/plain": [
       "array([6, 4])"
      ]
     },
     "execution_count": 64,
     "metadata": {},
     "output_type": "execute_result"
    }
   ],
   "source": [
    "data[[True,True,False,False,False,False,False,False,False,False]]"
   ]
  },
  {
   "cell_type": "code",
   "execution_count": 66,
   "metadata": {},
   "outputs": [
    {
     "data": {
      "text/plain": [
       "array([75, 60, 27, 14, 17,  1, 15, 51,  1, 77])"
      ]
     },
     "execution_count": 66,
     "metadata": {},
     "output_type": "execute_result"
    }
   ],
   "source": [
    "marks = np.random.randint(0,100,10)\n",
    "marks"
   ]
  },
  {
   "cell_type": "code",
   "execution_count": 68,
   "metadata": {},
   "outputs": [
    {
     "data": {
      "text/plain": [
       "array([75, 60, 51, 77])"
      ]
     },
     "execution_count": 68,
     "metadata": {},
     "output_type": "execute_result"
    }
   ],
   "source": [
    "marks[marks > 50]"
   ]
  },
  {
   "cell_type": "code",
   "execution_count": 70,
   "metadata": {},
   "outputs": [
    {
     "data": {
      "text/plain": [
       "array([60, 51])"
      ]
     },
     "execution_count": 70,
     "metadata": {},
     "output_type": "execute_result"
    }
   ],
   "source": [
    "marks[(marks > 50) & (marks < 70)]"
   ]
  },
  {
   "cell_type": "markdown",
   "metadata": {},
   "source": [
    "### Clustering Alogrithms"
   ]
  },
  {
   "cell_type": "code",
   "execution_count": 71,
   "metadata": {},
   "outputs": [
    {
     "data": {
      "text/plain": [
       "array([[6, 6, 4, 8, 4],\n",
       "       [6, 8, 0, 9, 9],\n",
       "       [4, 6, 1, 8, 6],\n",
       "       [2, 8, 8, 5, 1],\n",
       "       [8, 7, 5, 7, 9],\n",
       "       [9, 2, 6, 7, 3],\n",
       "       [1, 0, 3, 3, 5],\n",
       "       [9, 7, 8, 1, 5],\n",
       "       [8, 9, 4, 0, 5],\n",
       "       [8, 5, 1, 4, 3],\n",
       "       [1, 9, 7, 5, 3],\n",
       "       [3, 0, 9, 5, 2],\n",
       "       [4, 6, 6, 0, 1],\n",
       "       [7, 2, 0, 2, 9],\n",
       "       [3, 9, 4, 7, 7],\n",
       "       [7, 9, 9, 4, 9],\n",
       "       [4, 6, 8, 2, 9],\n",
       "       [0, 5, 4, 3, 9],\n",
       "       [1, 7, 7, 9, 5],\n",
       "       [2, 0, 9, 9, 1],\n",
       "       [6, 2, 2, 7, 5],\n",
       "       [8, 7, 6, 8, 9],\n",
       "       [1, 3, 2, 6, 5],\n",
       "       [2, 7, 8, 9, 4],\n",
       "       [5, 3, 8, 5, 5],\n",
       "       [7, 2, 0, 2, 3],\n",
       "       [9, 2, 8, 2, 6],\n",
       "       [0, 4, 9, 2, 8],\n",
       "       [9, 3, 9, 8, 5],\n",
       "       [8, 5, 1, 2, 1],\n",
       "       [2, 6, 1, 1, 6],\n",
       "       [6, 0, 9, 7, 1],\n",
       "       [6, 4, 2, 2, 9],\n",
       "       [0, 6, 2, 9, 7],\n",
       "       [7, 9, 8, 5, 7],\n",
       "       [0, 8, 4, 0, 5],\n",
       "       [1, 3, 1, 4, 8],\n",
       "       [9, 7, 2, 7, 1],\n",
       "       [6, 0, 1, 4, 8],\n",
       "       [3, 7, 5, 1, 6],\n",
       "       [8, 5, 8, 9, 0],\n",
       "       [4, 5, 0, 6, 6],\n",
       "       [6, 5, 4, 1, 0],\n",
       "       [9, 6, 8, 0, 1],\n",
       "       [4, 9, 2, 0, 1],\n",
       "       [0, 5, 1, 7, 8],\n",
       "       [4, 2, 4, 3, 4],\n",
       "       [4, 3, 7, 4, 3],\n",
       "       [0, 7, 8, 9, 5],\n",
       "       [3, 1, 9, 2, 5],\n",
       "       [0, 3, 3, 2, 9],\n",
       "       [4, 1, 6, 5, 5],\n",
       "       [2, 5, 7, 5, 7],\n",
       "       [1, 7, 3, 8, 0],\n",
       "       [9, 9, 0, 9, 7],\n",
       "       [8, 9, 1, 3, 8],\n",
       "       [4, 5, 0, 4, 1],\n",
       "       [9, 6, 8, 9, 4],\n",
       "       [3, 4, 2, 0, 2],\n",
       "       [9, 7, 7, 1, 0],\n",
       "       [7, 5, 0, 9, 0],\n",
       "       [4, 6, 2, 6, 7],\n",
       "       [0, 3, 6, 4, 4],\n",
       "       [4, 9, 3, 1, 1],\n",
       "       [7, 1, 0, 6, 3],\n",
       "       [9, 1, 3, 7, 0],\n",
       "       [6, 5, 9, 2, 2],\n",
       "       [6, 1, 7, 7, 9],\n",
       "       [1, 9, 1, 0, 3],\n",
       "       [5, 7, 5, 9, 7],\n",
       "       [7, 0, 4, 9, 3],\n",
       "       [0, 7, 4, 1, 6],\n",
       "       [1, 5, 4, 0, 6],\n",
       "       [7, 2, 8, 0, 2],\n",
       "       [4, 0, 7, 6, 2],\n",
       "       [5, 0, 5, 5, 6],\n",
       "       [7, 8, 8, 2, 3],\n",
       "       [6, 1, 8, 8, 6],\n",
       "       [4, 1, 6, 8, 7],\n",
       "       [9, 2, 2, 1, 5],\n",
       "       [8, 0, 2, 7, 1],\n",
       "       [9, 2, 3, 0, 6],\n",
       "       [1, 9, 3, 3, 6],\n",
       "       [5, 5, 7, 0, 8],\n",
       "       [9, 9, 6, 5, 4],\n",
       "       [6, 7, 8, 5, 7],\n",
       "       [3, 6, 4, 0, 6],\n",
       "       [7, 6, 7, 1, 1],\n",
       "       [5, 2, 4, 8, 3],\n",
       "       [7, 0, 9, 3, 6],\n",
       "       [5, 1, 5, 1, 2],\n",
       "       [5, 7, 9, 8, 8],\n",
       "       [0, 0, 4, 5, 6],\n",
       "       [5, 6, 6, 3, 9],\n",
       "       [0, 9, 2, 6, 8],\n",
       "       [6, 8, 2, 3, 0],\n",
       "       [0, 6, 1, 1, 8],\n",
       "       [4, 7, 6, 1, 0],\n",
       "       [8, 0, 7, 3, 4],\n",
       "       [2, 8, 4, 0, 1]])"
      ]
     },
     "execution_count": 71,
     "metadata": {},
     "output_type": "execute_result"
    }
   ],
   "source": [
    "data = np.random.randint(0,10,(100,5))\n",
    "data"
   ]
  },
  {
   "cell_type": "code",
   "execution_count": 74,
   "metadata": {},
   "outputs": [],
   "source": [
    "### we are going to create 2 clusters.. so we select 2 random samples"
   ]
  },
  {
   "cell_type": "code",
   "execution_count": 72,
   "metadata": {},
   "outputs": [
    {
     "data": {
      "text/plain": [
       "array([6, 8, 0, 9, 9])"
      ]
     },
     "execution_count": 72,
     "metadata": {},
     "output_type": "execute_result"
    }
   ],
   "source": [
    "r1 = data[np.random.randint(0,100)]\n",
    "r1"
   ]
  },
  {
   "cell_type": "code",
   "execution_count": 73,
   "metadata": {},
   "outputs": [
    {
     "data": {
      "text/plain": [
       "array([3, 9, 4, 7, 7])"
      ]
     },
     "execution_count": 73,
     "metadata": {},
     "output_type": "execute_result"
    }
   ],
   "source": [
    "r2 = data[np.random.randint(0,100)]\n",
    "r2"
   ]
  },
  {
   "cell_type": "code",
   "execution_count": 76,
   "metadata": {},
   "outputs": [
    {
     "data": {
      "text/plain": [
       "100"
      ]
     },
     "execution_count": 76,
     "metadata": {},
     "output_type": "execute_result"
    }
   ],
   "source": [
    "distance_r1 =  np.sqrt(((r1-data) * (r1-data)).sum(axis=1))\n",
    "len(distance_r1)"
   ]
  },
  {
   "cell_type": "code",
   "execution_count": 77,
   "metadata": {},
   "outputs": [
    {
     "data": {
      "text/plain": [
       "100"
      ]
     },
     "execution_count": 77,
     "metadata": {},
     "output_type": "execute_result"
    }
   ],
   "source": [
    "distance_r2 =  np.sqrt(((r2-data) * (r2-data)).sum(axis=1))\n",
    "len(distance_r2)"
   ]
  },
  {
   "cell_type": "code",
   "execution_count": 79,
   "metadata": {},
   "outputs": [
    {
     "data": {
      "text/plain": [
       "array([False,  True,  True, False, False, False, False, False, False,\n",
       "       False, False, False, False,  True, False, False, False, False,\n",
       "       False, False,  True, False, False, False, False, False, False,\n",
       "       False, False, False, False, False, False, False, False, False,\n",
       "       False, False,  True, False, False,  True, False, False, False,\n",
       "       False, False, False, False, False, False, False, False, False,\n",
       "        True,  True, False, False, False, False,  True, False, False,\n",
       "       False,  True, False, False, False, False, False, False, False,\n",
       "       False, False, False, False, False, False, False, False,  True,\n",
       "       False, False, False, False, False, False, False, False, False,\n",
       "       False, False, False, False, False, False, False, False, False,\n",
       "       False])"
      ]
     },
     "execution_count": 79,
     "metadata": {},
     "output_type": "execute_result"
    }
   ],
   "source": [
    "distance_r2 > distance_r1"
   ]
  },
  {
   "cell_type": "code",
   "execution_count": null,
   "metadata": {},
   "outputs": [],
   "source": [
    "### To find all records closer to r1"
   ]
  },
  {
   "cell_type": "code",
   "execution_count": 80,
   "metadata": {},
   "outputs": [
    {
     "data": {
      "text/plain": [
       "array([[6, 8, 0, 9, 9],\n",
       "       [4, 6, 1, 8, 6],\n",
       "       [7, 2, 0, 2, 9],\n",
       "       [6, 2, 2, 7, 5],\n",
       "       [6, 0, 1, 4, 8],\n",
       "       [4, 5, 0, 6, 6],\n",
       "       [9, 9, 0, 9, 7],\n",
       "       [8, 9, 1, 3, 8],\n",
       "       [7, 5, 0, 9, 0],\n",
       "       [7, 1, 0, 6, 3],\n",
       "       [8, 0, 2, 7, 1]])"
      ]
     },
     "execution_count": 80,
     "metadata": {},
     "output_type": "execute_result"
    }
   ],
   "source": [
    "data[distance_r2 > distance_r1]"
   ]
  },
  {
   "cell_type": "code",
   "execution_count": null,
   "metadata": {},
   "outputs": [],
   "source": [
    "### To find all records closer to r2"
   ]
  },
  {
   "cell_type": "code",
   "execution_count": 81,
   "metadata": {
    "scrolled": true
   },
   "outputs": [
    {
     "data": {
      "text/plain": [
       "array([[6, 6, 4, 8, 4],\n",
       "       [2, 8, 8, 5, 1],\n",
       "       [9, 2, 6, 7, 3],\n",
       "       [1, 0, 3, 3, 5],\n",
       "       [9, 7, 8, 1, 5],\n",
       "       [8, 9, 4, 0, 5],\n",
       "       [1, 9, 7, 5, 3],\n",
       "       [3, 0, 9, 5, 2],\n",
       "       [4, 6, 6, 0, 1],\n",
       "       [3, 9, 4, 7, 7],\n",
       "       [7, 9, 9, 4, 9],\n",
       "       [4, 6, 8, 2, 9],\n",
       "       [0, 5, 4, 3, 9],\n",
       "       [1, 7, 7, 9, 5],\n",
       "       [2, 0, 9, 9, 1],\n",
       "       [8, 7, 6, 8, 9],\n",
       "       [1, 3, 2, 6, 5],\n",
       "       [2, 7, 8, 9, 4],\n",
       "       [5, 3, 8, 5, 5],\n",
       "       [9, 2, 8, 2, 6],\n",
       "       [0, 4, 9, 2, 8],\n",
       "       [9, 3, 9, 8, 5],\n",
       "       [8, 5, 1, 2, 1],\n",
       "       [2, 6, 1, 1, 6],\n",
       "       [6, 0, 9, 7, 1],\n",
       "       [6, 4, 2, 2, 9],\n",
       "       [0, 6, 2, 9, 7],\n",
       "       [7, 9, 8, 5, 7],\n",
       "       [0, 8, 4, 0, 5],\n",
       "       [1, 3, 1, 4, 8],\n",
       "       [9, 7, 2, 7, 1],\n",
       "       [3, 7, 5, 1, 6],\n",
       "       [8, 5, 8, 9, 0],\n",
       "       [6, 5, 4, 1, 0],\n",
       "       [9, 6, 8, 0, 1],\n",
       "       [4, 9, 2, 0, 1],\n",
       "       [0, 5, 1, 7, 8],\n",
       "       [4, 2, 4, 3, 4],\n",
       "       [4, 3, 7, 4, 3],\n",
       "       [0, 7, 8, 9, 5],\n",
       "       [3, 1, 9, 2, 5],\n",
       "       [0, 3, 3, 2, 9],\n",
       "       [4, 1, 6, 5, 5],\n",
       "       [2, 5, 7, 5, 7],\n",
       "       [1, 7, 3, 8, 0],\n",
       "       [4, 5, 0, 4, 1],\n",
       "       [9, 6, 8, 9, 4],\n",
       "       [3, 4, 2, 0, 2],\n",
       "       [9, 7, 7, 1, 0],\n",
       "       [4, 6, 2, 6, 7],\n",
       "       [0, 3, 6, 4, 4],\n",
       "       [4, 9, 3, 1, 1],\n",
       "       [9, 1, 3, 7, 0],\n",
       "       [6, 5, 9, 2, 2],\n",
       "       [6, 1, 7, 7, 9],\n",
       "       [1, 9, 1, 0, 3],\n",
       "       [5, 7, 5, 9, 7],\n",
       "       [0, 7, 4, 1, 6],\n",
       "       [1, 5, 4, 0, 6],\n",
       "       [7, 2, 8, 0, 2],\n",
       "       [4, 0, 7, 6, 2],\n",
       "       [5, 0, 5, 5, 6],\n",
       "       [7, 8, 8, 2, 3],\n",
       "       [6, 1, 8, 8, 6],\n",
       "       [4, 1, 6, 8, 7],\n",
       "       [9, 2, 3, 0, 6],\n",
       "       [1, 9, 3, 3, 6],\n",
       "       [5, 5, 7, 0, 8],\n",
       "       [9, 9, 6, 5, 4],\n",
       "       [6, 7, 8, 5, 7],\n",
       "       [3, 6, 4, 0, 6],\n",
       "       [7, 6, 7, 1, 1],\n",
       "       [5, 2, 4, 8, 3],\n",
       "       [7, 0, 9, 3, 6],\n",
       "       [5, 1, 5, 1, 2],\n",
       "       [5, 7, 9, 8, 8],\n",
       "       [0, 0, 4, 5, 6],\n",
       "       [5, 6, 6, 3, 9],\n",
       "       [0, 9, 2, 6, 8],\n",
       "       [6, 8, 2, 3, 0],\n",
       "       [0, 6, 1, 1, 8],\n",
       "       [4, 7, 6, 1, 0],\n",
       "       [8, 0, 7, 3, 4],\n",
       "       [2, 8, 4, 0, 1]])"
      ]
     },
     "execution_count": 81,
     "metadata": {},
     "output_type": "execute_result"
    }
   ],
   "source": [
    "data[distance_r1 > distance_r2]"
   ]
  },
  {
   "cell_type": "code",
   "execution_count": null,
   "metadata": {},
   "outputs": [],
   "source": [
    "### Segmentation of bank customers"
   ]
  },
  {
   "cell_type": "code",
   "execution_count": 91,
   "metadata": {},
   "outputs": [
    {
     "data": {
      "text/plain": [
       "(398, 3)"
      ]
     },
     "execution_count": 91,
     "metadata": {},
     "output_type": "execute_result"
    }
   ],
   "source": [
    "import seaborn as sns\n",
    "df = sns.load_dataset(\"mpg\")\n",
    "dataset = df[['weight','horsepower','mpg']]\n",
    "dataset.head()\n",
    "dataset.values.shape"
   ]
  },
  {
   "cell_type": "code",
   "execution_count": 95,
   "metadata": {},
   "outputs": [],
   "source": [
    "data = dataset.values"
   ]
  },
  {
   "cell_type": "code",
   "execution_count": 96,
   "metadata": {},
   "outputs": [
    {
     "data": {
      "text/plain": [
       "array([3021.,   88.,   18.])"
      ]
     },
     "execution_count": 96,
     "metadata": {},
     "output_type": "execute_result"
    }
   ],
   "source": [
    "cluster1 = data[100]\n",
    "cluster1"
   ]
  },
  {
   "cell_type": "code",
   "execution_count": 97,
   "metadata": {},
   "outputs": [
    {
     "data": {
      "text/plain": [
       "array([2391.,   93.,   26.])"
      ]
     },
     "execution_count": 97,
     "metadata": {},
     "output_type": "execute_result"
    }
   ],
   "source": [
    "cluster2 = data[150]\n",
    "cluster2"
   ]
  },
  {
   "cell_type": "code",
   "execution_count": 98,
   "metadata": {},
   "outputs": [
    {
     "data": {
      "text/plain": [
       "array([3574.,   78.,   18.])"
      ]
     },
     "execution_count": 98,
     "metadata": {},
     "output_type": "execute_result"
    }
   ],
   "source": [
    "cluster3 = data[200]\n",
    "cluster3"
   ]
  },
  {
   "cell_type": "code",
   "execution_count": 123,
   "metadata": {},
   "outputs": [],
   "source": [
    "distance_cluster1 =  np.sqrt(((cluster1-data) * (cluster1-data)).sum(axis=1))"
   ]
  },
  {
   "cell_type": "code",
   "execution_count": 124,
   "metadata": {},
   "outputs": [],
   "source": [
    "distance_cluster2 =  np.sqrt(((cluster2-data) * (cluster2-data)).sum(axis=1))"
   ]
  },
  {
   "cell_type": "code",
   "execution_count": 125,
   "metadata": {},
   "outputs": [],
   "source": [
    "distance_cluster3 =  np.sqrt(((cluster3-data) * (cluster3-data)).sum(axis=1))"
   ]
  },
  {
   "cell_type": "code",
   "execution_count": 110,
   "metadata": {},
   "outputs": [
    {
     "data": {
      "text/plain": [
       "(398, 398, 398)"
      ]
     },
     "execution_count": 110,
     "metadata": {},
     "output_type": "execute_result"
    }
   ],
   "source": [
    "len(distance_cluster1),len(distance_cluster2),len(distance_cluster3)"
   ]
  },
  {
   "cell_type": "code",
   "execution_count": 112,
   "metadata": {},
   "outputs": [],
   "source": [
    "distance_matrix = np.array([distance_cluster1,distance_cluster2,distance_cluster3])"
   ]
  },
  {
   "cell_type": "code",
   "execution_count": 113,
   "metadata": {},
   "outputs": [
    {
     "data": {
      "text/plain": [
       "(3, 398)"
      ]
     },
     "execution_count": 113,
     "metadata": {},
     "output_type": "execute_result"
    }
   ],
   "source": [
    "distance_matrix.shape"
   ]
  },
  {
   "cell_type": "code",
   "execution_count": null,
   "metadata": {},
   "outputs": [],
   "source": [
    "### above we got 3 rows and 398 columns.. if we want to get 398 rows and 3 columns do a transpose"
   ]
  },
  {
   "cell_type": "code",
   "execution_count": 114,
   "metadata": {},
   "outputs": [
    {
     "data": {
      "text/plain": [
       "(398, 3)"
      ]
     },
     "execution_count": 114,
     "metadata": {},
     "output_type": "execute_result"
    }
   ],
   "source": [
    "distance_matrix_t = distance_matrix.T\n",
    "distance_matrix_t.shape"
   ]
  },
  {
   "cell_type": "code",
   "execution_count": 115,
   "metadata": {},
   "outputs": [],
   "source": [
    "### below line finds the min value for each row and it's argument.. The argument represents each cluster"
   ]
  },
  {
   "cell_type": "code",
   "execution_count": 116,
   "metadata": {},
   "outputs": [],
   "source": [
    "distance_flag = distance_matrix_t.argmin(axis=1)"
   ]
  },
  {
   "cell_type": "code",
   "execution_count": 117,
   "metadata": {},
   "outputs": [
    {
     "data": {
      "text/plain": [
       "array([[3504. ,  130. ,   18. ],\n",
       "       [3693. ,  165. ,   15. ],\n",
       "       [3436. ,  150. ,   18. ],\n",
       "       [3433. ,  150. ,   16. ],\n",
       "       [3449. ,  140. ,   17. ],\n",
       "       [4341. ,  198. ,   15. ],\n",
       "       [4354. ,  220. ,   14. ],\n",
       "       [4312. ,  215. ,   14. ],\n",
       "       [4425. ,  225. ,   14. ],\n",
       "       [3850. ,  190. ,   15. ],\n",
       "       [3563. ,  170. ,   15. ],\n",
       "       [3609. ,  160. ,   14. ],\n",
       "       [3761. ,  150. ,   15. ],\n",
       "       [3086. ,  225. ,   14. ],\n",
       "       [2833. ,   95. ,   22. ],\n",
       "       [2774. ,   97. ,   18. ],\n",
       "       [4615. ,  215. ,   10. ],\n",
       "       [4376. ,  200. ,   10. ],\n",
       "       [4382. ,  210. ,   11. ],\n",
       "       [4732. ,  193. ,    9. ],\n",
       "       [2046. ,    nan,   25. ],\n",
       "       [3439. ,  105. ,   16. ],\n",
       "       [3329. ,  100. ,   17. ],\n",
       "       [3302. ,   88. ,   19. ],\n",
       "       [3288. ,  100. ,   18. ],\n",
       "       [4209. ,  165. ,   14. ],\n",
       "       [4464. ,  175. ,   14. ],\n",
       "       [4154. ,  153. ,   14. ],\n",
       "       [4096. ,  150. ,   14. ],\n",
       "       [4955. ,  180. ,   12. ],\n",
       "       [4746. ,  170. ,   13. ],\n",
       "       [5140. ,  175. ,   13. ],\n",
       "       [2962. ,  110. ,   18. ],\n",
       "       [3282. ,  100. ,   19. ],\n",
       "       [3139. ,   88. ,   18. ],\n",
       "       [4274. ,  165. ,   13. ],\n",
       "       [4385. ,  175. ,   14. ],\n",
       "       [4135. ,  150. ,   15. ],\n",
       "       [4129. ,  153. ,   14. ],\n",
       "       [3672. ,  150. ,   17. ],\n",
       "       [4633. ,  208. ,   11. ],\n",
       "       [4502. ,  155. ,   13. ],\n",
       "       [4456. ,  160. ,   12. ],\n",
       "       [4422. ,  190. ,   13. ],\n",
       "       [3892. ,  150. ,   15. ],\n",
       "       [4098. ,  130. ,   13. ],\n",
       "       [4294. ,  140. ,   13. ],\n",
       "       [4077. ,  150. ,   14. ],\n",
       "       [2933. ,  112. ,   18. ],\n",
       "       [2979. ,   87. ,   21. ],\n",
       "       [4100. ,  175. ,   13. ],\n",
       "       [3672. ,  150. ,   14. ],\n",
       "       [3988. ,  145. ,   13. ],\n",
       "       [4042. ,  137. ,   14. ],\n",
       "       [3777. ,  150. ,   15. ],\n",
       "       [4952. ,  198. ,   12. ],\n",
       "       [4464. ,  150. ,   13. ],\n",
       "       [4363. ,  158. ,   13. ],\n",
       "       [4237. ,  150. ,   14. ],\n",
       "       [4735. ,  215. ,   13. ],\n",
       "       [4951. ,  225. ,   12. ],\n",
       "       [3821. ,  175. ,   13. ],\n",
       "       [3121. ,  105. ,   18. ],\n",
       "       [3278. ,  100. ,   16. ],\n",
       "       [2945. ,  100. ,   18. ],\n",
       "       [3021. ,   88. ,   18. ],\n",
       "       [2904. ,   95. ,   23. ],\n",
       "       [4997. ,  150. ,   11. ],\n",
       "       [4906. ,  167. ,   12. ],\n",
       "       [4654. ,  170. ,   13. ],\n",
       "       [4499. ,  180. ,   12. ],\n",
       "       [2789. ,  100. ,   18. ],\n",
       "       [4082. ,  145. ,   15. ],\n",
       "       [4278. ,  230. ,   16. ],\n",
       "       [2868. ,  112. ,   19. ],\n",
       "       [3399. ,  150. ,   15. ],\n",
       "       [2807. ,  122. ,   20. ],\n",
       "       [3664. ,  180. ,   11. ],\n",
       "       [3102. ,   95. ,   20. ],\n",
       "       [2875. ,    nan,   21. ],\n",
       "       [2901. ,  100. ,   19. ],\n",
       "       [3336. ,  100. ,   15. ],\n",
       "       [3781. ,  100. ,   16. ],\n",
       "       [3632. ,  110. ,   16. ],\n",
       "       [3613. ,  105. ,   18. ],\n",
       "       [4141. ,  140. ,   16. ],\n",
       "       [4699. ,  150. ,   13. ],\n",
       "       [4457. ,  150. ,   14. ],\n",
       "       [4638. ,  140. ,   14. ],\n",
       "       [4257. ,  150. ,   14. ],\n",
       "       [3264. ,   95. ,   19. ],\n",
       "       [3459. ,  105. ,   18. ],\n",
       "       [3432. ,   72. ,   15. ],\n",
       "       [3158. ,   72. ,   15. ],\n",
       "       [4668. ,  170. ,   16. ],\n",
       "       [4440. ,  145. ,   15. ],\n",
       "       [4498. ,  150. ,   16. ],\n",
       "       [4657. ,  148. ,   14. ],\n",
       "       [3907. ,  110. ,   17. ],\n",
       "       [3897. ,  105. ,   16. ],\n",
       "       [3730. ,  110. ,   15. ],\n",
       "       [3785. ,   95. ,   18. ],\n",
       "       [3039. ,  110. ,   21. ],\n",
       "       [3221. ,  110. ,   20. ],\n",
       "       [3169. ,  129. ,   13. ],\n",
       "       [2914. ,  100. ,   20. ],\n",
       "       [2984. ,   97. ,   18. ],\n",
       "       [3211. ,   90. ,   19. ],\n",
       "       [2957. ,   88. ,   23. ],\n",
       "       [2945. ,   98. ,   22. ],\n",
       "       [4215. ,  140. ,   17.5],\n",
       "       [4190. ,  150. ,   16. ],\n",
       "       [3962. ,  120. ,   15.5],\n",
       "       [4215. ,  152. ,   14.5],\n",
       "       [3233. ,  100. ,   22. ],\n",
       "       [3353. ,  105. ,   22. ],\n",
       "       [3012. ,   81. ,   24. ],\n",
       "       [3085. ,   90. ,   22.5],\n",
       "       [3651. ,  100. ,   20. ],\n",
       "       [3574. ,   78. ,   18. ],\n",
       "       [3645. ,  110. ,   18.5],\n",
       "       [3193. ,   95. ,   17.5],\n",
       "       [3150. ,  102. ,   20. ],\n",
       "       [3940. ,  150. ,   13. ],\n",
       "       [3270. ,   88. ,   19. ],\n",
       "       [2930. ,  108. ,   19. ],\n",
       "       [3820. ,  120. ,   16.5],\n",
       "       [4380. ,  180. ,   16.5],\n",
       "       [4055. ,  145. ,   13. ],\n",
       "       [3870. ,  130. ,   13. ],\n",
       "       [3755. ,  150. ,   13. ],\n",
       "       [3880. ,  145. ,   17.5],\n",
       "       [4060. ,  110. ,   17. ],\n",
       "       [4140. ,  145. ,   15.5],\n",
       "       [4295. ,  130. ,   15. ],\n",
       "       [3520. ,  110. ,   17.5],\n",
       "       [3425. ,  105. ,   20.5],\n",
       "       [3630. ,  100. ,   19. ],\n",
       "       [3525. ,   98. ,   18.5],\n",
       "       [4220. ,  180. ,   16. ],\n",
       "       [4165. ,  170. ,   15.5],\n",
       "       [4325. ,  190. ,   15.5],\n",
       "       [4335. ,  149. ,   16. ],\n",
       "       [2740. ,   88. ,   24.5],\n",
       "       [2755. ,   89. ,   25.5],\n",
       "       [2815. ,   97. ,   22. ],\n",
       "       [2720. ,  110. ,   21.5],\n",
       "       [3365. ,  110. ,   19.9],\n",
       "       [3735. ,  140. ,   19.4],\n",
       "       [3570. ,  139. ,   20.2],\n",
       "       [3535. ,  105. ,   19.2],\n",
       "       [3155. ,   95. ,   20.5],\n",
       "       [2965. ,   85. ,   20.2],\n",
       "       [2720. ,   88. ,   25.1],\n",
       "       [3430. ,  100. ,   20.5],\n",
       "       [3210. ,   90. ,   19.4],\n",
       "       [3380. ,  105. ,   20.6],\n",
       "       [3070. ,   85. ,   20.8],\n",
       "       [3620. ,  110. ,   18.6],\n",
       "       [3410. ,  120. ,   18.1],\n",
       "       [3425. ,  145. ,   19.2],\n",
       "       [3445. ,  165. ,   17.7],\n",
       "       [3205. ,  139. ,   18.1],\n",
       "       [4080. ,  140. ,   17.5],\n",
       "       [2745. ,  105. ,   23.2],\n",
       "       [2855. ,   85. ,   23.8],\n",
       "       [2830. ,  103. ,   20.3],\n",
       "       [3140. ,  125. ,   17. ],\n",
       "       [2795. ,  115. ,   21.6],\n",
       "       [3410. ,  133. ,   16.2],\n",
       "       [3245. ,  115. ,   21.5],\n",
       "       [2990. ,   85. ,   19.8],\n",
       "       [2890. ,   88. ,   22.3],\n",
       "       [3265. ,   90. ,   20.2],\n",
       "       [3360. ,  110. ,   20.6],\n",
       "       [3840. ,  130. ,   17. ],\n",
       "       [3725. ,  129. ,   17.6],\n",
       "       [3955. ,  138. ,   16.5],\n",
       "       [3830. ,  135. ,   18.2],\n",
       "       [4360. ,  155. ,   16.9],\n",
       "       [4054. ,  142. ,   15.5],\n",
       "       [3605. ,  125. ,   19.2],\n",
       "       [3940. ,  150. ,   18.5],\n",
       "       [3530. ,   77. ,   25.4],\n",
       "       [3900. ,  125. ,   23. ],\n",
       "       [3190. ,   71. ,   27.2],\n",
       "       [3420. ,   90. ,   23.9],\n",
       "       [2870. ,   88. ,   26.4],\n",
       "       [3003. ,   90. ,   24.3],\n",
       "       [3381. ,   90. ,   19.1],\n",
       "       [2711. ,   90. ,   29.8],\n",
       "       [2800. ,  105. ,   27.9],\n",
       "       [2950. ,   67. ,   36.4],\n",
       "       [3250. ,   67. ,   30. ],\n",
       "       [1835. ,    nan,   40.9],\n",
       "       [2910. ,  132. ,   32.7],\n",
       "       [2905. ,    nan,   23.6],\n",
       "       [2725. ,  110. ,   23.5],\n",
       "       [2320. ,    nan,   34.5],\n",
       "       [3230. ,   80. ,   28.1],\n",
       "       [3160. ,   76. ,   30.7],\n",
       "       [2900. ,  116. ,   25.4],\n",
       "       [2930. ,  120. ,   24.2],\n",
       "       [3415. ,  110. ,   22.4],\n",
       "       [3725. ,  105. ,   26.6],\n",
       "       [3060. ,   88. ,   20.2],\n",
       "       [3465. ,   85. ,   17.6],\n",
       "       [2735. ,   90. ,   27. ],\n",
       "       [2865. ,   92. ,   24. ],\n",
       "       [3035. ,    nan,   23. ],\n",
       "       [2945. ,  110. ,   25. ],\n",
       "       [3015. ,   85. ,   38. ],\n",
       "       [2835. ,  112. ,   22. ],\n",
       "       [2950. ,   90. ,   27. ],\n",
       "       [2790. ,   86. ,   27. ],\n",
       "       [2720. ,   82. ,   31. ]])"
      ]
     },
     "execution_count": 117,
     "metadata": {},
     "output_type": "execute_result"
    }
   ],
   "source": [
    "### To find records falling in cluster 1 \n",
    "data[distance_flag == 0]"
   ]
  },
  {
   "cell_type": "code",
   "execution_count": 118,
   "metadata": {},
   "outputs": [
    {
     "data": {
      "text/plain": [
       "array([[2372. ,   95. ,   24. ],\n",
       "       [2587. ,   85. ,   21. ],\n",
       "       [2130. ,   88. ,   27. ],\n",
       "       [1835. ,   46. ,   26. ],\n",
       "       [2672. ,   87. ,   25. ],\n",
       "       [2430. ,   90. ,   24. ],\n",
       "       [2375. ,   95. ,   25. ],\n",
       "       [2234. ,  113. ,   26. ],\n",
       "       [2648. ,   90. ,   21. ],\n",
       "       [2130. ,   88. ,   27. ],\n",
       "       [2264. ,   90. ,   28. ],\n",
       "       [2228. ,   95. ,   25. ],\n",
       "       [2634. ,  100. ,   19. ],\n",
       "       [2408. ,   72. ,   22. ],\n",
       "       [2220. ,   86. ,   23. ],\n",
       "       [2123. ,   90. ,   28. ],\n",
       "       [2074. ,   70. ,   30. ],\n",
       "       [2065. ,   76. ,   30. ],\n",
       "       [1773. ,   65. ,   31. ],\n",
       "       [1613. ,   69. ,   35. ],\n",
       "       [1834. ,   60. ,   27. ],\n",
       "       [1955. ,   70. ,   26. ],\n",
       "       [2278. ,   95. ,   24. ],\n",
       "       [2126. ,   80. ,   25. ],\n",
       "       [2254. ,   54. ,   23. ],\n",
       "       [2408. ,   90. ,   20. ],\n",
       "       [2226. ,   86. ,   21. ],\n",
       "       [2330. ,   97. ,   19. ],\n",
       "       [2511. ,   76. ,   22. ],\n",
       "       [2189. ,   69. ,   26. ],\n",
       "       [2395. ,   86. ,   22. ],\n",
       "       [2288. ,   92. ,   28. ],\n",
       "       [2506. ,   97. ,   23. ],\n",
       "       [2164. ,   80. ,   28. ],\n",
       "       [2100. ,   88. ,   27. ],\n",
       "       [1950. ,   46. ,   26. ],\n",
       "       [2279. ,   88. ,   20. ],\n",
       "       [2401. ,   72. ,   21. ],\n",
       "       [2379. ,   94. ,   22. ],\n",
       "       [2124. ,   90. ,   18. ],\n",
       "       [2310. ,   85. ,   19. ],\n",
       "       [2472. ,  107. ,   21. ],\n",
       "       [2265. ,   90. ,   26. ],\n",
       "       [1867. ,   49. ,   29. ],\n",
       "       [2158. ,   75. ,   24. ],\n",
       "       [2582. ,   91. ,   20. ],\n",
       "       [2660. ,  110. ,   24. ],\n",
       "       [1950. ,   67. ,   31. ],\n",
       "       [2451. ,   80. ,   26. ],\n",
       "       [1836. ,   65. ,   32. ],\n",
       "       [2542. ,   75. ,   25. ],\n",
       "       [2219. ,   83. ,   29. ],\n",
       "       [1963. ,   67. ,   26. ],\n",
       "       [2300. ,   78. ,   26. ],\n",
       "       [1649. ,   52. ,   31. ],\n",
       "       [2003. ,   61. ,   32. ],\n",
       "       [2125. ,   75. ,   28. ],\n",
       "       [2108. ,   75. ,   24. ],\n",
       "       [2246. ,   75. ,   26. ],\n",
       "       [2489. ,   97. ,   24. ],\n",
       "       [2391. ,   93. ,   26. ],\n",
       "       [2000. ,   67. ,   31. ],\n",
       "       [2171. ,   75. ,   29. ],\n",
       "       [2639. ,   83. ,   23. ],\n",
       "       [2592. ,   78. ,   23. ],\n",
       "       [2702. ,   96. ,   24. ],\n",
       "       [2223. ,   71. ,   25. ],\n",
       "       [2545. ,   97. ,   24. ],\n",
       "       [1937. ,   70. ,   29. ],\n",
       "       [2694. ,   95. ,   23. ],\n",
       "       [2671. ,  115. ,   25. ],\n",
       "       [1795. ,   53. ,   33. ],\n",
       "       [2464. ,   86. ,   28. ],\n",
       "       [2220. ,   81. ,   25. ],\n",
       "       [2572. ,   92. ,   25. ],\n",
       "       [2255. ,   79. ,   26. ],\n",
       "       [2202. ,   83. ,   27. ],\n",
       "       [2035. ,   52. ,   29. ],\n",
       "       [2164. ,   60. ,   24.5],\n",
       "       [1937. ,   70. ,   29. ],\n",
       "       [1795. ,   53. ,   33. ],\n",
       "       [1825. ,   71. ,   29.5],\n",
       "       [1990. ,   70. ,   32. ],\n",
       "       [2155. ,   75. ,   28. ],\n",
       "       [2565. ,   72. ,   26.5],\n",
       "       [2045. ,   68. ,   31.5],\n",
       "       [2155. ,   80. ,   30. ],\n",
       "       [1825. ,   58. ,   36. ],\n",
       "       [2300. ,   96. ,   25.5],\n",
       "       [1945. ,   70. ,   33.5],\n",
       "       [1940. ,   78. ,   29. ],\n",
       "       [2265. ,   75. ,   26. ],\n",
       "       [2051. ,   63. ,   30.5],\n",
       "       [2075. ,   83. ,   33.5],\n",
       "       [1985. ,   67. ,   30. ],\n",
       "       [2190. ,   78. ,   30.5],\n",
       "       [2600. ,  110. ,   21.5],\n",
       "       [1985. ,   48. ,   43.1],\n",
       "       [1800. ,   66. ,   36.1],\n",
       "       [1985. ,   52. ,   32.8],\n",
       "       [2070. ,   70. ,   39.4],\n",
       "       [1800. ,   60. ,   36.1],\n",
       "       [2155. ,   68. ,   30. ],\n",
       "       [2560. ,   95. ,   27.5],\n",
       "       [2300. ,   97. ,   27.2],\n",
       "       [2230. ,   75. ,   30.9],\n",
       "       [2515. ,   95. ,   21.1],\n",
       "       [2405. ,   97. ,   23.9],\n",
       "       [1990. ,   71. ,   31.5],\n",
       "       [2135. ,   68. ,   29.5],\n",
       "       [1925. ,   71. ,   31.9],\n",
       "       [1975. ,   65. ,   34.1],\n",
       "       [1915. ,   80. ,   35.7],\n",
       "       [2670. ,   80. ,   27.4],\n",
       "       [2200. ,   70. ,   34.2],\n",
       "       [2150. ,   70. ,   34.5],\n",
       "       [2020. ,   65. ,   31.8],\n",
       "       [2130. ,   69. ,   37.3],\n",
       "       [2670. ,   90. ,   28.4],\n",
       "       [2595. ,  115. ,   28.8],\n",
       "       [2700. ,  115. ,   26.8],\n",
       "       [2556. ,   90. ,   33.5],\n",
       "       [2144. ,   76. ,   41.5],\n",
       "       [1968. ,   60. ,   38.1],\n",
       "       [2120. ,   70. ,   32.1],\n",
       "       [2019. ,   65. ,   37.2],\n",
       "       [2678. ,   90. ,   28. ],\n",
       "       [2188. ,   78. ,   34.3],\n",
       "       [2542. ,   75. ,   31.3],\n",
       "       [2434. ,   92. ,   37. ],\n",
       "       [2265. ,   75. ,   32.2],\n",
       "       [2110. ,   65. ,   46.6],\n",
       "       [2110. ,   65. ,   40.8],\n",
       "       [2085. ,   48. ,   44.3],\n",
       "       [2335. ,   48. ,   43.4],\n",
       "       [1850. ,   67. ,   44.6],\n",
       "       [2145. ,   67. ,   33.8],\n",
       "       [1845. ,   62. ,   29.8],\n",
       "       [2420. ,  100. ,   23.7],\n",
       "       [2500. ,   88. ,   35. ],\n",
       "       [2290. ,   72. ,   32.4],\n",
       "       [2490. ,   84. ,   27.2],\n",
       "       [2635. ,   84. ,   26.6],\n",
       "       [2620. ,   92. ,   25.8],\n",
       "       [2385. ,   84. ,   30. ],\n",
       "       [1755. ,   58. ,   39.1],\n",
       "       [1875. ,   64. ,   39. ],\n",
       "       [1760. ,   60. ,   35.1],\n",
       "       [2065. ,   67. ,   32.3],\n",
       "       [1975. ,   65. ,   37. ],\n",
       "       [2050. ,   62. ,   37.7],\n",
       "       [1985. ,   68. ,   34.1],\n",
       "       [2215. ,   63. ,   34.7],\n",
       "       [2045. ,   65. ,   34.4],\n",
       "       [2380. ,   65. ,   29.9],\n",
       "       [2190. ,   74. ,   33. ],\n",
       "       [2210. ,   75. ,   33.7],\n",
       "       [2350. ,   75. ,   32.4],\n",
       "       [2615. ,  100. ,   32.9],\n",
       "       [2635. ,   74. ,   31.6],\n",
       "       [2605. ,   88. ,   28. ],\n",
       "       [2640. ,   88. ,   27. ],\n",
       "       [2395. ,   88. ,   34. ],\n",
       "       [2575. ,   85. ,   31. ],\n",
       "       [2525. ,   84. ,   29. ],\n",
       "       [1980. ,   74. ,   36. ],\n",
       "       [2025. ,   68. ,   37. ],\n",
       "       [1970. ,   68. ,   31. ],\n",
       "       [2125. ,   63. ,   38. ],\n",
       "       [2125. ,   70. ,   36. ],\n",
       "       [2160. ,   88. ,   36. ],\n",
       "       [2205. ,   75. ,   36. ],\n",
       "       [2245. ,   70. ,   34. ],\n",
       "       [1965. ,   67. ,   38. ],\n",
       "       [1965. ,   67. ,   32. ],\n",
       "       [1995. ,   67. ,   38. ],\n",
       "       [2585. ,   92. ,   26. ],\n",
       "       [2665. ,   96. ,   32. ],\n",
       "       [2370. ,   84. ,   36. ],\n",
       "       [2130. ,   52. ,   44. ],\n",
       "       [2295. ,   84. ,   32. ],\n",
       "       [2625. ,   79. ,   28. ]])"
      ]
     },
     "execution_count": 118,
     "metadata": {},
     "output_type": "execute_result"
    }
   ],
   "source": [
    "data[distance_flag == 1]"
   ]
  },
  {
   "cell_type": "code",
   "execution_count": 120,
   "metadata": {},
   "outputs": [
    {
     "data": {
      "text/plain": [
       "array([], shape=(0, 3), dtype=float64)"
      ]
     },
     "execution_count": 120,
     "metadata": {},
     "output_type": "execute_result"
    }
   ],
   "source": [
    "data[distance_flag == 2]"
   ]
  },
  {
   "cell_type": "code",
   "execution_count": 122,
   "metadata": {},
   "outputs": [
    {
     "data": {
      "text/plain": [
       "((216, 3), (182, 3), (0, 3))"
      ]
     },
     "execution_count": 122,
     "metadata": {},
     "output_type": "execute_result"
    }
   ],
   "source": [
    "data[distance_flag == 0].shape,data[distance_flag == 1].shape,data[distance_flag == 2].shape"
   ]
  },
  {
   "cell_type": "code",
   "execution_count": null,
   "metadata": {},
   "outputs": [],
   "source": []
  },
  {
   "cell_type": "code",
   "execution_count": null,
   "metadata": {},
   "outputs": [],
   "source": []
  }
 ],
 "metadata": {
  "kernelspec": {
   "display_name": "Python 3",
   "language": "python",
   "name": "python3"
  },
  "language_info": {
   "codemirror_mode": {
    "name": "ipython",
    "version": 3
   },
   "file_extension": ".py",
   "mimetype": "text/x-python",
   "name": "python",
   "nbconvert_exporter": "python",
   "pygments_lexer": "ipython3",
   "version": "3.7.4"
  }
 },
 "nbformat": 4,
 "nbformat_minor": 2
}
