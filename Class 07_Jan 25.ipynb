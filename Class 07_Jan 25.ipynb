{
 "cells": [
  {
   "cell_type": "markdown",
   "metadata": {},
   "source": [
    "<h1> Day 7 - Class </h1>"
   ]
  },
  {
   "cell_type": "markdown",
   "metadata": {},
   "source": [
    "## Control Structures & Loops contd...\n",
    "### While loop\n",
    "In ML we will be using For loops mostly and in AI/Deep Learning we will be using while loops\n",
    "\n",
    "With the while loop we can execute a set of statements as long as a condition is true.\n",
    "\n",
    "while << condition true >>:\n",
    "    << logic >>\n",
    "\n",
    "e.g. Print i as long as i is less than 6:\n",
    "<pre>\n",
    "i = 1\n",
    "while i < 6:\n",
    "  print(i)\n",
    "  i += 1\n",
    "</pre>\n",
    "\n",
    "### Break statement\n",
    "With the break statement we can stop the loop even if the while condition is true:\n",
    "\n",
    "e.g Exit the loop when i is 3:\n",
    "\n",
    "<pre>\n",
    "i = 1\n",
    "while i < 6:\n",
    "  print(i)\n",
    "  if i == 3:\n",
    "    break\n",
    "  i += 1 \n",
    "</pre>\n",
    "\n",
    "### Continue statement\n",
    "With the continue statement we can stop the current iteration, and continue with the next:\n",
    "\n",
    "e.g. Continue to the next iteration if i is 3:\n",
    "\n",
    "<pre>\n",
    "i = 0\n",
    "while i < 6:\n",
    "  i += 1\n",
    "  if i == 3:\n",
    "    continue\n",
    "  print(i)\n",
    "</pre>"
   ]
  },
  {
   "cell_type": "code",
   "execution_count": 24,
   "metadata": {},
   "outputs": [
    {
     "name": "stdout",
     "output_type": "stream",
     "text": [
      "10\n",
      "11\n",
      "12\n",
      "13\n",
      "14\n",
      "15\n",
      "16\n",
      "17\n",
      "18\n",
      "19\n"
     ]
    }
   ],
   "source": [
    "x = 10\n",
    "while x < 20:\n",
    "    print(x)\n",
    "    x = x + 1"
   ]
  },
  {
   "cell_type": "code",
   "execution_count": 25,
   "metadata": {},
   "outputs": [
    {
     "name": "stdout",
     "output_type": "stream",
     "text": [
      "1\n",
      "2\n"
     ]
    }
   ],
   "source": [
    "x = [1,2,3,4]\n",
    "for i in x:\n",
    "    print(i)\n",
    "    if i==2:\n",
    "        break"
   ]
  },
  {
   "cell_type": "code",
   "execution_count": 26,
   "metadata": {},
   "outputs": [
    {
     "name": "stdout",
     "output_type": "stream",
     "text": [
      "1\n",
      "3\n",
      "4\n"
     ]
    }
   ],
   "source": [
    "x = [1,2,3,4]\n",
    "for i in x:\n",
    "    if i == 2:\n",
    "        continue\n",
    "    print(i)"
   ]
  },
  {
   "cell_type": "markdown",
   "metadata": {},
   "source": [
    "## chr() & ord() functions\n",
    "\n",
    "The chr() function returns the character that represents the specified unicode.\n",
    "\n",
    "Syntax:\n",
    "\n",
    "chr(number)\n",
    "\n",
    "The ord() function returns the number representing the unicode code of a specified character.\n",
    "\n",
    "Syntax:\n",
    "\n",
    "ord(character)"
   ]
  },
  {
   "cell_type": "code",
   "execution_count": 3,
   "metadata": {},
   "outputs": [
    {
     "name": "stdout",
     "output_type": "stream",
     "text": [
      "A 65\n"
     ]
    }
   ],
   "source": [
    "x = chr(65)\n",
    "y = ord(\"A\") \n",
    "\n",
    "print(x,y)"
   ]
  },
  {
   "cell_type": "markdown",
   "metadata": {},
   "source": [
    "## Data types - Dictionaries\n",
    "A dictionary is a collection which is unordered, changeable and indexed. In Python dictionaries are written with curly brackets, and they have keys and values.\n",
    "\n",
    "It's a key value pair data type. \n",
    "- Keys can be int, str, float\n",
    "- Values can be of any type\n",
    "\n",
    "e.g.\n",
    "<pre>\n",
    "thisdict =\t{\n",
    "  \"brand\": \"Ford\",\n",
    "  \"model\": \"Mustang\",\n",
    "  \"year\": 1964\n",
    "}\n",
    "print(thisdict)\n",
    "</pre>\n",
    "\n",
    "### Accessing all keys\n",
    "dict.keys() lists all the keys in a dictionary "
   ]
  },
  {
   "cell_type": "code",
   "execution_count": 4,
   "metadata": {},
   "outputs": [
    {
     "name": "stdout",
     "output_type": "stream",
     "text": [
      "{'brand': 'Ford', 'model': 'Mustang', 'year': 1964}\n"
     ]
    }
   ],
   "source": [
    "thisdict =    {\n",
    "  \"brand\": \"Ford\",\n",
    "  \"model\": \"Mustang\",\n",
    "  \"year\": 1964\n",
    "}\n",
    "print(thisdict)"
   ]
  },
  {
   "cell_type": "code",
   "execution_count": 5,
   "metadata": {},
   "outputs": [
    {
     "data": {
      "text/plain": [
       "dict_keys(['brand', 'model', 'year'])"
      ]
     },
     "execution_count": 5,
     "metadata": {},
     "output_type": "execute_result"
    }
   ],
   "source": [
    "thisdict.keys()"
   ]
  },
  {
   "cell_type": "markdown",
   "metadata": {},
   "source": [
    "### Accessing one key\n",
    "\n",
    "You can access the items of a dictionary by referring to its key name, inside square brackets:"
   ]
  },
  {
   "cell_type": "code",
   "execution_count": 6,
   "metadata": {},
   "outputs": [
    {
     "name": "stdout",
     "output_type": "stream",
     "text": [
      "Mustang\n"
     ]
    }
   ],
   "source": [
    "x = thisdict[\"model\"]\n",
    "print(x)"
   ]
  },
  {
   "cell_type": "markdown",
   "metadata": {},
   "source": [
    "There is also a method called get() that will give you the same result:"
   ]
  },
  {
   "cell_type": "code",
   "execution_count": 8,
   "metadata": {},
   "outputs": [
    {
     "name": "stdout",
     "output_type": "stream",
     "text": [
      "Mustang\n"
     ]
    }
   ],
   "source": [
    "x = thisdict.get(\"model\")\n",
    "print(x)"
   ]
  },
  {
   "cell_type": "markdown",
   "metadata": {},
   "source": [
    "### Loop through a Dictionary"
   ]
  },
  {
   "cell_type": "code",
   "execution_count": 11,
   "metadata": {},
   "outputs": [
    {
     "name": "stdout",
     "output_type": "stream",
     "text": [
      "brand Ford\n",
      "model Mustang\n",
      "year 1964\n"
     ]
    }
   ],
   "source": [
    "for x in thisdict:\n",
    "    print(x,thisdict[x])"
   ]
  },
  {
   "cell_type": "markdown",
   "metadata": {},
   "source": [
    "You can also use the values() method to return values of a dictionary:"
   ]
  },
  {
   "cell_type": "code",
   "execution_count": 12,
   "metadata": {},
   "outputs": [
    {
     "name": "stdout",
     "output_type": "stream",
     "text": [
      "Ford\n",
      "Mustang\n",
      "1964\n"
     ]
    }
   ],
   "source": [
    "for x in thisdict.values():\n",
    "    print(x) "
   ]
  },
  {
   "cell_type": "markdown",
   "metadata": {},
   "source": [
    "Loop through both keys and values, by using the items() method:"
   ]
  },
  {
   "cell_type": "code",
   "execution_count": 13,
   "metadata": {},
   "outputs": [
    {
     "name": "stdout",
     "output_type": "stream",
     "text": [
      "brand Ford\n",
      "model Mustang\n",
      "year 1964\n"
     ]
    }
   ],
   "source": [
    "for x, y in thisdict.items():\n",
    "    print(x, y) "
   ]
  },
  {
   "cell_type": "code",
   "execution_count": 14,
   "metadata": {},
   "outputs": [
    {
     "name": "stdout",
     "output_type": "stream",
     "text": [
      "Yes, 'model' is one of the keys in the thisdict dictionary\n"
     ]
    }
   ],
   "source": [
    "if \"model\" in thisdict:\n",
    "    print(\"Yes, 'model' is one of the keys in the thisdict dictionary\") "
   ]
  },
  {
   "cell_type": "markdown",
   "metadata": {},
   "source": [
    "### Add items to a dictionary"
   ]
  },
  {
   "cell_type": "code",
   "execution_count": 15,
   "metadata": {},
   "outputs": [
    {
     "name": "stdout",
     "output_type": "stream",
     "text": [
      "{'brand': 'Ford', 'model': 'Mustang', 'year': 1964}\n"
     ]
    }
   ],
   "source": [
    "print(thisdict)"
   ]
  },
  {
   "cell_type": "code",
   "execution_count": 16,
   "metadata": {},
   "outputs": [
    {
     "name": "stdout",
     "output_type": "stream",
     "text": [
      "{'brand': 'Ford', 'model': 'Mustang', 'year': 1964, 'color': 'red'}\n"
     ]
    }
   ],
   "source": [
    "thisdict[\"color\"] = \"red\"\n",
    "print(thisdict)"
   ]
  },
  {
   "cell_type": "markdown",
   "metadata": {},
   "source": [
    "### Remove item from a dictionary"
   ]
  },
  {
   "cell_type": "code",
   "execution_count": 17,
   "metadata": {},
   "outputs": [
    {
     "name": "stdout",
     "output_type": "stream",
     "text": [
      "{'brand': 'Ford', 'year': 1964, 'color': 'red'}\n"
     ]
    }
   ],
   "source": [
    "thisdict.pop(\"model\")\n",
    "print(thisdict) "
   ]
  },
  {
   "cell_type": "markdown",
   "metadata": {},
   "source": [
    "The popitem() method removes the last inserted item (in versions before 3.7, a random item is removed instead):"
   ]
  },
  {
   "cell_type": "code",
   "execution_count": 18,
   "metadata": {},
   "outputs": [
    {
     "name": "stdout",
     "output_type": "stream",
     "text": [
      "{'brand': 'Ford', 'model': 'Mustang'}\n"
     ]
    }
   ],
   "source": [
    "thisdict =\t{\n",
    "  \"brand\": \"Ford\",\n",
    "  \"model\": \"Mustang\",\n",
    "  \"year\": 1964\n",
    "}\n",
    "thisdict.popitem()\n",
    "print(thisdict) "
   ]
  },
  {
   "cell_type": "markdown",
   "metadata": {},
   "source": [
    "The del keyword removes the item with the specified key name:"
   ]
  },
  {
   "cell_type": "code",
   "execution_count": 19,
   "metadata": {},
   "outputs": [
    {
     "name": "stdout",
     "output_type": "stream",
     "text": [
      "{'brand': 'Ford', 'year': 1964}\n"
     ]
    }
   ],
   "source": [
    "thisdict =\t{\n",
    "  \"brand\": \"Ford\",\n",
    "  \"model\": \"Mustang\",\n",
    "  \"year\": 1964\n",
    "}\n",
    "del thisdict[\"model\"]\n",
    "print(thisdict) "
   ]
  },
  {
   "cell_type": "markdown",
   "metadata": {},
   "source": [
    "The clear() method empties the dictionary:"
   ]
  },
  {
   "cell_type": "code",
   "execution_count": 20,
   "metadata": {},
   "outputs": [
    {
     "name": "stdout",
     "output_type": "stream",
     "text": [
      "{}\n"
     ]
    }
   ],
   "source": [
    "thisdict =\t{\n",
    "  \"brand\": \"Ford\",\n",
    "  \"model\": \"Mustang\",\n",
    "  \"year\": 1964\n",
    "}\n",
    "thisdict.clear()\n",
    "print(thisdict) "
   ]
  },
  {
   "cell_type": "markdown",
   "metadata": {},
   "source": [
    "### Nested dictionaries\n",
    "Numpy array cannot support different dimensions within each column, whereas dictionary can have different dimensions"
   ]
  },
  {
   "cell_type": "code",
   "execution_count": 21,
   "metadata": {},
   "outputs": [
    {
     "data": {
      "text/plain": [
       "{'child1': {'name': 'Emil', 'year': 2004},\n",
       " 'child2': {'name': 'Tobias', 'year': 2007},\n",
       " 'child3': {'name': 'Linus', 'year': 2011}}"
      ]
     },
     "execution_count": 21,
     "metadata": {},
     "output_type": "execute_result"
    }
   ],
   "source": [
    "myfamily = {\n",
    "  \"child1\" : {\n",
    "    \"name\" : \"Emil\",\n",
    "    \"year\" : 2004\n",
    "  },\n",
    "  \"child2\" : {\n",
    "    \"name\" : \"Tobias\",\n",
    "    \"year\" : 2007\n",
    "  },\n",
    "  \"child3\" : {\n",
    "    \"name\" : \"Linus\",\n",
    "    \"year\" : 2011\n",
    "  }\n",
    "} \n",
    "\n",
    "myfamily"
   ]
  },
  {
   "cell_type": "code",
   "execution_count": 22,
   "metadata": {},
   "outputs": [
    {
     "data": {
      "text/plain": [
       "{'child1': {'name': 'Emil', 'year': 2004},\n",
       " 'child2': {'name': 'Tobias', 'year': 2007},\n",
       " 'child3': {'name': 'Linus', 'year': 2011}}"
      ]
     },
     "execution_count": 22,
     "metadata": {},
     "output_type": "execute_result"
    }
   ],
   "source": [
    "child1 = {\n",
    "  \"name\" : \"Emil\",\n",
    "  \"year\" : 2004\n",
    "}\n",
    "child2 = {\n",
    "  \"name\" : \"Tobias\",\n",
    "  \"year\" : 2007\n",
    "}\n",
    "child3 = {\n",
    "  \"name\" : \"Linus\",\n",
    "  \"year\" : 2011\n",
    "}\n",
    "\n",
    "myfamily = {\n",
    "  \"child1\" : child1,\n",
    "  \"child2\" : child2,\n",
    "  \"child3\" : child3\n",
    "} \n",
    "\n",
    "myfamily"
   ]
  },
  {
   "cell_type": "markdown",
   "metadata": {},
   "source": [
    "### dist() consturctor"
   ]
  },
  {
   "cell_type": "code",
   "execution_count": 23,
   "metadata": {},
   "outputs": [
    {
     "name": "stdout",
     "output_type": "stream",
     "text": [
      "{'brand': 'Ford', 'model': 'Mustang', 'year': 1964}\n"
     ]
    }
   ],
   "source": [
    "thisdict = dict(brand=\"Ford\", model=\"Mustang\", year=1964)\n",
    "# note that keywords are not string literals\n",
    "# note the use of equals rather than colon for the assignment\n",
    "print(thisdict)"
   ]
  },
  {
   "cell_type": "code",
   "execution_count": 28,
   "metadata": {},
   "outputs": [],
   "source": [
    "import numpy as np\n",
    "d = {\"maths\" : np.random.randint(0,100,100), \"physics\" : np.random.randint(0,100,100), \"chemistry\" : np.random.randint(0,100,100)}"
   ]
  },
  {
   "cell_type": "code",
   "execution_count": 29,
   "metadata": {},
   "outputs": [
    {
     "data": {
      "text/plain": [
       "array([15, 89, 33, 45, 53,  4, 93, 25, 99, 23, 20, 35, 53, 83, 57, 23, 81,\n",
       "       46, 89, 61, 33, 13, 49, 99, 84, 46, 38, 80, 74, 15, 79, 77, 48, 95,\n",
       "       46, 54, 43, 37, 24,  5, 62,  0, 57, 54, 96, 23, 30, 95, 47, 69,  7,\n",
       "       32, 62, 74, 97, 35, 56, 98, 31, 81, 52, 73, 79, 96, 30, 53, 86, 87,\n",
       "       46, 57,  2, 74, 62, 24, 51, 27, 53, 54, 52, 13, 52, 41, 57, 35, 72,\n",
       "       20, 10, 66, 75, 86, 25, 93, 92, 67, 50, 80, 66, 58, 98,  8])"
      ]
     },
     "execution_count": 29,
     "metadata": {},
     "output_type": "execute_result"
    }
   ],
   "source": [
    "d[\"maths\"]"
   ]
  },
  {
   "cell_type": "code",
   "execution_count": 30,
   "metadata": {},
   "outputs": [
    {
     "data": {
      "text/plain": [
       "dict_keys(['maths', 'physics', 'chemistry'])"
      ]
     },
     "execution_count": 30,
     "metadata": {},
     "output_type": "execute_result"
    }
   ],
   "source": [
    "d.keys()"
   ]
  },
  {
   "cell_type": "code",
   "execution_count": 31,
   "metadata": {
    "scrolled": true
   },
   "outputs": [
    {
     "data": {
      "text/plain": [
       "dict_values([array([15, 89, 33, 45, 53,  4, 93, 25, 99, 23, 20, 35, 53, 83, 57, 23, 81,\n",
       "       46, 89, 61, 33, 13, 49, 99, 84, 46, 38, 80, 74, 15, 79, 77, 48, 95,\n",
       "       46, 54, 43, 37, 24,  5, 62,  0, 57, 54, 96, 23, 30, 95, 47, 69,  7,\n",
       "       32, 62, 74, 97, 35, 56, 98, 31, 81, 52, 73, 79, 96, 30, 53, 86, 87,\n",
       "       46, 57,  2, 74, 62, 24, 51, 27, 53, 54, 52, 13, 52, 41, 57, 35, 72,\n",
       "       20, 10, 66, 75, 86, 25, 93, 92, 67, 50, 80, 66, 58, 98,  8]), array([77, 68, 96, 60, 65, 75, 62, 53, 59, 80, 45, 56, 25, 86,  6, 73, 99,\n",
       "       92, 60,  9, 22, 23, 48, 89,  4, 49, 49, 89, 53, 99, 49, 30, 20, 62,\n",
       "        1, 92, 96, 36, 10, 10, 28, 89, 14, 57, 64, 95, 13, 59, 90, 38, 51,\n",
       "        1, 27, 23, 21, 68, 54, 54, 46, 62, 25, 19, 38, 72, 45, 20,  1, 16,\n",
       "       91, 72, 31, 98, 86, 73, 45, 13, 34, 96, 66, 80, 79, 98, 33, 32, 87,\n",
       "       49, 38, 78, 68, 21, 54, 51, 10, 20,  9, 80, 72, 30, 68, 95]), array([39, 48, 56, 97, 59, 93, 71, 71, 89, 31, 22, 79, 17, 62, 32, 13, 67,\n",
       "       42, 70, 63, 69, 17,  9,  1, 90, 56, 59, 31, 55, 95, 45,  5, 73, 84,\n",
       "       40, 53, 30, 32, 34, 54, 74, 54, 34, 40, 70, 97, 89, 43, 72, 47, 53,\n",
       "       83, 87, 55, 50, 47, 45, 73, 17, 99, 46,  0, 12, 65, 24,  0, 54, 27,\n",
       "       80, 39, 75,  1, 65, 90, 78, 46, 61, 31, 94, 89, 67, 39, 12, 90, 35,\n",
       "       29,  9, 81, 10, 26, 57, 28, 54,  4, 98, 54, 30, 82, 68, 17])])"
      ]
     },
     "execution_count": 31,
     "metadata": {},
     "output_type": "execute_result"
    }
   ],
   "source": [
    "d.values()"
   ]
  },
  {
   "cell_type": "markdown",
   "metadata": {},
   "source": [
    "## Covariance and Correlation\n",
    "Covariance and correlation are two mathematical concepts which are commonly used in statistics. When comparing data samples from different populations, covariance is used to determine how much two random variables vary together, whereas correlation is used to determine when a change in one variable can result in a change in another.\n",
    "\n",
    "The correlation coefficient is a simple descriptive statistic that measures the strength of the linear relationship between two <b> continous variables</b>, as might be visualized in a scatter plot.  The value of the correlation coefficient, usually symbolized as r, ranges from -1 (for a perfect negative (or inverse) correlation) to +1 for a perfect positive (or direct) correlation.\n",
    "\n",
    "Both covariance and correlation measure linear relationships between variables. When the correlation coefficient is positive, an increase in one variable also results in an increase in the other. When the correlation coefficient is negative, the changes in the two variables are in opposite directions. When there is no relationship, there is no change in either.\n",
    "\n",
    "<img src='img/corr-01.png' />\n",
    "\n",
    "Covariance is a measure used to determine how much two variables change in tandem. The unit of covariance is a product of the units of the two variables. Covariance is affected by a change in scale. The value of covariance lies between -∞ and +∞.\n",
    "\n",
    "<img src='img/cov-01.png' />\n",
    "\n",
    "The sample correlation between two variables is a normalized version of the covariance. The value of correlation coefficient is always between -1 and 1. Once we’ve normalized the metric to the -1 to 1 scale, we can make meaningful statements and compare correlations.\n",
    "\n",
    "To calculate the sample correlation, which is also known as the sample correlation coefficient, between random variables X and Y, you have to divide the sample covariance of X and Y by the product of the sample standard deviation of X and the sample standard deviation of Y.\n",
    "\n",
    "<img src='img/corr-02.png' />\n",
    "\n",
    "<img src='img/corr-03.png' />\n"
   ]
  },
  {
   "cell_type": "code",
   "execution_count": 32,
   "metadata": {},
   "outputs": [],
   "source": [
    "import os\n",
    "import sys\n",
    "import numpy as np\n",
    "import matplotlib.pyplot as plt\n",
    "import seaborn as sns\n",
    "\n",
    "X = np.random.rand(50)\n",
    "Y = 2 * X + np.random.normal(0, 0.1, 50)"
   ]
  },
  {
   "cell_type": "code",
   "execution_count": 33,
   "metadata": {},
   "outputs": [
    {
     "name": "stdout",
     "output_type": "stream",
     "text": [
      "Covariance of X and Y: 0.14\n"
     ]
    }
   ],
   "source": [
    "cov_matrix = np.cov(X, Y)\n",
    "print('Covariance of X and Y: %.2f'%cov_matrix[0, 1])"
   ]
  },
  {
   "cell_type": "code",
   "execution_count": 34,
   "metadata": {},
   "outputs": [
    {
     "name": "stdout",
     "output_type": "stream",
     "text": [
      "Correlation of X and Y: 0.98\n"
     ]
    }
   ],
   "source": [
    "cor_matrix = np.corrcoef(X, Y)\n",
    "print('Correlation of X and Y: %.2f'%cor_matrix[0, 1])"
   ]
  },
  {
   "cell_type": "markdown",
   "metadata": {},
   "source": [
    "Correlation is simply a normalized form of covariance. They are otherwise the same and are often used semi-interchangeably in everyday conversation. It is obviously important to be precise with language when discussing the two, but conceptually they are almost identical.\n",
    "\n",
    "The value of the correlation coefficient ranges from [-1 – 1]. -1 stand for the negative relationship. 1 means a positive relationship. 0 means no relationship."
   ]
  },
  {
   "cell_type": "code",
   "execution_count": 35,
   "metadata": {},
   "outputs": [
    {
     "data": {
      "image/png": "[encoded data removed]",
      "text/plain": [
       "<Figure size 432x288 with 1 Axes>"
      ]
     },
     "metadata": {
      "needs_background": "light"
     },
     "output_type": "display_data"
    }
   ],
   "source": [
    "plt.scatter(X,Y)\n",
    "plt.xlabel('X Value')\n",
    "plt.ylabel('Y Value')\n",
    "plt.show()"
   ]
  },
  {
   "cell_type": "code",
   "execution_count": 36,
   "metadata": {},
   "outputs": [
    {
     "data": {
      "image/png": "[encoded data removed]",
      "text/plain": [
       "<Figure size 432x288 with 1 Axes>"
      ]
     },
     "metadata": {
      "needs_background": "light"
     },
     "output_type": "display_data"
    }
   ],
   "source": [
    "X = np.random.rand(50)\n",
    "Y = -X + np.random.normal(0, .1, 50)\n",
    "\n",
    "plt.scatter(X,Y)\n",
    "plt.xlabel('X Value')\n",
    "plt.ylabel('Y Value')\n",
    "plt.show()"
   ]
  },
  {
   "cell_type": "markdown",
   "metadata": {},
   "source": [
    "## Practice Problems\n",
    "### File reading"
   ]
  },
  {
   "cell_type": "code",
   "execution_count": 2,
   "metadata": {},
   "outputs": [
    {
     "data": {
      "text/plain": [
       "['business', 'entertainment', 'politics', 'sport', 'tech']"
      ]
     },
     "execution_count": 2,
     "metadata": {},
     "output_type": "execute_result"
    }
   ],
   "source": [
    "import numpy as np\n",
    "from IPython.core.interactiveshell import InteractiveShell\n",
    "InteractiveShell.ast_node_interactivity='all'\n",
    "import os\n",
    "import glob\n",
    "\n",
    "bbcdirs = os.listdir(\"D:\\\\sanooj\\\\datascience\\\\data\\\\bbc-fulltext\\\\bbc\")\n",
    "bbcdirs[0:5]\n",
    "\n",
    "## Iterate and get all the folders\n",
    "folder_name = []\n",
    "for i in os.listdir(\"D:\\\\sanooj\\\\datascience\\\\data\\\\bbc-fulltext\\\\bbc\\\\\"):\n",
    "    if \".TXT\" not in i:\n",
    "        folder_name.append(i)\n",
    "folder_name"
   ]
  },
  {
   "cell_type": "code",
   "execution_count": 4,
   "metadata": {},
   "outputs": [
    {
     "data": {
      "text/plain": [
       "8463"
      ]
     },
     "execution_count": 4,
     "metadata": {},
     "output_type": "execute_result"
    }
   ],
   "source": [
    "dataset = []\n",
    "uniquewords = []\n",
    "for i in folder_name:\n",
    "    for j in glob.glob(\"D:\\\\sanooj\\\\datascience\\\\data\\\\bbc-fulltext\\\\bbc\\\\\"+i+\"\\\\*.txt\")[0:20]:\n",
    "        f = open(j)\n",
    "        content = f.read()\n",
    "        for word in content.lower().split():\n",
    "            if word not in uniquewords:\n",
    "                uniquewords.append(word)\n",
    "\n",
    "len(uniquewords)\n",
    "            "
   ]
  },
  {
   "cell_type": "code",
   "execution_count": null,
   "metadata": {},
   "outputs": [],
   "source": [
    "weightage_data = []\n",
    "for i in folder_name:\n",
    "    for j in glob.glob(\"D:\\\\sanooj\\\\datascience\\\\data\\\\bbc-fulltext\\\\bbc\\\\\"+i+\"\\\\*.txt\"):\n",
    "        f = open(j)\n",
    "        content = f.read()\n",
    "        for uniqueword in uniquewords:\n",
    "            weightage_data.append([folder_name,uniqueword, content.count(uniqueword)])\n",
    "len(weightage_data)"
   ]
  },
  {
   "cell_type": "markdown",
   "metadata": {},
   "source": [
    "### Print A - Z"
   ]
  },
  {
   "cell_type": "code",
   "execution_count": 5,
   "metadata": {},
   "outputs": [
    {
     "data": {
      "text/plain": [
       "'A'"
      ]
     },
     "execution_count": 5,
     "metadata": {},
     "output_type": "execute_result"
    }
   ],
   "source": [
    "chr(65)"
   ]
  },
  {
   "cell_type": "code",
   "execution_count": 7,
   "metadata": {},
   "outputs": [
    {
     "name": "stdout",
     "output_type": "stream",
     "text": [
      "A\n",
      "B\n",
      "C\n",
      "D\n",
      "E\n",
      "F\n",
      "G\n",
      "H\n",
      "I\n",
      "J\n",
      "K\n",
      "L\n",
      "M\n",
      "N\n",
      "O\n",
      "P\n",
      "Q\n",
      "R\n",
      "S\n",
      "T\n",
      "U\n",
      "V\n",
      "W\n",
      "X\n",
      "Y\n",
      "Z\n"
     ]
    }
   ],
   "source": [
    "for i in range(65,91):\n",
    "    print(chr(i))"
   ]
  },
  {
   "cell_type": "markdown",
   "metadata": {},
   "source": [
    "### Print Z - A"
   ]
  },
  {
   "cell_type": "code",
   "execution_count": 28,
   "metadata": {},
   "outputs": [
    {
     "name": "stdout",
     "output_type": "stream",
     "text": [
      "Z\n",
      "Y\n",
      "X\n",
      "W\n",
      "V\n",
      "U\n",
      "T\n",
      "S\n",
      "R\n",
      "Q\n",
      "P\n",
      "O\n",
      "N\n",
      "M\n",
      "L\n",
      "K\n",
      "J\n",
      "I\n",
      "H\n",
      "G\n",
      "F\n",
      "E\n",
      "D\n",
      "C\n",
      "B\n",
      "A\n"
     ]
    }
   ],
   "source": [
    "for i in range(90,64,-1):\n",
    "    print(chr(i))"
   ]
  },
  {
   "cell_type": "markdown",
   "metadata": {},
   "source": [
    "### Print AaZz , BbYy, ..... , ZzAa"
   ]
  },
  {
   "cell_type": "code",
   "execution_count": 54,
   "metadata": {},
   "outputs": [
    {
     "data": {
      "text/plain": [
       "'A'"
      ]
     },
     "execution_count": 54,
     "metadata": {},
     "output_type": "execute_result"
    },
    {
     "data": {
      "text/plain": [
       "'a'"
      ]
     },
     "execution_count": 54,
     "metadata": {},
     "output_type": "execute_result"
    },
    {
     "data": {
      "text/plain": [
       "'Z'"
      ]
     },
     "execution_count": 54,
     "metadata": {},
     "output_type": "execute_result"
    },
    {
     "data": {
      "text/plain": [
       "'z'"
      ]
     },
     "execution_count": 54,
     "metadata": {},
     "output_type": "execute_result"
    },
    {
     "name": "stdout",
     "output_type": "stream",
     "text": [
      "************\n"
     ]
    },
    {
     "data": {
      "text/plain": [
       "'AaZz'"
      ]
     },
     "execution_count": 54,
     "metadata": {},
     "output_type": "execute_result"
    },
    {
     "data": {
      "text/plain": [
       "'BbYy'"
      ]
     },
     "execution_count": 54,
     "metadata": {},
     "output_type": "execute_result"
    },
    {
     "data": {
      "text/plain": [
       "'CcXx'"
      ]
     },
     "execution_count": 54,
     "metadata": {},
     "output_type": "execute_result"
    },
    {
     "data": {
      "text/plain": [
       "'DdWw'"
      ]
     },
     "execution_count": 54,
     "metadata": {},
     "output_type": "execute_result"
    },
    {
     "data": {
      "text/plain": [
       "'EeVv'"
      ]
     },
     "execution_count": 54,
     "metadata": {},
     "output_type": "execute_result"
    },
    {
     "data": {
      "text/plain": [
       "'FfUu'"
      ]
     },
     "execution_count": 54,
     "metadata": {},
     "output_type": "execute_result"
    },
    {
     "data": {
      "text/plain": [
       "'GgTt'"
      ]
     },
     "execution_count": 54,
     "metadata": {},
     "output_type": "execute_result"
    },
    {
     "data": {
      "text/plain": [
       "'HhSs'"
      ]
     },
     "execution_count": 54,
     "metadata": {},
     "output_type": "execute_result"
    },
    {
     "data": {
      "text/plain": [
       "'IiRr'"
      ]
     },
     "execution_count": 54,
     "metadata": {},
     "output_type": "execute_result"
    },
    {
     "data": {
      "text/plain": [
       "'JjQq'"
      ]
     },
     "execution_count": 54,
     "metadata": {},
     "output_type": "execute_result"
    },
    {
     "data": {
      "text/plain": [
       "'KkPp'"
      ]
     },
     "execution_count": 54,
     "metadata": {},
     "output_type": "execute_result"
    },
    {
     "data": {
      "text/plain": [
       "'LlOo'"
      ]
     },
     "execution_count": 54,
     "metadata": {},
     "output_type": "execute_result"
    },
    {
     "data": {
      "text/plain": [
       "'MmNn'"
      ]
     },
     "execution_count": 54,
     "metadata": {},
     "output_type": "execute_result"
    },
    {
     "data": {
      "text/plain": [
       "'NnMm'"
      ]
     },
     "execution_count": 54,
     "metadata": {},
     "output_type": "execute_result"
    },
    {
     "data": {
      "text/plain": [
       "'OoLl'"
      ]
     },
     "execution_count": 54,
     "metadata": {},
     "output_type": "execute_result"
    },
    {
     "data": {
      "text/plain": [
       "'PpKk'"
      ]
     },
     "execution_count": 54,
     "metadata": {},
     "output_type": "execute_result"
    },
    {
     "data": {
      "text/plain": [
       "'QqJj'"
      ]
     },
     "execution_count": 54,
     "metadata": {},
     "output_type": "execute_result"
    },
    {
     "data": {
      "text/plain": [
       "'RrIi'"
      ]
     },
     "execution_count": 54,
     "metadata": {},
     "output_type": "execute_result"
    },
    {
     "data": {
      "text/plain": [
       "'SsHh'"
      ]
     },
     "execution_count": 54,
     "metadata": {},
     "output_type": "execute_result"
    },
    {
     "data": {
      "text/plain": [
       "'TtGg'"
      ]
     },
     "execution_count": 54,
     "metadata": {},
     "output_type": "execute_result"
    },
    {
     "data": {
      "text/plain": [
       "'UuFf'"
      ]
     },
     "execution_count": 54,
     "metadata": {},
     "output_type": "execute_result"
    },
    {
     "data": {
      "text/plain": [
       "'VvEe'"
      ]
     },
     "execution_count": 54,
     "metadata": {},
     "output_type": "execute_result"
    },
    {
     "data": {
      "text/plain": [
       "'WwDd'"
      ]
     },
     "execution_count": 54,
     "metadata": {},
     "output_type": "execute_result"
    },
    {
     "data": {
      "text/plain": [
       "'XxCc'"
      ]
     },
     "execution_count": 54,
     "metadata": {},
     "output_type": "execute_result"
    },
    {
     "data": {
      "text/plain": [
       "'YyBb'"
      ]
     },
     "execution_count": 54,
     "metadata": {},
     "output_type": "execute_result"
    },
    {
     "data": {
      "text/plain": [
       "'ZzAa'"
      ]
     },
     "execution_count": 54,
     "metadata": {},
     "output_type": "execute_result"
    }
   ],
   "source": [
    "## print \n",
    "## AaZz\n",
    "## BbYy\n",
    "## ....\n",
    "## ....\n",
    "## ZzAa\n",
    "\n",
    "chr(65)\n",
    "chr(97)\n",
    "chr(90)\n",
    "chr(122)\n",
    "print('************')\n",
    "val = ''\n",
    "for i in range(65,91):\n",
    "   chr(i)+chr(i).lower()+chr(155-i)+chr(155-i).lower()\n"
   ]
  },
  {
   "cell_type": "markdown",
   "metadata": {},
   "source": [
    "### Find sum of all numeric data from an array\n",
    "\n",
    "We cannot use isApha() here as for elements 1,2 etc isAlpha() will give error as isAlpha() is applicable for String only"
   ]
  },
  {
   "cell_type": "code",
   "execution_count": 55,
   "metadata": {},
   "outputs": [
    {
     "name": "stdout",
     "output_type": "stream",
     "text": [
      "16.4\n"
     ]
    }
   ],
   "source": [
    "data = [1,2,3,'data science',2.6,7.8]\n",
    "sum = 0\n",
    "for i in data:\n",
    "    if type(i) != str:\n",
    "        sum = sum + i\n",
    "\n",
    "print(sum)\n",
    "\n"
   ]
  },
  {
   "cell_type": "markdown",
   "metadata": {},
   "source": [
    "### Word Pyramid"
   ]
  },
  {
   "cell_type": "code",
   "execution_count": 57,
   "metadata": {},
   "outputs": [
    {
     "name": "stdout",
     "output_type": "stream",
     "text": [
      "I\n",
      "I \n",
      "I l\n",
      "I li\n",
      "I lik\n",
      "I like\n",
      "I like \n",
      "I like d\n",
      "I like da\n",
      "I like dat\n",
      "I like data\n",
      "I like data \n",
      "I like data s\n",
      "I like data sc\n",
      "I like data sci\n",
      "I like data scie\n",
      "I like data scien\n",
      "I like data scienc\n",
      "I like data science\n",
      "I like data science \n",
      "I like data science a\n",
      "I like data science an\n",
      "I like data science and\n",
      "I like data science and \n",
      "I like data science and m\n",
      "I like data science and ma\n",
      "I like data science and mac\n",
      "I like data science and mach\n",
      "I like data science and machi\n",
      "I like data science and machin\n",
      "I like data science and machine\n",
      "I like data science and machine \n",
      "I like data science and machine l\n",
      "I like data science and machine le\n",
      "I like data science and machine lea\n",
      "I like data science and machine lear\n",
      "I like data science and machine learn\n",
      "I like data science and machine learni\n",
      "I like data science and machine learnin\n",
      "I like data science and machine learning\n"
     ]
    }
   ],
   "source": [
    "### Approach using 1 loop\n",
    "data = 'I like data science and machine learning'\n",
    "for i in range(1, len(data)+1):\n",
    "    print(data[0:i])"
   ]
  },
  {
   "cell_type": "markdown",
   "metadata": {},
   "source": [
    "### Star Pyramid"
   ]
  },
  {
   "cell_type": "code",
   "execution_count": 61,
   "metadata": {},
   "outputs": [
    {
     "name": "stdout",
     "output_type": "stream",
     "text": [
      "        * \n",
      "       * * \n",
      "      * * * \n",
      "     * * * * \n",
      "    * * * * * \n",
      "   * * * * * * \n",
      "  * * * * * * * \n",
      " * * * * * * * * \n",
      "  * * * * * * * \n",
      "   * * * * * * \n",
      "    * * * * * \n",
      "     * * * * \n",
      "      * * * \n",
      "       * * \n",
      "        * \n"
     ]
    }
   ],
   "source": [
    "countofstars = 8\n",
    "for i in range(0, countofstars):\n",
    "    for k in range(countofstars, i, -1):\n",
    "        print(end=' ')\n",
    "    for j in range(0, (i+1)):\n",
    "        print('* ',end='')\n",
    "    print()\n",
    "\n",
    "for i in range(countofstars-1, 0 , -1):\n",
    "    for k in range(i, countofstars+1):\n",
    "        print(end=' ')\n",
    "    for j in range(0, i):\n",
    "        print('* ',end='')\n",
    "    print()"
   ]
  },
  {
   "cell_type": "code",
   "execution_count": 66,
   "metadata": {},
   "outputs": [
    {
     "name": "stdout",
     "output_type": "stream",
     "text": [
      "         *          \n",
      "        * *         \n",
      "       * * *        \n"
     ]
    }
   ],
   "source": [
    "print((1 * '* ').center(20,\" \"))\n",
    "print((2 * '* ').center(20,\" \"))\n",
    "print((3 * '* ').center(20,\" \"))\n"
   ]
  },
  {
   "cell_type": "code",
   "execution_count": 71,
   "metadata": {},
   "outputs": [
    {
     "name": "stdout",
     "output_type": "stream",
     "text": [
      "         *          \n",
      "        * *         \n",
      "       * * *        \n",
      "      * * * *       \n",
      "     * * * * *      \n",
      "    * * * * * *     \n",
      "   * * * * * * *    \n",
      "    * * * * * *     \n",
      "     * * * * *      \n",
      "      * * * *       \n",
      "       * * *        \n",
      "        * *         \n",
      "         *          \n"
     ]
    }
   ],
   "source": [
    "countofstars = 8\n",
    "for i in range(1, countofstars):\n",
    "    print((i * '* ').center(20,\" \"))\n",
    "for j in range(countofstars-2, 0, -1):\n",
    "    print((j * '* ').center(20,\" \"))\n",
    "        "
   ]
  },
  {
   "cell_type": "code",
   "execution_count": 77,
   "metadata": {},
   "outputs": [
    {
     "name": "stdout",
     "output_type": "stream",
     "text": [
      "         *          \n",
      "        * *         \n",
      "       * * *        \n",
      "      * * * *       \n",
      "     * * * * *      \n",
      "    * * * * * *     \n",
      "   * * * * * * *    \n",
      "  * * * * * * * *   \n",
      "   * * * * * * *    \n",
      "    * * * * * *     \n",
      "     * * * * *      \n",
      "      * * * *       \n",
      "       * * *        \n",
      "        * *         \n",
      "         *          \n",
      "                    \n"
     ]
    }
   ],
   "source": [
    "countofstars = 8\n",
    "i = 0\n",
    "while i < countofstars:\n",
    "    i = i + 1\n",
    "    print((i * '* ').center(20,\" \"))\n",
    "\n",
    "while i > 0:\n",
    "    i = i - 1\n",
    "    print((i * '* ').center(20,\" \"))"
   ]
  },
  {
   "cell_type": "markdown",
   "metadata": {},
   "source": [
    "### Number Pyramid"
   ]
  },
  {
   "cell_type": "code",
   "execution_count": 13,
   "metadata": {},
   "outputs": [
    {
     "name": "stdout",
     "output_type": "stream",
     "text": [
      "         1          \n",
      "        2 2         \n",
      "       3 3 3        \n",
      "      4 4 4 4       \n"
     ]
    }
   ],
   "source": [
    "pyramid_size = 5\n",
    "for i in range(1,pyramid_size):\n",
    "    val = str(i) + ' '\n",
    "    print((i * val).center(20,\" \"))"
   ]
  },
  {
   "cell_type": "code",
   "execution_count": 25,
   "metadata": {},
   "outputs": [
    {
     "name": "stdout",
     "output_type": "stream",
     "text": [
      "                    \n",
      "         1          \n",
      "        1 2         \n",
      "       1 2 3        \n",
      "      1 2 3 4       \n"
     ]
    }
   ],
   "source": [
    "pyramid_size = 5\n",
    "for i in range(1,pyramid_size+1):\n",
    "    val = ''\n",
    "    for j in range(1, i):\n",
    "       val = val + str(j) + ' '\n",
    "    print(val.center(20,\" \"))"
   ]
  },
  {
   "cell_type": "code",
   "execution_count": 32,
   "metadata": {},
   "outputs": [
    {
     "name": "stdout",
     "output_type": "stream",
     "text": [
      "     5 4 3 2 1      \n",
      "      5 4 3 2       \n",
      "       5 4 3        \n",
      "        5 4         \n",
      "         5          \n"
     ]
    }
   ],
   "source": [
    "pyramid_size = 5\n",
    "for i in range(0, pyramid_size, 1):\n",
    "    val=''\n",
    "    for j in range(pyramid_size, i, -1):\n",
    "        val = val + str(j) + ' '\n",
    "    print(val.center(20,\" \"))"
   ]
  },
  {
   "cell_type": "code",
   "execution_count": 42,
   "metadata": {},
   "outputs": [
    {
     "name": "stdout",
     "output_type": "stream",
     "text": [
      "         5          \n",
      "        5 4         \n",
      "       5 4 3        \n",
      "      5 4 3 2       \n",
      "     5 4 3 2 1      \n"
     ]
    }
   ],
   "source": [
    "pyramid_size = 5\n",
    "for i in range(pyramid_size,0, -1):\n",
    "    val=''\n",
    "    for j in range(pyramid_size,i-1, -1):\n",
    "        val = val + str(j) + ' '\n",
    "    print(val.center(20,\" \"))"
   ]
  },
  {
   "cell_type": "code",
   "execution_count": 46,
   "metadata": {},
   "outputs": [
    {
     "name": "stdout",
     "output_type": "stream",
     "text": [
      "     1 2 3 4 5      \n",
      "      1 2 3 4       \n",
      "       1 2 3        \n",
      "        1 2         \n",
      "         1          \n"
     ]
    }
   ],
   "source": [
    "pyramid_size = 5\n",
    "for i in range(pyramid_size,0, -1):\n",
    "    val=''\n",
    "    for j in range(1,i+1, 1):\n",
    "        val = val + str(j) + ' '\n",
    "    print(val.center(20,\" \"))"
   ]
  },
  {
   "cell_type": "code",
   "execution_count": 53,
   "metadata": {},
   "outputs": [
    {
     "name": "stdout",
     "output_type": "stream",
     "text": [
      "         1          \n",
      "        2 3         \n",
      "       4 5 6        \n",
      "     7 8 9 10       \n"
     ]
    }
   ],
   "source": [
    "pyramid_size = 5\n",
    "counter = 0\n",
    "for i in range(1,pyramid_size, 1):\n",
    "    val=''\n",
    "    for j in range(0,i, 1):\n",
    "        counter = counter + 1\n",
    "        val = val + str(counter) + ' '\n",
    "    print(val.center(20,\" \"))"
   ]
  },
  {
   "cell_type": "code",
   "execution_count": 54,
   "metadata": {},
   "outputs": [
    {
     "name": "stdout",
     "output_type": "stream",
     "text": [
      "         1          \n",
      "        2 1         \n",
      "       3 2 1        \n",
      "      4 3 2 1       \n"
     ]
    }
   ],
   "source": [
    "pyramid_size = 5\n",
    "for i in range(1,pyramid_size):\n",
    "    val=''\n",
    "    for j in range(i, 0, -1):\n",
    "        val = val + str(j) + ' '\n",
    "    print(val.center(20,\" \"))"
   ]
  },
  {
   "cell_type": "code",
   "execution_count": 71,
   "metadata": {},
   "outputs": [
    {
     "name": "stdout",
     "output_type": "stream",
     "text": [
      "         1          \n",
      "        2 7         \n",
      "      3 8 13        \n",
      "     4 9 14 19      \n"
     ]
    }
   ],
   "source": [
    "pyramid_size = 5\n",
    "for i in range(1,pyramid_size):\n",
    "    val=''\n",
    "    for j in range(i,i*5,5):\n",
    "        val = val + str(j) + ' '\n",
    "    print(val.center(20,\" \"))"
   ]
  },
  {
   "cell_type": "code",
   "execution_count": 25,
   "metadata": {},
   "outputs": [
    {
     "name": "stdout",
     "output_type": "stream",
     "text": [
      "         1          \n",
      "        1 1         \n",
      "       1 2 1        \n",
      "      1 3 3 1       \n",
      "     1 4 6 4 1      \n"
     ]
    }
   ],
   "source": [
    "n = 5\n",
    "for line in range(1, n + 1):  \n",
    "    C = 1;\n",
    "    val=''\n",
    "    for i in range(1, line + 1):\n",
    "        val = val + str(C) + ' '\n",
    "        C = int(C * (line - i) / i);\n",
    "    print(val.center(20,\" \"))"
   ]
  },
  {
   "cell_type": "code",
   "execution_count": 26,
   "metadata": {},
   "outputs": [
    {
     "name": "stdout",
     "output_type": "stream",
     "text": [
      "         5          \n",
      "        4 5         \n",
      "       3 4 5        \n",
      "      2 3 4 5       \n",
      "     1 2 3 4 5      \n"
     ]
    }
   ],
   "source": [
    "pyramid_size = 5\n",
    "for i in range(pyramid_size+1, 1, -1):\n",
    "    val = ''\n",
    "    for j in range(i-1, pyramid_size+1):\n",
    "        val = val + str(j) + ' '\n",
    "    print(val.center(20,\" \"))"
   ]
  },
  {
   "cell_type": "code",
   "execution_count": 45,
   "metadata": {},
   "outputs": [
    {
     "name": "stdout",
     "output_type": "stream",
     "text": [
      "1\n",
      "123\n",
      "12345\n",
      "1234567\n",
      "123456789\n"
     ]
    }
   ],
   "source": [
    "pyramid_size = 5\n",
    "for i in range(1, pyramid_size*2 , 2):\n",
    "    for j in range(1,i+1):\n",
    "        print(j,end='')\n",
    "    print()"
   ]
  },
  {
   "cell_type": "markdown",
   "metadata": {},
   "source": [
    "## TODO\n",
    "Learn Matplotlib"
   ]
  }
 ],
 "metadata": {
  "hide_input": false,
  "kernelspec": {
   "display_name": "Python 3",
   "language": "python",
   "name": "python3"
  },
  "language_info": {
   "codemirror_mode": {
    "name": "ipython",
    "version": 3
   },
   "file_extension": ".py",
   "mimetype": "text/x-python",
   "name": "python",
   "nbconvert_exporter": "python",
   "pygments_lexer": "ipython3",
   "version": "3.7.4"
  },
  "toc": {
   "base_numbering": 1,
   "nav_menu": {},
   "number_sections": true,
   "sideBar": true,
   "skip_h1_title": false,
   "title_cell": "Table of Contents",
   "title_sidebar": "Contents",
   "toc_cell": false,
   "toc_position": {},
   "toc_section_display": true,
   "toc_window_display": true
  }
 },
 "nbformat": 4,
 "nbformat_minor": 2
}
