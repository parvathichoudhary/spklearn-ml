{
 "cells": [
  {
   "cell_type": "code",
   "execution_count": 2,
   "metadata": {},
   "outputs": [
    {
     "data": {
      "text/plain": [
       "['business', 'entertainment', 'politics', 'sport', 'tech']"
      ]
     },
     "execution_count": 2,
     "metadata": {},
     "output_type": "execute_result"
    }
   ],
   "source": [
    "import numpy as np\n",
    "from IPython.core.interactiveshell import InteractiveShell\n",
    "InteractiveShell.ast_node_interactivity='all'\n",
    "import os\n",
    "import glob\n",
    "\n",
    "bbcdirs = os.listdir(\"D:\\\\sanooj\\\\datascience\\\\data\\\\bbc-fulltext\\\\bbc\")\n",
    "bbcdirs[0:5]\n",
    "\n",
    "## Iterate and get all the folders\n",
    "folder_name = []\n",
    "for i in os.listdir(\"D:\\\\sanooj\\\\datascience\\\\data\\\\bbc-fulltext\\\\bbc\\\\\"):\n",
    "    if \".TXT\" not in i:\n",
    "        folder_name.append(i)\n",
    "folder_name"
   ]
  },
  {
   "cell_type": "code",
   "execution_count": 4,
   "metadata": {},
   "outputs": [
    {
     "data": {
      "text/plain": [
       "8463"
      ]
     },
     "execution_count": 4,
     "metadata": {},
     "output_type": "execute_result"
    }
   ],
   "source": [
    "dataset = []\n",
    "uniquewords = []\n",
    "for i in folder_name:\n",
    "    for j in glob.glob(\"D:\\\\sanooj\\\\datascience\\\\data\\\\bbc-fulltext\\\\bbc\\\\\"+i+\"\\\\*.txt\")[0:20]:\n",
    "        f = open(j)\n",
    "        content = f.read()\n",
    "        for word in content.lower().split():\n",
    "            if word not in uniquewords:\n",
    "                uniquewords.append(word)\n",
    "\n",
    "len(uniquewords)\n",
    "            "
   ]
  },
  {
   "cell_type": "code",
   "execution_count": null,
   "metadata": {},
   "outputs": [],
   "source": [
    "weightage_data = []\n",
    "for i in folder_name:\n",
    "    for j in glob.glob(\"D:\\\\sanooj\\\\datascience\\\\data\\\\bbc-fulltext\\\\bbc\\\\\"+i+\"\\\\*.txt\"):\n",
    "        f = open(j)\n",
    "        content = f.read()\n",
    "        for uniqueword in uniquewords:\n",
    "            weightage_data.append([folder_name,uniqueword, content.count(uniqueword)])\n",
    "len(weightage_data)"
   ]
  },
  {
   "cell_type": "code",
   "execution_count": 5,
   "metadata": {},
   "outputs": [
    {
     "data": {
      "text/plain": [
       "'A'"
      ]
     },
     "execution_count": 5,
     "metadata": {},
     "output_type": "execute_result"
    }
   ],
   "source": [
    "chr(65)"
   ]
  },
  {
   "cell_type": "code",
   "execution_count": 7,
   "metadata": {},
   "outputs": [
    {
     "name": "stdout",
     "output_type": "stream",
     "text": [
      "A\n",
      "B\n",
      "C\n",
      "D\n",
      "E\n",
      "F\n",
      "G\n",
      "H\n",
      "I\n",
      "J\n",
      "K\n",
      "L\n",
      "M\n",
      "N\n",
      "O\n",
      "P\n",
      "Q\n",
      "R\n",
      "S\n",
      "T\n",
      "U\n",
      "V\n",
      "W\n",
      "X\n",
      "Y\n",
      "Z\n"
     ]
    }
   ],
   "source": [
    "for i in range(65,91):\n",
    "    print(chr(i))"
   ]
  },
  {
   "cell_type": "code",
   "execution_count": 28,
   "metadata": {},
   "outputs": [
    {
     "name": "stdout",
     "output_type": "stream",
     "text": [
      "Z\n",
      "Y\n",
      "X\n",
      "W\n",
      "V\n",
      "U\n",
      "T\n",
      "S\n",
      "R\n",
      "Q\n",
      "P\n",
      "O\n",
      "N\n",
      "M\n",
      "L\n",
      "K\n",
      "J\n",
      "I\n",
      "H\n",
      "G\n",
      "F\n",
      "E\n",
      "D\n",
      "C\n",
      "B\n",
      "A\n"
     ]
    }
   ],
   "source": [
    "for i in range(90,64,-1):\n",
    "    print(chr(i))"
   ]
  },
  {
   "cell_type": "code",
   "execution_count": 54,
   "metadata": {},
   "outputs": [
    {
     "data": {
      "text/plain": [
       "'A'"
      ]
     },
     "execution_count": 54,
     "metadata": {},
     "output_type": "execute_result"
    },
    {
     "data": {
      "text/plain": [
       "'a'"
      ]
     },
     "execution_count": 54,
     "metadata": {},
     "output_type": "execute_result"
    },
    {
     "data": {
      "text/plain": [
       "'Z'"
      ]
     },
     "execution_count": 54,
     "metadata": {},
     "output_type": "execute_result"
    },
    {
     "data": {
      "text/plain": [
       "'z'"
      ]
     },
     "execution_count": 54,
     "metadata": {},
     "output_type": "execute_result"
    },
    {
     "name": "stdout",
     "output_type": "stream",
     "text": [
      "************\n"
     ]
    },
    {
     "data": {
      "text/plain": [
       "'AaZz'"
      ]
     },
     "execution_count": 54,
     "metadata": {},
     "output_type": "execute_result"
    },
    {
     "data": {
      "text/plain": [
       "'BbYy'"
      ]
     },
     "execution_count": 54,
     "metadata": {},
     "output_type": "execute_result"
    },
    {
     "data": {
      "text/plain": [
       "'CcXx'"
      ]
     },
     "execution_count": 54,
     "metadata": {},
     "output_type": "execute_result"
    },
    {
     "data": {
      "text/plain": [
       "'DdWw'"
      ]
     },
     "execution_count": 54,
     "metadata": {},
     "output_type": "execute_result"
    },
    {
     "data": {
      "text/plain": [
       "'EeVv'"
      ]
     },
     "execution_count": 54,
     "metadata": {},
     "output_type": "execute_result"
    },
    {
     "data": {
      "text/plain": [
       "'FfUu'"
      ]
     },
     "execution_count": 54,
     "metadata": {},
     "output_type": "execute_result"
    },
    {
     "data": {
      "text/plain": [
       "'GgTt'"
      ]
     },
     "execution_count": 54,
     "metadata": {},
     "output_type": "execute_result"
    },
    {
     "data": {
      "text/plain": [
       "'HhSs'"
      ]
     },
     "execution_count": 54,
     "metadata": {},
     "output_type": "execute_result"
    },
    {
     "data": {
      "text/plain": [
       "'IiRr'"
      ]
     },
     "execution_count": 54,
     "metadata": {},
     "output_type": "execute_result"
    },
    {
     "data": {
      "text/plain": [
       "'JjQq'"
      ]
     },
     "execution_count": 54,
     "metadata": {},
     "output_type": "execute_result"
    },
    {
     "data": {
      "text/plain": [
       "'KkPp'"
      ]
     },
     "execution_count": 54,
     "metadata": {},
     "output_type": "execute_result"
    },
    {
     "data": {
      "text/plain": [
       "'LlOo'"
      ]
     },
     "execution_count": 54,
     "metadata": {},
     "output_type": "execute_result"
    },
    {
     "data": {
      "text/plain": [
       "'MmNn'"
      ]
     },
     "execution_count": 54,
     "metadata": {},
     "output_type": "execute_result"
    },
    {
     "data": {
      "text/plain": [
       "'NnMm'"
      ]
     },
     "execution_count": 54,
     "metadata": {},
     "output_type": "execute_result"
    },
    {
     "data": {
      "text/plain": [
       "'OoLl'"
      ]
     },
     "execution_count": 54,
     "metadata": {},
     "output_type": "execute_result"
    },
    {
     "data": {
      "text/plain": [
       "'PpKk'"
      ]
     },
     "execution_count": 54,
     "metadata": {},
     "output_type": "execute_result"
    },
    {
     "data": {
      "text/plain": [
       "'QqJj'"
      ]
     },
     "execution_count": 54,
     "metadata": {},
     "output_type": "execute_result"
    },
    {
     "data": {
      "text/plain": [
       "'RrIi'"
      ]
     },
     "execution_count": 54,
     "metadata": {},
     "output_type": "execute_result"
    },
    {
     "data": {
      "text/plain": [
       "'SsHh'"
      ]
     },
     "execution_count": 54,
     "metadata": {},
     "output_type": "execute_result"
    },
    {
     "data": {
      "text/plain": [
       "'TtGg'"
      ]
     },
     "execution_count": 54,
     "metadata": {},
     "output_type": "execute_result"
    },
    {
     "data": {
      "text/plain": [
       "'UuFf'"
      ]
     },
     "execution_count": 54,
     "metadata": {},
     "output_type": "execute_result"
    },
    {
     "data": {
      "text/plain": [
       "'VvEe'"
      ]
     },
     "execution_count": 54,
     "metadata": {},
     "output_type": "execute_result"
    },
    {
     "data": {
      "text/plain": [
       "'WwDd'"
      ]
     },
     "execution_count": 54,
     "metadata": {},
     "output_type": "execute_result"
    },
    {
     "data": {
      "text/plain": [
       "'XxCc'"
      ]
     },
     "execution_count": 54,
     "metadata": {},
     "output_type": "execute_result"
    },
    {
     "data": {
      "text/plain": [
       "'YyBb'"
      ]
     },
     "execution_count": 54,
     "metadata": {},
     "output_type": "execute_result"
    },
    {
     "data": {
      "text/plain": [
       "'ZzAa'"
      ]
     },
     "execution_count": 54,
     "metadata": {},
     "output_type": "execute_result"
    }
   ],
   "source": [
    "## print \n",
    "## AaZz\n",
    "## BbYy\n",
    "## ....\n",
    "## ....\n",
    "## ZzAa\n",
    "\n",
    "chr(65)\n",
    "chr(97)\n",
    "chr(90)\n",
    "chr(122)\n",
    "print('************')\n",
    "val = ''\n",
    "for i in range(65,91):\n",
    "   chr(i)+chr(i).lower()+chr(155-i)+chr(155-i).lower()\n"
   ]
  },
  {
   "cell_type": "code",
   "execution_count": 55,
   "metadata": {},
   "outputs": [
    {
     "name": "stdout",
     "output_type": "stream",
     "text": [
      "16.4\n"
     ]
    }
   ],
   "source": [
    "data = [1,2,3,'data science',2.6,7.8]\n",
    "sum = 0\n",
    "for i in data:\n",
    "    if type(i) != str:\n",
    "        sum = sum + i\n",
    "\n",
    "print(sum)\n",
    "\n",
    "## we cannot use isApha() here as for elements 1,2 etc isAlpha will give error .. i.e. i.isAlpha() wont work"
   ]
  },
  {
   "cell_type": "code",
   "execution_count": 57,
   "metadata": {},
   "outputs": [
    {
     "name": "stdout",
     "output_type": "stream",
     "text": [
      "I\n",
      "I \n",
      "I l\n",
      "I li\n",
      "I lik\n",
      "I like\n",
      "I like \n",
      "I like d\n",
      "I like da\n",
      "I like dat\n",
      "I like data\n",
      "I like data \n",
      "I like data s\n",
      "I like data sc\n",
      "I like data sci\n",
      "I like data scie\n",
      "I like data scien\n",
      "I like data scienc\n",
      "I like data science\n",
      "I like data science \n",
      "I like data science a\n",
      "I like data science an\n",
      "I like data science and\n",
      "I like data science and \n",
      "I like data science and m\n",
      "I like data science and ma\n",
      "I like data science and mac\n",
      "I like data science and mach\n",
      "I like data science and machi\n",
      "I like data science and machin\n",
      "I like data science and machine\n",
      "I like data science and machine \n",
      "I like data science and machine l\n",
      "I like data science and machine le\n",
      "I like data science and machine lea\n",
      "I like data science and machine lear\n",
      "I like data science and machine learn\n",
      "I like data science and machine learni\n",
      "I like data science and machine learnin\n",
      "I like data science and machine learning\n"
     ]
    }
   ],
   "source": [
    "### Approach using 1 loop\n",
    "data = 'I like data science and machine learning'\n",
    "for i in range(1, len(data)+1):\n",
    "    print(data[0:i])"
   ]
  },
  {
   "cell_type": "markdown",
   "metadata": {},
   "source": [
    "### while loop"
   ]
  },
  {
   "cell_type": "code",
   "execution_count": 58,
   "metadata": {},
   "outputs": [
    {
     "name": "stdout",
     "output_type": "stream",
     "text": [
      "10\n",
      "11\n",
      "12\n",
      "13\n",
      "14\n",
      "15\n",
      "16\n",
      "17\n",
      "18\n",
      "19\n"
     ]
    }
   ],
   "source": [
    "x = 10\n",
    "while x < 20:\n",
    "    print(x)\n",
    "    x = x + 1"
   ]
  },
  {
   "cell_type": "code",
   "execution_count": 59,
   "metadata": {},
   "outputs": [
    {
     "name": "stdout",
     "output_type": "stream",
     "text": [
      "1\n",
      "2\n"
     ]
    }
   ],
   "source": [
    "x = [1,2,3,4]\n",
    "for i in x:\n",
    "    print(i)\n",
    "    if i==2:\n",
    "        break"
   ]
  },
  {
   "cell_type": "code",
   "execution_count": 60,
   "metadata": {},
   "outputs": [
    {
     "name": "stdout",
     "output_type": "stream",
     "text": [
      "1\n",
      "3\n",
      "4\n"
     ]
    }
   ],
   "source": [
    "x = [1,2,3,4]\n",
    "for i in x:\n",
    "    if i == 2:\n",
    "        continue\n",
    "    print(i)"
   ]
  },
  {
   "cell_type": "code",
   "execution_count": 61,
   "metadata": {},
   "outputs": [
    {
     "name": "stdout",
     "output_type": "stream",
     "text": [
      "        * \n",
      "       * * \n",
      "      * * * \n",
      "     * * * * \n",
      "    * * * * * \n",
      "   * * * * * * \n",
      "  * * * * * * * \n",
      " * * * * * * * * \n",
      "  * * * * * * * \n",
      "   * * * * * * \n",
      "    * * * * * \n",
      "     * * * * \n",
      "      * * * \n",
      "       * * \n",
      "        * \n"
     ]
    }
   ],
   "source": [
    "countofstars = 8\n",
    "for i in range(0, countofstars):\n",
    "    for k in range(countofstars, i, -1):\n",
    "        print(end=' ')\n",
    "    for j in range(0, (i+1)):\n",
    "        print('* ',end='')\n",
    "    print()\n",
    "\n",
    "for i in range(countofstars-1, 0 , -1):\n",
    "    for k in range(i, countofstars+1):\n",
    "        print(end=' ')\n",
    "    for j in range(0, i):\n",
    "        print('* ',end='')\n",
    "    print()"
   ]
  },
  {
   "cell_type": "code",
   "execution_count": 66,
   "metadata": {},
   "outputs": [
    {
     "name": "stdout",
     "output_type": "stream",
     "text": [
      "         *          \n",
      "        * *         \n",
      "       * * *        \n"
     ]
    }
   ],
   "source": [
    "print((1 * '* ').center(20,\" \"))\n",
    "print((2 * '* ').center(20,\" \"))\n",
    "print((3 * '* ').center(20,\" \"))\n"
   ]
  },
  {
   "cell_type": "code",
   "execution_count": 71,
   "metadata": {},
   "outputs": [
    {
     "name": "stdout",
     "output_type": "stream",
     "text": [
      "         *          \n",
      "        * *         \n",
      "       * * *        \n",
      "      * * * *       \n",
      "     * * * * *      \n",
      "    * * * * * *     \n",
      "   * * * * * * *    \n",
      "    * * * * * *     \n",
      "     * * * * *      \n",
      "      * * * *       \n",
      "       * * *        \n",
      "        * *         \n",
      "         *          \n"
     ]
    }
   ],
   "source": [
    "countofstars = 8\n",
    "for i in range(1, countofstars):\n",
    "    print((i * '* ').center(20,\" \"))\n",
    "for j in range(countofstars-2, 0, -1):\n",
    "    print((j * '* ').center(20,\" \"))\n",
    "        "
   ]
  },
  {
   "cell_type": "code",
   "execution_count": 77,
   "metadata": {},
   "outputs": [
    {
     "name": "stdout",
     "output_type": "stream",
     "text": [
      "         *          \n",
      "        * *         \n",
      "       * * *        \n",
      "      * * * *       \n",
      "     * * * * *      \n",
      "    * * * * * *     \n",
      "   * * * * * * *    \n",
      "  * * * * * * * *   \n",
      "   * * * * * * *    \n",
      "    * * * * * *     \n",
      "     * * * * *      \n",
      "      * * * *       \n",
      "       * * *        \n",
      "        * *         \n",
      "         *          \n",
      "                    \n"
     ]
    }
   ],
   "source": [
    "countofstars = 8\n",
    "i = 0\n",
    "while i < countofstars:\n",
    "    i = i + 1\n",
    "    print((i * '* ').center(20,\" \"))\n",
    "\n",
    "while i > 0:\n",
    "    i = i - 1\n",
    "    print((i * '* ').center(20,\" \"))"
   ]
  },
  {
   "cell_type": "markdown",
   "metadata": {},
   "source": [
    "### Dictionary"
   ]
  },
  {
   "cell_type": "code",
   "execution_count": 80,
   "metadata": {},
   "outputs": [],
   "source": [
    "d = {\"maths\" : np.random.randint(0,100,100), \"physics\" : np.random.randint(0,100,100), \"chemistry\" : np.random.randint(0,100,100)}"
   ]
  },
  {
   "cell_type": "code",
   "execution_count": 81,
   "metadata": {},
   "outputs": [
    {
     "data": {
      "text/plain": [
       "array([92, 87, 73, 91, 93, 63, 40,  3, 21, 34, 55, 96, 66, 22, 30, 76,  5,\n",
       "       80, 48, 87, 66, 84,  9, 14, 81, 40, 70, 12, 74, 84, 38, 89, 88, 61,\n",
       "       77, 26, 72, 82, 65, 32, 74, 35, 64,  6,  5,  6, 80, 57, 60, 64, 89,\n",
       "       71,  3, 73, 61, 39, 19, 41, 31,  4, 20,  4, 95, 84, 14,  2, 63, 27,\n",
       "       68,  3, 26, 58, 27, 14, 58, 26, 81, 98, 14, 10,  8, 84, 68, 62, 82,\n",
       "       88, 25, 32, 72, 32,  5,  7, 98,  7, 68,  6, 55, 80, 71, 38])"
      ]
     },
     "execution_count": 81,
     "metadata": {},
     "output_type": "execute_result"
    }
   ],
   "source": [
    "d[\"maths\"]"
   ]
  },
  {
   "cell_type": "code",
   "execution_count": 82,
   "metadata": {},
   "outputs": [
    {
     "data": {
      "text/plain": [
       "dict_keys(['maths', 'physics', 'chemistry'])"
      ]
     },
     "execution_count": 82,
     "metadata": {},
     "output_type": "execute_result"
    }
   ],
   "source": [
    "d.keys()"
   ]
  },
  {
   "cell_type": "code",
   "execution_count": 83,
   "metadata": {},
   "outputs": [
    {
     "data": {
      "text/plain": [
       "dict_values([array([92, 87, 73, 91, 93, 63, 40,  3, 21, 34, 55, 96, 66, 22, 30, 76,  5,\n",
       "       80, 48, 87, 66, 84,  9, 14, 81, 40, 70, 12, 74, 84, 38, 89, 88, 61,\n",
       "       77, 26, 72, 82, 65, 32, 74, 35, 64,  6,  5,  6, 80, 57, 60, 64, 89,\n",
       "       71,  3, 73, 61, 39, 19, 41, 31,  4, 20,  4, 95, 84, 14,  2, 63, 27,\n",
       "       68,  3, 26, 58, 27, 14, 58, 26, 81, 98, 14, 10,  8, 84, 68, 62, 82,\n",
       "       88, 25, 32, 72, 32,  5,  7, 98,  7, 68,  6, 55, 80, 71, 38]), array([76, 33, 72,  6, 29, 46, 38, 71, 83, 88, 28, 27, 31, 47, 26, 19, 18,\n",
       "       37, 75, 81, 89, 67, 43, 77, 77,  5, 88, 82, 27, 63, 73, 53, 62, 94,\n",
       "       76, 39, 49, 71, 29, 98, 22, 37, 77, 62, 17, 56, 40, 77, 69,  7,  2,\n",
       "       23, 86, 78, 56, 73, 63, 53, 81, 14, 55, 18,  3, 80, 67, 30, 43, 55,\n",
       "       99, 27, 95, 31, 38, 69, 13, 29, 88,  4, 94, 74, 70, 88, 46, 44, 41,\n",
       "       48, 14, 63,  3, 63, 30, 99, 48, 64, 28, 82, 77, 31, 78, 36]), array([65, 63, 21, 87, 65, 65,  6, 25, 92, 10, 20, 72, 90, 89, 68, 76, 47,\n",
       "        9, 31,  7, 65, 79, 17, 89, 56, 21, 70, 90, 69, 39, 29, 12, 52, 79,\n",
       "        7, 14, 78, 46,  9, 50, 19,  9, 78, 38, 71, 98, 45, 65, 59,  4,  8,\n",
       "       68, 76,  2,  2, 28,  4, 65, 15,  2, 69, 94, 64,  6, 58,  9, 61, 40,\n",
       "        4,  5, 79, 10,  0, 95, 39, 91, 35, 31,  3,  4, 35, 79, 20, 45, 43,\n",
       "       48, 74, 65, 74,  9, 93, 20, 31, 69, 86, 90, 53, 48, 17, 95])])"
      ]
     },
     "execution_count": 83,
     "metadata": {},
     "output_type": "execute_result"
    }
   ],
   "source": [
    "d.values()"
   ]
  },
  {
   "cell_type": "markdown",
   "metadata": {},
   "source": [
    "### Homework"
   ]
  },
  {
   "cell_type": "markdown",
   "metadata": {},
   "source": [
    "<h3>\n",
    "<pre>\n",
    "Pattern 1\n",
    "\n",
    "   1\n",
    "  2 2\n",
    " 3 3 3\n",
    "4 4 4 4\n",
    "</pre>\n",
    "</h3>"
   ]
  },
  {
   "cell_type": "code",
   "execution_count": 13,
   "metadata": {},
   "outputs": [
    {
     "name": "stdout",
     "output_type": "stream",
     "text": [
      "         1          \n",
      "        2 2         \n",
      "       3 3 3        \n",
      "      4 4 4 4       \n"
     ]
    }
   ],
   "source": [
    "pyramid_size = 5\n",
    "for i in range(1,pyramid_size):\n",
    "    val = str(i) + ' '\n",
    "    print((i * val).center(20,\" \"))"
   ]
  },
  {
   "cell_type": "markdown",
   "metadata": {},
   "source": [
    "<h3>\n",
    "<pre>\n",
    "Pattern 2\n",
    "\n",
    "   1\n",
    "  1 2\n",
    " 1 2 3\n",
    "1 2 3 4\n",
    "</pre>\n",
    "</h3>"
   ]
  },
  {
   "cell_type": "code",
   "execution_count": 25,
   "metadata": {},
   "outputs": [
    {
     "name": "stdout",
     "output_type": "stream",
     "text": [
      "                    \n",
      "         1          \n",
      "        1 2         \n",
      "       1 2 3        \n",
      "      1 2 3 4       \n"
     ]
    }
   ],
   "source": [
    "pyramid_size = 5\n",
    "for i in range(1,pyramid_size+1):\n",
    "    val = ''\n",
    "    for j in range(1, i):\n",
    "       val = val + str(j) + ' '\n",
    "    print(val.center(20,\" \"))"
   ]
  },
  {
   "cell_type": "markdown",
   "metadata": {},
   "source": [
    "<h3>\n",
    "<pre>\n",
    "Pattern 3\n",
    "\n",
    "5 4 3 2 1\n",
    " 5 4 3 2\n",
    "  5 4 3\n",
    "   5 4\n",
    "    5\n",
    "</pre>\n",
    "</h3>"
   ]
  },
  {
   "cell_type": "code",
   "execution_count": 32,
   "metadata": {},
   "outputs": [
    {
     "name": "stdout",
     "output_type": "stream",
     "text": [
      "     5 4 3 2 1      \n",
      "      5 4 3 2       \n",
      "       5 4 3        \n",
      "        5 4         \n",
      "         5          \n"
     ]
    }
   ],
   "source": [
    "pyramid_size = 5\n",
    "for i in range(0, pyramid_size, 1):\n",
    "    val=''\n",
    "    for j in range(pyramid_size, i, -1):\n",
    "        val = val + str(j) + ' '\n",
    "    print(val.center(20,\" \"))"
   ]
  },
  {
   "cell_type": "markdown",
   "metadata": {},
   "source": [
    "<h3>\n",
    "<pre>\n",
    "Pattern 4\n",
    "\n",
    "    5\n",
    "   5 4\n",
    "  5 4 3\n",
    " 5 4 3 2\n",
    "5 4 3 2 1\n",
    "</pre>\n",
    "</h3>"
   ]
  },
  {
   "cell_type": "code",
   "execution_count": 42,
   "metadata": {},
   "outputs": [
    {
     "name": "stdout",
     "output_type": "stream",
     "text": [
      "         5          \n",
      "        5 4         \n",
      "       5 4 3        \n",
      "      5 4 3 2       \n",
      "     5 4 3 2 1      \n"
     ]
    }
   ],
   "source": [
    "pyramid_size = 5\n",
    "for i in range(pyramid_size,0, -1):\n",
    "    val=''\n",
    "    for j in range(pyramid_size,i-1, -1):\n",
    "        val = val + str(j) + ' '\n",
    "    print(val.center(20,\" \"))"
   ]
  },
  {
   "cell_type": "markdown",
   "metadata": {},
   "source": [
    "<h3>\n",
    "<pre>\n",
    "Pattern 5\n",
    "\n",
    "1 2 3 4 5\n",
    " 1 2 3 4\n",
    "  1 2 3\n",
    "   1 2\n",
    "    1\n",
    "</pre>\n",
    "</h3>"
   ]
  },
  {
   "cell_type": "code",
   "execution_count": 46,
   "metadata": {},
   "outputs": [
    {
     "name": "stdout",
     "output_type": "stream",
     "text": [
      "     1 2 3 4 5      \n",
      "      1 2 3 4       \n",
      "       1 2 3        \n",
      "        1 2         \n",
      "         1          \n"
     ]
    }
   ],
   "source": [
    "pyramid_size = 5\n",
    "for i in range(pyramid_size,0, -1):\n",
    "    val=''\n",
    "    for j in range(1,i+1, 1):\n",
    "        val = val + str(j) + ' '\n",
    "    print(val.center(20,\" \"))"
   ]
  },
  {
   "cell_type": "markdown",
   "metadata": {},
   "source": [
    "<h3>\n",
    "<pre>\n",
    "Pattern 6\n",
    "\n",
    "   1\n",
    "  2 3\n",
    " 4 5 6\n",
    "7 8 9 10\n",
    "</pre>\n",
    "</h3>"
   ]
  },
  {
   "cell_type": "code",
   "execution_count": 53,
   "metadata": {},
   "outputs": [
    {
     "name": "stdout",
     "output_type": "stream",
     "text": [
      "         1          \n",
      "        2 3         \n",
      "       4 5 6        \n",
      "     7 8 9 10       \n"
     ]
    }
   ],
   "source": [
    "pyramid_size = 5\n",
    "counter = 0\n",
    "for i in range(1,pyramid_size, 1):\n",
    "    val=''\n",
    "    for j in range(0,i, 1):\n",
    "        counter = counter + 1\n",
    "        val = val + str(counter) + ' '\n",
    "    print(val.center(20,\" \"))"
   ]
  },
  {
   "cell_type": "markdown",
   "metadata": {},
   "source": [
    "<h3>\n",
    "<pre>\n",
    "Pattern 7\n",
    "\n",
    "   1\n",
    "  2 1\n",
    " 3 2 1\n",
    "4 3 2 1\n",
    "</pre>\n",
    "</h3>"
   ]
  },
  {
   "cell_type": "code",
   "execution_count": 54,
   "metadata": {},
   "outputs": [
    {
     "name": "stdout",
     "output_type": "stream",
     "text": [
      "         1          \n",
      "        2 1         \n",
      "       3 2 1        \n",
      "      4 3 2 1       \n"
     ]
    }
   ],
   "source": [
    "pyramid_size = 5\n",
    "for i in range(1,pyramid_size):\n",
    "    val=''\n",
    "    for j in range(i, 0, -1):\n",
    "        val = val + str(j) + ' '\n",
    "    print(val.center(20,\" \"))"
   ]
  },
  {
   "cell_type": "markdown",
   "metadata": {},
   "source": [
    "<h3>\n",
    "<pre>\n",
    "Pattern 8\n",
    "\n",
    "   1\n",
    "  2 7\n",
    " 3 8 13\n",
    "4 9 14 19\n",
    "</pre>\n",
    "</h3>"
   ]
  },
  {
   "cell_type": "code",
   "execution_count": 71,
   "metadata": {},
   "outputs": [
    {
     "name": "stdout",
     "output_type": "stream",
     "text": [
      "         1          \n",
      "        2 7         \n",
      "      3 8 13        \n",
      "     4 9 14 19      \n"
     ]
    }
   ],
   "source": [
    "pyramid_size = 5\n",
    "for i in range(1,pyramid_size):\n",
    "    val=''\n",
    "    for j in range(i,i*5,5):\n",
    "        val = val + str(j) + ' '\n",
    "    print(val.center(20,\" \"))"
   ]
  },
  {
   "cell_type": "markdown",
   "metadata": {},
   "source": [
    "<h3>\n",
    "<pre>\n",
    "Pattern 9\n",
    "\n",
    "     1\n",
    "   1 1\n",
    "  1 2 1\n",
    " 1 3 3 1\n",
    "1 4 6 4 1\n",
    "</pre>\n",
    "</h3>"
   ]
  },
  {
   "cell_type": "code",
   "execution_count": 25,
   "metadata": {},
   "outputs": [
    {
     "name": "stdout",
     "output_type": "stream",
     "text": [
      "         1          \n",
      "        1 1         \n",
      "       1 2 1        \n",
      "      1 3 3 1       \n",
      "     1 4 6 4 1      \n"
     ]
    }
   ],
   "source": [
    "n = 5\n",
    "for line in range(1, n + 1):  \n",
    "    C = 1;\n",
    "    val=''\n",
    "    for i in range(1, line + 1):\n",
    "        val = val + str(C) + ' '\n",
    "        C = int(C * (line - i) / i);\n",
    "    print(val.center(20,\" \"))"
   ]
  },
  {
   "cell_type": "markdown",
   "metadata": {},
   "source": [
    "<h3>\n",
    "<pre>\n",
    "Pattern 10\n",
    "\n",
    "   5\n",
    "  4 5\n",
    " 3 4 5\n",
    "2 3 4 5\n",
    "</pre>\n",
    "</h3>"
   ]
  },
  {
   "cell_type": "code",
   "execution_count": 26,
   "metadata": {},
   "outputs": [
    {
     "name": "stdout",
     "output_type": "stream",
     "text": [
      "         5          \n",
      "        4 5         \n",
      "       3 4 5        \n",
      "      2 3 4 5       \n",
      "     1 2 3 4 5      \n"
     ]
    }
   ],
   "source": [
    "pyramid_size = 5\n",
    "for i in range(pyramid_size+1, 1, -1):\n",
    "    val = ''\n",
    "    for j in range(i-1, pyramid_size+1):\n",
    "        val = val + str(j) + ' '\n",
    "    print(val.center(20,\" \"))"
   ]
  },
  {
   "cell_type": "markdown",
   "metadata": {},
   "source": [
    "<h3>\n",
    "<pre>\n",
    "Pattern 11\n",
    "\n",
    "   1\n",
    "  121\n",
    " 12321\n",
    "1234321\n",
    "</pre>\n",
    "</h3>"
   ]
  },
  {
   "cell_type": "code",
   "execution_count": 45,
   "metadata": {},
   "outputs": [
    {
     "name": "stdout",
     "output_type": "stream",
     "text": [
      "1\n",
      "123\n",
      "12345\n",
      "1234567\n",
      "123456789\n"
     ]
    }
   ],
   "source": [
    "pyramid_size = 5\n",
    "for i in range(1, pyramid_size*2 , 2):\n",
    "    for j in range(1,i+1):\n",
    "        print(j,end='')\n",
    "    print()"
   ]
  },
  {
   "cell_type": "markdown",
   "metadata": {},
   "source": [
    "<h3>\n",
    "<pre>\n",
    "Pattern 12\n",
    "\n",
    "   1\n",
    "  1 0\n",
    " 1 0 1\n",
    "1 0 1 0 \n",
    "</pre>\n",
    "</h3>"
   ]
  },
  {
   "cell_type": "code",
   "execution_count": null,
   "metadata": {},
   "outputs": [],
   "source": []
  },
  {
   "cell_type": "markdown",
   "metadata": {},
   "source": [
    "<h3>\n",
    "<pre>\n",
    "Pattern 13\n",
    "\n",
    "    1\n",
    "   2 6\n",
    "  3 7 10\n",
    " 4 8 11 13\n",
    "5 9 12 14 15\n",
    "</pre>\n",
    "</h3>"
   ]
  },
  {
   "cell_type": "code",
   "execution_count": null,
   "metadata": {},
   "outputs": [],
   "source": []
  },
  {
   "cell_type": "markdown",
   "metadata": {},
   "source": [
    "<h3>\n",
    "<pre>\n",
    "Pattern 14\n",
    "\n",
    "    1\n",
    "   2 9\n",
    "  3 8 10\n",
    " 4 7 11 14\n",
    "5 6 12 13 15\n",
    "</pre>\n",
    "</h3>"
   ]
  },
  {
   "cell_type": "code",
   "execution_count": null,
   "metadata": {},
   "outputs": [],
   "source": []
  },
  {
   "cell_type": "code",
   "execution_count": null,
   "metadata": {},
   "outputs": [],
   "source": []
  }
 ],
 "metadata": {
  "kernelspec": {
   "display_name": "Python 3",
   "language": "python",
   "name": "python3"
  },
  "language_info": {
   "codemirror_mode": {
    "name": "ipython",
    "version": 3
   },
   "file_extension": ".py",
   "mimetype": "text/x-python",
   "name": "python",
   "nbconvert_exporter": "python",
   "pygments_lexer": "ipython3",
   "version": "3.7.4"
  }
 },
 "nbformat": 4,
 "nbformat_minor": 2
}
