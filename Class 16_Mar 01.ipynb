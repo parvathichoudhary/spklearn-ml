{
 "cells": [
  {
   "cell_type": "code",
   "execution_count": 5,
   "metadata": {},
   "outputs": [],
   "source": [
    "import pandas as pd\n",
    "import numpy as np\n",
    "from IPython.core.interactiveshell import InteractiveShell\n",
    "InteractiveShell.ast_node_interactivity='all'"
   ]
  },
  {
   "cell_type": "markdown",
   "metadata": {},
   "source": [
    "### Functions"
   ]
  },
  {
   "cell_type": "code",
   "execution_count": 1,
   "metadata": {},
   "outputs": [
    {
     "name": "stdout",
     "output_type": "stream",
     "text": [
      "hello\n"
     ]
    }
   ],
   "source": [
    "def f1():\n",
    "    print('hello')\n",
    "f1()"
   ]
  },
  {
   "cell_type": "code",
   "execution_count": 2,
   "metadata": {},
   "outputs": [
    {
     "name": "stdout",
     "output_type": "stream",
     "text": [
      "4\n",
      "hellohello\n"
     ]
    }
   ],
   "source": [
    "def f1(x):\n",
    "    print(x*2)\n",
    "f1(2)\n",
    "f1('hello')"
   ]
  },
  {
   "cell_type": "code",
   "execution_count": 4,
   "metadata": {},
   "outputs": [
    {
     "data": {
      "text/plain": [
       "'D:\\\\sanooj\\\\datascience\\\\notebooks\\\\spklearn-ml'"
      ]
     },
     "execution_count": 4,
     "metadata": {},
     "output_type": "execute_result"
    }
   ],
   "source": [
    "pwd"
   ]
  },
  {
   "cell_type": "markdown",
   "metadata": {},
   "source": [
    "### Modules"
   ]
  },
  {
   "cell_type": "code",
   "execution_count": 40,
   "metadata": {},
   "outputs": [],
   "source": [
    "# Create a new file func_test.py in the same folder as above, that's how we can import as follows\n",
    "import func_test"
   ]
  },
  {
   "cell_type": "code",
   "execution_count": 41,
   "metadata": {},
   "outputs": [
    {
     "data": {
      "text/plain": [
       "9"
      ]
     },
     "execution_count": 41,
     "metadata": {},
     "output_type": "execute_result"
    },
    {
     "data": {
      "text/plain": [
       "27"
      ]
     },
     "execution_count": 41,
     "metadata": {},
     "output_type": "execute_result"
    }
   ],
   "source": [
    "# f3, f4 are functions defined in func_test.py\n",
    "func_test.f3(3)\n",
    "func_test.f4(3)"
   ]
  },
  {
   "cell_type": "code",
   "execution_count": 46,
   "metadata": {},
   "outputs": [],
   "source": [
    "# Create a new folder module_test and inside the module_test folder create a new file test.py, that's how \n",
    "# we can import as follows\n",
    "from module_test import test"
   ]
  },
  {
   "cell_type": "code",
   "execution_count": 47,
   "metadata": {},
   "outputs": [
    {
     "data": {
      "text/plain": [
       "9"
      ]
     },
     "execution_count": 47,
     "metadata": {},
     "output_type": "execute_result"
    }
   ],
   "source": [
    "test.f5(3)"
   ]
  },
  {
   "cell_type": "code",
   "execution_count": 53,
   "metadata": {},
   "outputs": [
    {
     "name": "stdout",
     "output_type": "stream",
     "text": [
      "100\n",
      "100\n",
      "None\n"
     ]
    }
   ],
   "source": [
    "def f7(x):\n",
    "    return x**2\n",
    "    print(x**2)\n",
    "\n",
    "def f8(x):\n",
    "    print(x**2)\n",
    "\n",
    "x=f7(10)\n",
    "y=f8(10)\n",
    "print(x)\n",
    "print(y)"
   ]
  },
  {
   "cell_type": "code",
   "execution_count": 3,
   "metadata": {},
   "outputs": [
    {
     "name": "stdout",
     "output_type": "stream",
     "text": [
      "Memory usage before optimization is: 0.08 MB\n",
      "Memory usage after optimization is: 0.02 MB\n",
      "Decreased by 78.2%\n",
      "\n",
      "Before NV treatment the stats are as below\n",
      "survived         0\n",
      "pclass           0\n",
      "sex              0\n",
      "age            177\n",
      "sibsp            0\n",
      "parch            0\n",
      "fare             0\n",
      "embarked         2\n",
      "class            0\n",
      "who              0\n",
      "adult_male       0\n",
      "deck           688\n",
      "embark_town      2\n",
      "alive            0\n",
      "alone            0\n",
      "dtype: int64\n",
      "Before NV treatment the stats are as below\n",
      "survived       0\n",
      "pclass         0\n",
      "sex            0\n",
      "age            0\n",
      "sibsp          0\n",
      "parch          0\n",
      "fare           0\n",
      "embarked       0\n",
      "class          0\n",
      "who            0\n",
      "adult_male     0\n",
      "embark_town    0\n",
      "alive          0\n",
      "alone          0\n",
      "dtype: int64\n",
      "\n",
      "Before iqr outler treatment the stats are as below\n",
      "         survived      pclass         age       sibsp       parch        fare  \\\n",
      "count  891.000000  891.000000  891.000000  891.000000  891.000000  891.000000   \n",
      "mean     0.383838    2.308642   29.359375    0.523008    0.381594   32.187500   \n",
      "std      0.486592    0.836071   13.015625    1.102743    0.806057         inf   \n",
      "min      0.000000    1.000000    0.419922    0.000000    0.000000    0.000000   \n",
      "25%      0.000000    2.000000   22.000000    0.000000    0.000000    7.910156   \n",
      "50%      0.000000    3.000000   28.000000    0.000000    0.000000   14.453125   \n",
      "75%      1.000000    3.000000   35.000000    1.000000    0.000000   31.000000   \n",
      "max      1.000000    3.000000   80.000000    8.000000    6.000000  512.500000   \n",
      "\n",
      "       adult_male       alone  \n",
      "count  891.000000  891.000000  \n",
      "mean     0.602539    0.602539  \n",
      "std      0.489746    0.489746  \n",
      "min      0.000000    0.000000  \n",
      "25%      0.000000    0.000000  \n",
      "50%      1.000000    1.000000  \n",
      "75%      1.000000    1.000000  \n",
      "max      1.000000    1.000000  \n",
      "After iqr outler treatment the stats are as below\n",
      "         survived      pclass         age       sibsp  parch        fare  \\\n",
      "count  891.000000  891.000000  891.000000  891.000000  891.0  891.000000   \n",
      "mean     0.383838    2.308642   28.476992    0.297419    0.0   17.383624   \n",
      "std      0.486592    0.836071    9.793559    0.521648    0.0   12.713531   \n",
      "min      0.000000    1.000000    3.000000    0.000000    0.0    0.000000   \n",
      "25%      0.000000    2.000000   23.750000    0.000000    0.0    7.910156   \n",
      "50%      0.000000    3.000000   28.000000    0.000000    0.0   14.453125   \n",
      "75%      1.000000    3.000000   33.000000    1.000000    0.0   24.156250   \n",
      "max      1.000000    3.000000   54.000000    2.000000    0.0   65.000000   \n",
      "\n",
      "       adult_male       alone  \n",
      "count  891.000000  891.000000  \n",
      "mean     0.602694    0.602694  \n",
      "std      0.489615    0.489615  \n",
      "min      0.000000    0.000000  \n",
      "25%      0.000000    0.000000  \n",
      "50%      1.000000    1.000000  \n",
      "75%      1.000000    1.000000  \n",
      "max      1.000000    1.000000  \n",
      "\n",
      "Before MinMax treatment the stats are as below\n",
      "         survived      pclass         age       sibsp  parch        fare  \\\n",
      "count  891.000000  891.000000  891.000000  891.000000  891.0  891.000000   \n",
      "mean     0.383838    2.308642   28.476992    0.297419    0.0   17.383624   \n",
      "std      0.486592    0.836071    9.793559    0.521648    0.0   12.713531   \n",
      "min      0.000000    1.000000    3.000000    0.000000    0.0    0.000000   \n",
      "25%      0.000000    2.000000   23.750000    0.000000    0.0    7.910156   \n",
      "50%      0.000000    3.000000   28.000000    0.000000    0.0   14.453125   \n",
      "75%      1.000000    3.000000   33.000000    1.000000    0.0   24.156250   \n",
      "max      1.000000    3.000000   54.000000    2.000000    0.0   65.000000   \n",
      "\n",
      "       adult_male       alone  \n",
      "count  891.000000  891.000000  \n",
      "mean     0.602694    0.602694  \n",
      "std      0.489615    0.489615  \n",
      "min      0.000000    0.000000  \n",
      "25%      0.000000    0.000000  \n",
      "50%      1.000000    1.000000  \n",
      "75%      1.000000    1.000000  \n",
      "max      1.000000    1.000000  \n",
      "After MinMax treatment the stats are as below\n",
      "         survived      pclass         age       sibsp  parch        fare  \\\n",
      "count  891.000000  891.000000  891.000000  891.000000  891.0  891.000000   \n",
      "mean     0.383838    0.654321    0.499549    0.148709    0.0    0.267440   \n",
      "std      0.486592    0.418036    0.192031    0.260824    0.0    0.195593   \n",
      "min      0.000000    0.000000    0.000000    0.000000    0.0    0.000000   \n",
      "25%      0.000000    0.500000    0.406863    0.000000    0.0    0.121695   \n",
      "50%      0.000000    1.000000    0.490196    0.000000    0.0    0.222356   \n",
      "75%      1.000000    1.000000    0.588235    0.500000    0.0    0.371635   \n",
      "max      1.000000    1.000000    1.000000    1.000000    0.0    1.000000   \n",
      "\n",
      "       adult_male       alone  \n",
      "count  891.000000  891.000000  \n",
      "mean     0.602694    0.602694  \n",
      "std      0.489615    0.489615  \n",
      "min      0.000000    0.000000  \n",
      "25%      0.000000    0.000000  \n",
      "50%      1.000000    1.000000  \n",
      "75%      1.000000    1.000000  \n",
      "max      1.000000    1.000000  \n"
     ]
    }
   ],
   "source": [
    "from preprocessing.memory import MemoryUtil\n",
    "from preprocessing.nv import NVUtil\n",
    "from preprocessing.outlier import OutlierUtil\n",
    "from preprocessing.scalar import ScalarUtil\n",
    "import seaborn as sns\n",
    "import numpy as np\n",
    "\n",
    "df=sns.load_dataset('titanic')\n",
    "\n",
    "df = MemoryUtil.memory_optimize(df)\n",
    "excluded,retained,numerical,categorical,df = NVUtil.nv_treatment(df,30)\n",
    "df = OutlierUtil.iqr_outlier_treatment(df,numerical)\n",
    "df = ScalarUtil.min_max_scalar(df,numerical)"
   ]
  },
  {
   "cell_type": "markdown",
   "metadata": {},
   "source": [
    "### Nested Functions"
   ]
  },
  {
   "cell_type": "code",
   "execution_count": 7,
   "metadata": {},
   "outputs": [],
   "source": [
    "def func1(x):\n",
    "    print('func1')\n",
    "    \n",
    "    def inner_func1():\n",
    "        print('inner_func1')\n",
    "    \n",
    "    def inner_func2():\n",
    "        print('inner_func2')\n",
    "    \n",
    "    if x==2:\n",
    "        return inner_func1()\n",
    "    else:\n",
    "        return inner_func2()\n",
    "# eventhough we are just returning inner_func1() OR inner_func2() , when func1() is invoked either of \n",
    "# inner_func1() OR inner_func2() will be invoked based on the value of x"
   ]
  },
  {
   "cell_type": "code",
   "execution_count": 7,
   "metadata": {},
   "outputs": [
    {
     "name": "stdout",
     "output_type": "stream",
     "text": [
      "func1\n",
      "inner_func2\n"
     ]
    }
   ],
   "source": [
    "func1(10)"
   ]
  },
  {
   "cell_type": "code",
   "execution_count": 8,
   "metadata": {},
   "outputs": [
    {
     "name": "stdout",
     "output_type": "stream",
     "text": [
      "func1\n",
      "inner_func1\n"
     ]
    }
   ],
   "source": [
    "func1(2)"
   ]
  },
  {
   "cell_type": "code",
   "execution_count": 8,
   "metadata": {},
   "outputs": [
    {
     "name": "stdout",
     "output_type": "stream",
     "text": [
      "func1\n",
      "inner_func2\n"
     ]
    },
    {
     "data": {
      "text/plain": [
       "NoneType"
      ]
     },
     "execution_count": 8,
     "metadata": {},
     "output_type": "execute_result"
    },
    {
     "name": "stdout",
     "output_type": "stream",
     "text": [
      "None\n"
     ]
    },
    {
     "ename": "TypeError",
     "evalue": "'NoneType' object is not callable",
     "output_type": "error",
     "traceback": [
      "\u001b[1;31m---------------------------------------------------------------------------\u001b[0m",
      "\u001b[1;31mTypeError\u001b[0m                                 Traceback (most recent call last)",
      "\u001b[1;32m<ipython-input-8-96462dcde6a8>\u001b[0m in \u001b[0;36m<module>\u001b[1;34m\u001b[0m\n\u001b[0;32m      5\u001b[0m \u001b[1;31m# Experimenting if the return value can be assigned to a variable and be invoked, but it's giving error\u001b[0m\u001b[1;33m\u001b[0m\u001b[1;33m\u001b[0m\u001b[1;33m\u001b[0m\u001b[0m\n\u001b[0;32m      6\u001b[0m \u001b[1;33m\u001b[0m\u001b[0m\n\u001b[1;32m----> 7\u001b[1;33m \u001b[0mout\u001b[0m\u001b[1;33m(\u001b[0m\u001b[1;33m)\u001b[0m\u001b[1;33m\u001b[0m\u001b[1;33m\u001b[0m\u001b[0m\n\u001b[0m",
      "\u001b[1;31mTypeError\u001b[0m: 'NoneType' object is not callable"
     ]
    }
   ],
   "source": [
    "out = func1(10)\n",
    "type(out)\n",
    "print(out)\n",
    "\n",
    "# Experimenting if the return value can be assigned to a variable and be invoked, but it's giving error\n",
    "\n",
    "out()"
   ]
  },
  {
   "cell_type": "markdown",
   "metadata": {},
   "source": [
    "### Variable Scope"
   ]
  },
  {
   "cell_type": "code",
   "execution_count": null,
   "metadata": {},
   "outputs": [],
   "source": [
    "## Variable scope in the order of priority as below\n",
    "## 1) Local\n",
    "## 2) Enclosing brackets\n",
    "## 3) Global\n",
    "## 4) Builtin"
   ]
  },
  {
   "cell_type": "code",
   "execution_count": 23,
   "metadata": {},
   "outputs": [
    {
     "name": "stdout",
     "output_type": "stream",
     "text": [
      "in main, bar is 100\n",
      "\n",
      "calling foo()...\n",
      "in foo(), bar is 200\n",
      "in main, bar is 100\n"
     ]
    }
   ],
   "source": [
    "def foo():\n",
    "    print( \"\\ncalling foo()...\")\n",
    "    bar = 200\n",
    "    print( \"in foo(), bar is\", bar)\n",
    "\n",
    "bar = 100\n",
    "print (\"in main, bar is\", bar)\n",
    "foo()\n",
    "print (\"in main, bar is\", bar)"
   ]
  },
  {
   "cell_type": "code",
   "execution_count": 27,
   "metadata": {},
   "outputs": [
    {
     "name": "stdout",
     "output_type": "stream",
     "text": [
      "1 2 3\n",
      "1 2 3\n",
      "1 2 3\n"
     ]
    }
   ],
   "source": [
    "def f(a, b, c): \n",
    "    print (a, b, c)\n",
    "\n",
    "f(1, 2, 3)\n",
    "f(c=3, b=2, a=1)\n",
    "f(1, c=3, b=2)"
   ]
  },
  {
   "cell_type": "code",
   "execution_count": 33,
   "metadata": {},
   "outputs": [
    {
     "name": "stdout",
     "output_type": "stream",
     "text": [
      "6\n",
      "15\n"
     ]
    }
   ],
   "source": [
    "def f(a, b, c): \n",
    "    print (a+b+c)\n",
    "\n",
    "f(1,2,3)\n",
    "\n",
    "def f(a, b=2, c=4): \n",
    "    print (a+b+c)\n",
    "\n",
    "f(4,5,6)"
   ]
  },
  {
   "cell_type": "code",
   "execution_count": 40,
   "metadata": {},
   "outputs": [
    {
     "name": "stdout",
     "output_type": "stream",
     "text": [
      "6\n",
      "15\n"
     ]
    }
   ],
   "source": [
    "def f(a, b, c): \n",
    "    print (a+b+c)\n",
    "\n",
    "f(1,2,3)\n",
    "\n",
    "def f(a, b=2, c=4): \n",
    "    print (a+b+c)\n",
    "\n",
    "f(4,5,6)"
   ]
  },
  {
   "cell_type": "code",
   "execution_count": null,
   "metadata": {},
   "outputs": [],
   "source": [
    "## map, filter, reduce"
   ]
  },
  {
   "cell_type": "markdown",
   "metadata": {},
   "source": [
    "### MAP"
   ]
  },
  {
   "cell_type": "code",
   "execution_count": null,
   "metadata": {},
   "outputs": [],
   "source": [
    "# Map takes a function as an argument and also a index based data structure. Function will be invoked with \n",
    "# each element of the data structure and the output will be assigned to a list."
   ]
  },
  {
   "cell_type": "code",
   "execution_count": 52,
   "metadata": {},
   "outputs": [
    {
     "data": {
      "text/plain": [
       "<map at 0x1ac4b4c4a88>"
      ]
     },
     "execution_count": 52,
     "metadata": {},
     "output_type": "execute_result"
    },
    {
     "data": {
      "text/plain": [
       "[1, 4, 9, 16, 25]"
      ]
     },
     "execution_count": 52,
     "metadata": {},
     "output_type": "execute_result"
    },
    {
     "data": {
      "text/plain": [
       "[1, 4, 9, 16, 25, 36, 49, 64, 81]"
      ]
     },
     "execution_count": 52,
     "metadata": {},
     "output_type": "execute_result"
    },
    {
     "data": {
      "text/plain": [
       "map"
      ]
     },
     "execution_count": 52,
     "metadata": {},
     "output_type": "execute_result"
    }
   ],
   "source": [
    "def func2(x):\n",
    "    return x**2\n",
    "\n",
    "map(func2,np.array([1,2,3,4,5])) \n",
    "## map method's second argument should take a datastructure that has index\n",
    "\n",
    "list(map(func2,np.array([1,2,3,4,5])))\n",
    "\n",
    "list(map(func2,np.arange(1,10)))\n",
    "\n",
    "type(map(func2,np.arange(1,10)))\n",
    "\n",
    "## map returns output for each values in the datastructure"
   ]
  },
  {
   "cell_type": "markdown",
   "metadata": {},
   "source": [
    "### Filter"
   ]
  },
  {
   "cell_type": "code",
   "execution_count": null,
   "metadata": {},
   "outputs": [],
   "source": [
    "# Filter takes a function as an argument and also a index based data structure. Function will be invoked with \n",
    "# each element of the data structure and the output will be assigned to a list. Only such elements of the\n",
    "# datastucture matching the filter condition will be assigned to the list"
   ]
  },
  {
   "cell_type": "code",
   "execution_count": 3,
   "metadata": {},
   "outputs": [
    {
     "data": {
      "text/plain": [
       "[2, 4, 6, 8]"
      ]
     },
     "execution_count": 3,
     "metadata": {},
     "output_type": "execute_result"
    }
   ],
   "source": [
    "def func3(x):\n",
    "    if x%2 == 0:\n",
    "        return True\n",
    "    else:\n",
    "        return False\n",
    "    \n",
    "list(filter(func3,np.arange(1,10))) \n",
    "## Filter takes in a function that returns True/False\n",
    "## Filter takes in an argument which is a datastructure that is index based\n",
    "## On invocation of filter method, it applies the function on each element on the datastructure and returns the \n",
    "## elements which returns True"
   ]
  },
  {
   "cell_type": "code",
   "execution_count": null,
   "metadata": {},
   "outputs": [],
   "source": []
  },
  {
   "cell_type": "code",
   "execution_count": null,
   "metadata": {},
   "outputs": [],
   "source": []
  },
  {
   "cell_type": "code",
   "execution_count": null,
   "metadata": {},
   "outputs": [],
   "source": []
  },
  {
   "cell_type": "code",
   "execution_count": null,
   "metadata": {},
   "outputs": [],
   "source": []
  },
  {
   "cell_type": "code",
   "execution_count": null,
   "metadata": {},
   "outputs": [],
   "source": []
  }
 ],
 "metadata": {
  "kernelspec": {
   "display_name": "Python 3",
   "language": "python",
   "name": "python3"
  },
  "language_info": {
   "codemirror_mode": {
    "name": "ipython",
    "version": 3
   },
   "file_extension": ".py",
   "mimetype": "text/x-python",
   "name": "python",
   "nbconvert_exporter": "python",
   "pygments_lexer": "ipython3",
   "version": "3.7.4"
  }
 },
 "nbformat": 4,
 "nbformat_minor": 2
}
