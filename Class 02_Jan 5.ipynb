{
 "cells": [
  {
   "cell_type": "markdown",
   "metadata": {},
   "source": [
    "<h1> Day 2 - Class </h1>\n",
    "\n",
    "## Lists & Numpy\n",
    "In the previous class, we studied the basic datatypes : int, float and str. In this class we will see lists and numpy."
   ]
  },
  {
   "cell_type": "markdown",
   "metadata": {},
   "source": [
    "### Lists\n",
    "List can hold items of multiple data types. In the example below, the list 'a' holds data of type int and lists"
   ]
  },
  {
   "cell_type": "code",
   "execution_count": 7,
   "metadata": {},
   "outputs": [],
   "source": [
    "from IPython.core.interactiveshell import InteractiveShell\n",
    "InteractiveShell.ast_node_interactivity='all'"
   ]
  },
  {
   "cell_type": "code",
   "execution_count": 8,
   "metadata": {},
   "outputs": [
    {
     "data": {
      "text/plain": [
       "'DAMA'"
      ]
     },
     "execution_count": 8,
     "metadata": {},
     "output_type": "execute_result"
    }
   ],
   "source": [
    "# Given the list 'a' , get the output DAMA\n",
    "a = [1,2,3,4,[\"data science\",[\"machine learning\"]]]\n",
    "a[4][0][0:2].upper() + a[4][1][0][0:2].upper()"
   ]
  },
  {
   "cell_type": "code",
   "execution_count": 9,
   "metadata": {},
   "outputs": [
    {
     "data": {
      "text/plain": [
       "list"
      ]
     },
     "execution_count": 9,
     "metadata": {},
     "output_type": "execute_result"
    },
    {
     "data": {
      "text/plain": [
       "int"
      ]
     },
     "execution_count": 9,
     "metadata": {},
     "output_type": "execute_result"
    },
    {
     "data": {
      "text/plain": [
       "list"
      ]
     },
     "execution_count": 9,
     "metadata": {},
     "output_type": "execute_result"
    }
   ],
   "source": [
    "type(a)\n",
    "type(a[0])\n",
    "type(a[4])"
   ]
  },
  {
   "cell_type": "markdown",
   "metadata": {},
   "source": [
    "#### Bulk operations on List\n",
    "Let's try to add or divide the entire List in one go. It will not work and gives an error. Even the multiplication operation is not giving the intended result, it's just repeating the elements twice"
   ]
  },
  {
   "cell_type": "code",
   "execution_count": 13,
   "metadata": {},
   "outputs": [
    {
     "ename": "TypeError",
     "evalue": "can only concatenate list (not \"int\") to list",
     "output_type": "error",
     "traceback": [
      "\u001b[1;31m---------------------------------------------------------------------------\u001b[0m",
      "\u001b[1;31mTypeError\u001b[0m                                 Traceback (most recent call last)",
      "\u001b[1;32m<ipython-input-13-533d000a5f91>\u001b[0m in \u001b[0;36m<module>\u001b[1;34m\u001b[0m\n\u001b[0;32m      1\u001b[0m \u001b[0ma\u001b[0m \u001b[1;33m=\u001b[0m \u001b[1;33m[\u001b[0m\u001b[1;36m2\u001b[0m\u001b[1;33m,\u001b[0m\u001b[1;36m4\u001b[0m\u001b[1;33m,\u001b[0m\u001b[1;36m6\u001b[0m\u001b[1;33m,\u001b[0m\u001b[1;36m8\u001b[0m\u001b[1;33m]\u001b[0m\u001b[1;33m\u001b[0m\u001b[1;33m\u001b[0m\u001b[0m\n\u001b[1;32m----> 2\u001b[1;33m \u001b[0ma\u001b[0m \u001b[1;33m+\u001b[0m \u001b[1;36m2\u001b[0m\u001b[1;33m\u001b[0m\u001b[1;33m\u001b[0m\u001b[0m\n\u001b[0m",
      "\u001b[1;31mTypeError\u001b[0m: can only concatenate list (not \"int\") to list"
     ]
    }
   ],
   "source": [
    "a = [2,4,6,8]\n",
    "a + 2"
   ]
  },
  {
   "cell_type": "code",
   "execution_count": 12,
   "metadata": {},
   "outputs": [
    {
     "data": {
      "text/plain": [
       "[2, 4, 6, 8, 2, 4, 6, 8]"
      ]
     },
     "execution_count": 12,
     "metadata": {},
     "output_type": "execute_result"
    }
   ],
   "source": [
    "a = [2,4,6,8]\n",
    "a * 2"
   ]
  },
  {
   "cell_type": "code",
   "execution_count": 11,
   "metadata": {},
   "outputs": [
    {
     "ename": "TypeError",
     "evalue": "unsupported operand type(s) for /: 'list' and 'int'",
     "output_type": "error",
     "traceback": [
      "\u001b[1;31m---------------------------------------------------------------------------\u001b[0m",
      "\u001b[1;31mTypeError\u001b[0m                                 Traceback (most recent call last)",
      "\u001b[1;32m<ipython-input-11-db7c7746af6e>\u001b[0m in \u001b[0;36m<module>\u001b[1;34m\u001b[0m\n\u001b[0;32m      1\u001b[0m \u001b[0ma\u001b[0m \u001b[1;33m=\u001b[0m \u001b[1;33m[\u001b[0m\u001b[1;36m2\u001b[0m\u001b[1;33m,\u001b[0m\u001b[1;36m4\u001b[0m\u001b[1;33m,\u001b[0m\u001b[1;36m6\u001b[0m\u001b[1;33m,\u001b[0m\u001b[1;36m8\u001b[0m\u001b[1;33m]\u001b[0m\u001b[1;33m\u001b[0m\u001b[1;33m\u001b[0m\u001b[0m\n\u001b[1;32m----> 2\u001b[1;33m \u001b[0ma\u001b[0m \u001b[1;33m/\u001b[0m \u001b[1;36m2\u001b[0m\u001b[1;33m\u001b[0m\u001b[1;33m\u001b[0m\u001b[0m\n\u001b[0m",
      "\u001b[1;31mTypeError\u001b[0m: unsupported operand type(s) for /: 'list' and 'int'"
     ]
    }
   ],
   "source": [
    "a = [2,4,6,8]\n",
    "a / 2"
   ]
  },
  {
   "cell_type": "markdown",
   "metadata": {},
   "source": [
    "### Numpy\n",
    "In Python we have lists that serve the purpose of arrays, but they are slow to process.NumPy aims to provide an array object that is up to 50x faster that traditional Python lists. The array object in NumPy is called ndarray, it provides a lot of supporting functions that make working with ndarray very easy.\n",
    "\n",
    "Arrays are very frequently used in data science, where speed and resources are very important. Numpy functions for working in domain of linear algebra, fourier transform, and matrices.\n",
    "\n",
    "In short, NumPy is a library for the Python programming language, adding support for large, multi-dimensional arrays and matrices, along with a large collection of high-level mathematical functions to operate on these arrays.\n",
    "\n",
    "#### Features\n",
    "It contains among other things:\n",
    "\n",
    "- a powerful N-dimensional array object\n",
    "\n",
    "- sophisticated (broadcasting) functions\n",
    "\n",
    "- tools for integrating C/C++ and Fortran code\n",
    "\n",
    "- useful linear algebra, Fourier transform, and random number capabilities\n",
    "\n",
    "- Besides its obvious scientific uses, NumPy can also be used as an efficient multi-dimensional container of generic data. \n",
    "\n",
    "- Arbitrary data-types can be defined. This allows NumPy to seamlessly and speedily integrate with a wide variety of databases.\n",
    "\n",
    "#### Why is NumPy Faster Than Lists?\n",
    "\n",
    "NumPy arrays are stored at one continuous place in memory unlike lists, so processes can access and manipulate them very efficiently.\n",
    "\n",
    "This behavior is called locality of reference in computer science.\n",
    "\n",
    "This is the main reason why NumPy is faster than lists. Also it is optimized to work with latest CPU architectures.\n",
    "\n",
    "#### Which Language is NumPy written in?\n",
    "\n",
    "NumPy is a Python library and is written partially in Python, but most of the parts that require fast computation are written in C or C++.\n"
   ]
  },
  {
   "cell_type": "code",
   "execution_count": 15,
   "metadata": {},
   "outputs": [
    {
     "data": {
      "text/plain": [
       "numpy.ndarray"
      ]
     },
     "execution_count": 15,
     "metadata": {},
     "output_type": "execute_result"
    },
    {
     "data": {
      "text/plain": [
       "array([ 4,  6,  8, 10])"
      ]
     },
     "execution_count": 15,
     "metadata": {},
     "output_type": "execute_result"
    },
    {
     "data": {
      "text/plain": [
       "array([ 4,  8, 12, 16])"
      ]
     },
     "execution_count": 15,
     "metadata": {},
     "output_type": "execute_result"
    },
    {
     "data": {
      "text/plain": [
       "array([1., 2., 3., 4.])"
      ]
     },
     "execution_count": 15,
     "metadata": {},
     "output_type": "execute_result"
    }
   ],
   "source": [
    "import numpy as np\n",
    "x = [2,4,6,8]\n",
    "y = np.array(x)\n",
    "type(y)\n",
    "\n",
    "y + 2\n",
    "\n",
    "y * 2\n",
    "\n",
    "y / 2"
   ]
  },
  {
   "cell_type": "markdown",
   "metadata": {},
   "source": [
    "#### NumPy Functions\n",
    "##### Random"
   ]
  },
  {
   "cell_type": "code",
   "execution_count": 41,
   "metadata": {},
   "outputs": [
    {
     "name": "stdout",
     "output_type": "stream",
     "text": [
      "data1 -> A random number between 5 and 10 : \n",
      " 8\n",
      "\n",
      "data2 -> A list with 3 random numbers between 5 and 10 : \n",
      " [5 7 5]\n",
      "\n",
      "data3 -> A list with 5 rows and 3 columns with random numbers between 5 and 10 : \n",
      " [[8 9 9]\n",
      " [8 6 8]\n",
      " [5 6 9]\n",
      " [5 5 5]\n",
      " [5 7 9]]\n",
      "\n",
      "Shape of data2 is (3,) and shape of data3 is (5, 3)\n",
      "\n",
      "Type of data1 is <class 'int'>, Type of data2 is <class 'numpy.ndarray'> and type of data3 is <class 'numpy.ndarray'>\n"
     ]
    }
   ],
   "source": [
    "data1 = np.random.randint(5,10)\n",
    "\n",
    "data2 = np.random.randint(5,10,3)\n",
    "\n",
    "data3 = np.random.randint(5,10,(5,3))\n",
    "\n",
    "print('data1 -> A random number between 5 and 10 : \\n', data1)\n",
    "print()\n",
    "print('data2 -> A list with 3 random numbers between 5 and 10 : \\n', data2)\n",
    "print()\n",
    "print('data3 -> A list with 5 rows and 3 columns with random numbers between 5 and 10 : \\n', data3)\n",
    "print()\n",
    "\n",
    "print('Shape of data2 is {} and shape of data3 is {}'.format(data2.shape, data3.shape))\n",
    "print()\n",
    "print('Type of data1 is {}, Type of data2 is {} and type of data3 is {}'.format(type(data1), type(data2), type(data3)))"
   ]
  },
  {
   "cell_type": "code",
   "execution_count": 59,
   "metadata": {},
   "outputs": [
    {
     "data": {
      "text/plain": [
       "array([0.22465387, 0.9214794 , 0.36798175, 0.62879806, 0.50653279,\n",
       "       0.27631806, 0.81299251, 0.52990775, 0.39745495, 0.26191832])"
      ]
     },
     "execution_count": 59,
     "metadata": {},
     "output_type": "execute_result"
    },
    {
     "data": {
      "text/plain": [
       "array([ 0.97489542,  1.12283699,  0.76613446,  0.43894349, -1.02704631,\n",
       "        0.03302306, -0.20461281, -0.62667168,  1.07469535, -0.36596425])"
      ]
     },
     "execution_count": 59,
     "metadata": {},
     "output_type": "execute_result"
    }
   ],
   "source": [
    "# Generates 10 random numbers between 0 and 1\n",
    "data4 = np.random.rand(10)\n",
    "\n",
    "# Generates 10 random numbers which follows normal distribution\n",
    "data5 = np.random.randn(10)\n",
    "\n",
    "data4\n",
    "\n",
    "data5"
   ]
  },
  {
   "cell_type": "code",
   "execution_count": 60,
   "metadata": {},
   "outputs": [
    {
     "data": {
      "text/plain": [
       "array([[1., 0., 0., 0., 0.],\n",
       "       [0., 1., 0., 0., 0.],\n",
       "       [0., 0., 1., 0., 0.],\n",
       "       [0., 0., 0., 1., 0.],\n",
       "       [0., 0., 0., 0., 1.]])"
      ]
     },
     "execution_count": 60,
     "metadata": {},
     "output_type": "execute_result"
    },
    {
     "data": {
      "text/plain": [
       "array([0., 0., 0., 0., 0.])"
      ]
     },
     "execution_count": 60,
     "metadata": {},
     "output_type": "execute_result"
    },
    {
     "data": {
      "text/plain": [
       "array([[0., 0., 0., 0., 0.],\n",
       "       [0., 0., 0., 0., 0.],\n",
       "       [0., 0., 0., 0., 0.],\n",
       "       [0., 0., 0., 0., 0.],\n",
       "       [0., 0., 0., 0., 0.]])"
      ]
     },
     "execution_count": 60,
     "metadata": {},
     "output_type": "execute_result"
    },
    {
     "data": {
      "text/plain": [
       "array([1., 1., 1., 1., 1.])"
      ]
     },
     "execution_count": 60,
     "metadata": {},
     "output_type": "execute_result"
    },
    {
     "data": {
      "text/plain": [
       "array([[1., 1., 1., 1., 1.],\n",
       "       [1., 1., 1., 1., 1.],\n",
       "       [1., 1., 1., 1., 1.],\n",
       "       [1., 1., 1., 1., 1.],\n",
       "       [1., 1., 1., 1., 1.]])"
      ]
     },
     "execution_count": 60,
     "metadata": {},
     "output_type": "execute_result"
    }
   ],
   "source": [
    "# Generates an identity matrix(a matrix with all diagonal element 1 and all other elements 0)\n",
    "np.eye(5)\n",
    "# Generates a list of 5 zeroes\n",
    "np.zeros(5)\n",
    "# Generates a 5 * 5 list of all zeroes\n",
    "np.zeros((5,5))\n",
    "# Generates a list of 5 ones\n",
    "np.ones(5)\n",
    "# Generates a 5 * 5 list of all ones\n",
    "np.ones((5,5))"
   ]
  },
  {
   "cell_type": "markdown",
   "metadata": {},
   "source": [
    "##### Math & statistical functions"
   ]
  },
  {
   "cell_type": "code",
   "execution_count": 64,
   "metadata": {},
   "outputs": [
    {
     "data": {
      "text/plain": [
       "array([[2, 2, 2, 2],\n",
       "       [3, 3, 2, 3],\n",
       "       [2, 3, 2, 3]])"
      ]
     },
     "execution_count": 64,
     "metadata": {},
     "output_type": "execute_result"
    },
    {
     "data": {
      "text/plain": [
       "array([[1.41421356, 1.41421356, 1.41421356, 1.41421356],\n",
       "       [1.73205081, 1.73205081, 1.41421356, 1.73205081],\n",
       "       [1.41421356, 1.73205081, 1.41421356, 1.73205081]])"
      ]
     },
     "execution_count": 64,
     "metadata": {},
     "output_type": "execute_result"
    },
    {
     "data": {
      "text/plain": [
       "5.385164807134504"
      ]
     },
     "execution_count": 64,
     "metadata": {},
     "output_type": "execute_result"
    },
    {
     "data": {
      "text/plain": [
       "array([2.64575131, 2.82842712, 2.44948974, 2.82842712])"
      ]
     },
     "execution_count": 64,
     "metadata": {},
     "output_type": "execute_result"
    },
    {
     "data": {
      "text/plain": [
       "array([2.82842712, 3.31662479, 3.16227766])"
      ]
     },
     "execution_count": 64,
     "metadata": {},
     "output_type": "execute_result"
    }
   ],
   "source": [
    "data = np.random.randint(2,4,(3,4))\n",
    "data\n",
    "# Gives a 3*4 list with each value corresponding the square root of the elememts\n",
    "np.sqrt(data)\n",
    "# Sums up all the elements of the data and then finds square root\n",
    "np.sqrt(data.sum())\n",
    "# Sums up all the elements in a column, finds the square root. \n",
    "# Notice there are 4 elements in the output (corresponding to each column)\n",
    "np.sqrt(data.sum(axis=0))\n",
    "# Sums up all the elements in a row, finds the square root.\n",
    "# Notice there are 3 elements in the output (corresponding to each row)\n",
    "np.sqrt(data.sum(axis=1))"
   ]
  },
  {
   "cell_type": "markdown",
   "metadata": {},
   "source": [
    "##### Mean, Standard Deviation, Variance"
   ]
  },
  {
   "cell_type": "code",
   "execution_count": 67,
   "metadata": {},
   "outputs": [
    {
     "data": {
      "text/plain": [
       "29"
      ]
     },
     "execution_count": 67,
     "metadata": {},
     "output_type": "execute_result"
    },
    {
     "data": {
      "text/plain": [
       "array([7, 8, 6, 8])"
      ]
     },
     "execution_count": 67,
     "metadata": {},
     "output_type": "execute_result"
    },
    {
     "data": {
      "text/plain": [
       "array([ 8, 11, 10])"
      ]
     },
     "execution_count": 67,
     "metadata": {},
     "output_type": "execute_result"
    },
    {
     "data": {
      "text/plain": [
       "2.4166666666666665"
      ]
     },
     "execution_count": 67,
     "metadata": {},
     "output_type": "execute_result"
    },
    {
     "data": {
      "text/plain": [
       "array([2.33333333, 2.66666667, 2.        , 2.66666667])"
      ]
     },
     "execution_count": 67,
     "metadata": {},
     "output_type": "execute_result"
    },
    {
     "data": {
      "text/plain": [
       "array([2.  , 2.75, 2.5 ])"
      ]
     },
     "execution_count": 67,
     "metadata": {},
     "output_type": "execute_result"
    },
    {
     "data": {
      "text/plain": [
       "0.49300664859163473"
      ]
     },
     "execution_count": 67,
     "metadata": {},
     "output_type": "execute_result"
    },
    {
     "data": {
      "text/plain": [
       "array([0.47140452, 0.47140452, 0.        , 0.47140452])"
      ]
     },
     "execution_count": 67,
     "metadata": {},
     "output_type": "execute_result"
    },
    {
     "data": {
      "text/plain": [
       "array([0.       , 0.4330127, 0.5      ])"
      ]
     },
     "execution_count": 67,
     "metadata": {},
     "output_type": "execute_result"
    },
    {
     "data": {
      "text/plain": [
       "0.2430555555555556"
      ]
     },
     "execution_count": 67,
     "metadata": {},
     "output_type": "execute_result"
    },
    {
     "data": {
      "text/plain": [
       "array([0.22222222, 0.22222222, 0.        , 0.22222222])"
      ]
     },
     "execution_count": 67,
     "metadata": {},
     "output_type": "execute_result"
    },
    {
     "data": {
      "text/plain": [
       "array([0.    , 0.1875, 0.25  ])"
      ]
     },
     "execution_count": 67,
     "metadata": {},
     "output_type": "execute_result"
    }
   ],
   "source": [
    "# Sum of all the elements inside data\n",
    "data.sum()\n",
    "\n",
    "# Sum of all the elements within each column\n",
    "data.sum(axis=0)\n",
    "\n",
    "# Sum of all the elements within each row\n",
    "data.sum(axis=1)\n",
    "\n",
    "# Mean of all the elements inside data\n",
    "data.mean()\n",
    "\n",
    "# Mean of all the elements within each column\n",
    "data.mean(axis=0)\n",
    "\n",
    "# Mean of all the elements within each row\n",
    "data.mean(axis=1)\n",
    "\n",
    "# Standard Deviation of all the elements inside data\n",
    "data.std()\n",
    "\n",
    "# Standard Deviation of all the elements within each column\n",
    "data.std(axis=0)\n",
    "\n",
    "# Standard Deviation of all the elements within each row\n",
    "data.std(axis=1)\n",
    "\n",
    "# Variance of all the elements inside data\n",
    "data.var()\n",
    "\n",
    "# Variance of all the elements within each column\n",
    "data.var(axis=0)\n",
    "\n",
    "# Variance of all the elements within each row\n",
    "data.var(axis=1)"
   ]
  },
  {
   "cell_type": "markdown",
   "metadata": {},
   "source": [
    "##### Min , Max, ArgMin, ArgMax"
   ]
  },
  {
   "cell_type": "code",
   "execution_count": 74,
   "metadata": {},
   "outputs": [
    {
     "data": {
      "text/plain": [
       "array([[8, 5, 9, 5, 4],\n",
       "       [8, 5, 5, 5, 9],\n",
       "       [5, 2, 7, 5, 3]])"
      ]
     },
     "execution_count": 74,
     "metadata": {},
     "output_type": "execute_result"
    }
   ],
   "source": [
    "data = np.random.randint(2,10,(3,5))\n",
    "data"
   ]
  },
  {
   "cell_type": "code",
   "execution_count": 80,
   "metadata": {},
   "outputs": [
    {
     "data": {
      "text/plain": [
       "2"
      ]
     },
     "execution_count": 80,
     "metadata": {},
     "output_type": "execute_result"
    },
    {
     "data": {
      "text/plain": [
       "9"
      ]
     },
     "execution_count": 80,
     "metadata": {},
     "output_type": "execute_result"
    },
    {
     "data": {
      "text/plain": [
       "array([5, 2, 5, 5, 3])"
      ]
     },
     "execution_count": 80,
     "metadata": {},
     "output_type": "execute_result"
    },
    {
     "data": {
      "text/plain": [
       "array([4, 5, 2])"
      ]
     },
     "execution_count": 80,
     "metadata": {},
     "output_type": "execute_result"
    },
    {
     "data": {
      "text/plain": [
       "array([8, 5, 9, 5, 9])"
      ]
     },
     "execution_count": 80,
     "metadata": {},
     "output_type": "execute_result"
    },
    {
     "data": {
      "text/plain": [
       "array([9, 9, 7])"
      ]
     },
     "execution_count": 80,
     "metadata": {},
     "output_type": "execute_result"
    }
   ],
   "source": [
    "data.min()\n",
    "data.max()\n",
    "data.min(axis=0)\n",
    "data.min(axis=1)\n",
    "data.max(axis=0)\n",
    "data.max(axis=1)"
   ]
  },
  {
   "cell_type": "code",
   "execution_count": 81,
   "metadata": {},
   "outputs": [
    {
     "data": {
      "text/plain": [
       "11"
      ]
     },
     "execution_count": 81,
     "metadata": {},
     "output_type": "execute_result"
    },
    {
     "data": {
      "text/plain": [
       "2"
      ]
     },
     "execution_count": 81,
     "metadata": {},
     "output_type": "execute_result"
    },
    {
     "data": {
      "text/plain": [
       "array([2, 2, 1, 0, 2], dtype=int64)"
      ]
     },
     "execution_count": 81,
     "metadata": {},
     "output_type": "execute_result"
    },
    {
     "data": {
      "text/plain": [
       "array([4, 1, 1], dtype=int64)"
      ]
     },
     "execution_count": 81,
     "metadata": {},
     "output_type": "execute_result"
    },
    {
     "data": {
      "text/plain": [
       "array([0, 0, 0, 0, 1], dtype=int64)"
      ]
     },
     "execution_count": 81,
     "metadata": {},
     "output_type": "execute_result"
    },
    {
     "data": {
      "text/plain": [
       "array([2, 4, 2], dtype=int64)"
      ]
     },
     "execution_count": 81,
     "metadata": {},
     "output_type": "execute_result"
    }
   ],
   "source": [
    "data.argmin()\n",
    "data.argmax()\n",
    "data.argmin(axis=0)\n",
    "data.argmin(axis=1)\n",
    "data.argmax(axis=0)\n",
    "data.argmax(axis=1)"
   ]
  },
  {
   "cell_type": "markdown",
   "metadata": {},
   "source": [
    "##### Ravel"
   ]
  },
  {
   "cell_type": "code",
   "execution_count": 83,
   "metadata": {},
   "outputs": [
    {
     "data": {
      "text/plain": [
       "array([[5, 6, 4, 5, 6],\n",
       "       [6, 5, 2, 6, 6],\n",
       "       [4, 3, 3, 6, 4]])"
      ]
     },
     "execution_count": 83,
     "metadata": {},
     "output_type": "execute_result"
    },
    {
     "data": {
      "text/plain": [
       "array([5, 6, 4, 5, 6, 6, 5, 2, 6, 6, 4, 3, 3, 6, 4])"
      ]
     },
     "execution_count": 83,
     "metadata": {},
     "output_type": "execute_result"
    }
   ],
   "source": [
    "data = np.random.randint(2,7,(3,5))\n",
    "data\n",
    "\n",
    "# Flattens out the entire array\n",
    "data.ravel()"
   ]
  },
  {
   "cell_type": "markdown",
   "metadata": {},
   "source": [
    "##### List selecting only partial rows/columns"
   ]
  },
  {
   "cell_type": "code",
   "execution_count": 84,
   "metadata": {},
   "outputs": [
    {
     "data": {
      "text/plain": [
       "array([[5, 6, 4, 5, 6],\n",
       "       [6, 5, 2, 6, 6],\n",
       "       [4, 3, 3, 6, 4]])"
      ]
     },
     "execution_count": 84,
     "metadata": {},
     "output_type": "execute_result"
    }
   ],
   "source": [
    "data"
   ]
  },
  {
   "cell_type": "code",
   "execution_count": 85,
   "metadata": {},
   "outputs": [
    {
     "data": {
      "text/plain": [
       "array([[5, 6, 4, 5, 6],\n",
       "       [6, 5, 2, 6, 6]])"
      ]
     },
     "execution_count": 85,
     "metadata": {},
     "output_type": "execute_result"
    }
   ],
   "source": [
    "# select only first two rows. Note index starts at 0. 0:2 -> select 0,1\n",
    "data[0:2]"
   ]
  },
  {
   "cell_type": "code",
   "execution_count": 87,
   "metadata": {},
   "outputs": [
    {
     "data": {
      "text/plain": [
       "array([[6, 5, 2, 6, 6],\n",
       "       [4, 3, 3, 6, 4]])"
      ]
     },
     "execution_count": 87,
     "metadata": {},
     "output_type": "execute_result"
    }
   ],
   "source": [
    "#select only last two rows. 1:3 -> select 1,2\n",
    "data[1:3]"
   ]
  },
  {
   "cell_type": "code",
   "execution_count": 91,
   "metadata": {},
   "outputs": [
    {
     "data": {
      "text/plain": [
       "array([[5, 6, 4, 5, 6],\n",
       "       [6, 5, 2, 6, 6],\n",
       "       [4, 3, 3, 6, 4]])"
      ]
     },
     "execution_count": 91,
     "metadata": {},
     "output_type": "execute_result"
    }
   ],
   "source": [
    "# Notice the below syntax \n",
    "# data[row_start:row_end, column_start:column_end]\n",
    "# If we don't mention any numbers, then it selects everything\n",
    "data[:,:]"
   ]
  },
  {
   "cell_type": "code",
   "execution_count": 90,
   "metadata": {},
   "outputs": [
    {
     "data": {
      "text/plain": [
       "array([[5, 6],\n",
       "       [6, 5],\n",
       "       [4, 3]])"
      ]
     },
     "execution_count": 90,
     "metadata": {},
     "output_type": "execute_result"
    }
   ],
   "source": [
    "# select only first two columns. \n",
    "# Notice the syntax, select all rows, but restrict columns 0,1\n",
    "data[:,0:2]"
   ]
  },
  {
   "cell_type": "code",
   "execution_count": 92,
   "metadata": {},
   "outputs": [
    {
     "data": {
      "text/plain": [
       "array([[5, 6],\n",
       "       [6, 6],\n",
       "       [6, 4]])"
      ]
     },
     "execution_count": 92,
     "metadata": {},
     "output_type": "execute_result"
    }
   ],
   "source": [
    "# select 4th and 5th column\n",
    "data[:,3:5]"
   ]
  },
  {
   "cell_type": "code",
   "execution_count": 94,
   "metadata": {},
   "outputs": [
    {
     "data": {
      "text/plain": [
       "array([[5, 5],\n",
       "       [6, 6],\n",
       "       [4, 6]])"
      ]
     },
     "execution_count": 94,
     "metadata": {},
     "output_type": "execute_result"
    }
   ],
   "source": [
    "# select 1st and 3rd column\n",
    "data[:,[0,3]]"
   ]
  },
  {
   "cell_type": "code",
   "execution_count": 96,
   "metadata": {},
   "outputs": [
    {
     "data": {
      "text/plain": [
       "array([[5, 6, 4, 5, 6],\n",
       "       [6, 5, 2, 6, 6],\n",
       "       [4, 3, 3, 6, 4]])"
      ]
     },
     "execution_count": 96,
     "metadata": {},
     "output_type": "execute_result"
    },
    {
     "data": {
      "text/plain": [
       "array([[4, 5, 6],\n",
       "       [2, 6, 6]])"
      ]
     },
     "execution_count": 96,
     "metadata": {},
     "output_type": "execute_result"
    }
   ],
   "source": [
    "# select first 2 rows and last 3 columns\n",
    "data\n",
    "data[0:2,2:5]"
   ]
  },
  {
   "cell_type": "markdown",
   "metadata": {},
   "source": [
    "### Mean\n",
    "The Arithmetic Mean is the average of the numbers. It is the sum divided by the count. Mean is represented with the greek letter Mu\n",
    "\n",
    "<img src='img/mean-01.png' height='40px' width='40px'/>"
   ]
  },
  {
   "cell_type": "markdown",
   "metadata": {},
   "source": [
    "### Standard Deviation\n",
    "\n",
    "In statistics, the standard deviation is a measure of the amount of variation of a set of values. A low standard deviation indicates that the values tend to be close to the mean of the set, while a high standard deviation indicates that the values are spread out over a wider range.\n",
    "\n",
    "<img src='img/std-01.png' />"
   ]
  },
  {
   "cell_type": "markdown",
   "metadata": {},
   "source": [
    "### Variance\n",
    "\n",
    "In probability theory and statistics, variance is the expectation of the squared deviation of a random variable from its mean. Informally, it measures how far a set of numbers are spread out from their average value.\n",
    "\n",
    "<img src='img/var-01.jpg' width='400px' height='400px'/>"
   ]
  },
  {
   "cell_type": "markdown",
   "metadata": {},
   "source": [
    "### Normal Distribution\n",
    "\n",
    "Normal distribution, also known as the <b>Gaussian distribution</b>, is a probability distribution that is symmetric about the mean, showing that data near the mean are more frequent in occurrence than data far from the mean. In graph form, normal distribution will appear as a bell curve.\n",
    "\n",
    "The simplest case of a normal distribution is known as the standard normal distribution. This is a special case when μ = 0  and σ = 1\n",
    "\n",
    "<img src='img/normaldistribution-01.png'/>\n",
    "\n",
    "<b>68-95-99.7 rule</b>\n",
    "\n",
    "The normal distribution is commonly associated with the 68-95-99.7 rule which you can see in the image above. \n",
    "- 68% of the data is within 1 standard deviation (σ) of the mean (μ)\n",
    "- 95% of the data is within 2 standard deviations (σ) of the mean (μ) \n",
    "- 99.7% of the data is within 3 standard deviations (σ) of the mean (μ)"
   ]
  },
  {
   "cell_type": "markdown",
   "metadata": {},
   "source": [
    "### Pythagoras Theorem\n",
    "Pythagorean theorem, also known as Pythagoras' theorem, is a fundamental relation in Euclidean geometry among the three sides of a right triangle. It states that the area of the square whose side is the hypotenuse is equal to the sum of the areas of the squares on the other two sides.\n",
    "\n",
    "Consider the below picture in a (x,y) cordinate system\n",
    "\n",
    "<img src='img/pyth-02.jpg'/>\n",
    "\n",
    "\n",
    "If you want to find the distance between the points (x1,y1) and (x2,y2) you could use Pythagoras theorem. \n",
    "\n",
    "- Draw a line parallel to x-axis starting from (x1,y1)\n",
    "- Draw a line parallel to y-axis starting from (x2,y2)\n",
    "- The point where both the lines meet will be (x2,y1) \n",
    "- We have a right angled triangle infront of us and we know\n",
    "    - |x2-x1|\n",
    "    - |y2-y1|\n",
    "\n",
    "To find the distance between (x1,y1) and (x2,y2) let's apply Pythagoras theorem,\n",
    " d = SQRT [(x2-x1)² + (y2-y1)²]\n",
    " \n",
    " This forms the base of our first ML algorithm 'Nearest Neighbour'"
   ]
  },
  {
   "cell_type": "markdown",
   "metadata": {},
   "source": [
    "### K Nearest Neighbour (KNN) Algorithm\n",
    "\n",
    "K Nearest Neighbour is a simple algorithm that stores all the available cases and classifies the new data or case based on a similarity measure. It is mostly used to classifies a data point based on how its neighbours are classified.\n",
    "\n",
    "Let's try to understand this with an example. Consider the marks for 10 students in a class for 5 subjects. Marks range between 35 - 100"
   ]
  },
  {
   "cell_type": "code",
   "execution_count": 103,
   "metadata": {},
   "outputs": [
    {
     "data": {
      "text/plain": [
       "array([[54, 86, 95, 83, 61, 70],\n",
       "       [60, 48, 92, 37, 86, 58],\n",
       "       [39, 48, 88, 89, 56, 93],\n",
       "       [62, 48, 94, 74, 99, 76],\n",
       "       [46, 41, 63, 86, 39, 98],\n",
       "       [46, 69, 89, 63, 37, 99],\n",
       "       [54, 46, 63, 80, 72, 98],\n",
       "       [44, 60, 91, 96, 82, 89],\n",
       "       [71, 77, 71, 43, 69, 77],\n",
       "       [65, 61, 78, 94, 38, 56]])"
      ]
     },
     "execution_count": 103,
     "metadata": {},
     "output_type": "execute_result"
    }
   ],
   "source": [
    "#Ignore the 6th column for now, this is a place holder for rank\n",
    "marks = np.random.randint(35,100,(10,6))\n",
    "marks"
   ]
  },
  {
   "cell_type": "code",
   "execution_count": 106,
   "metadata": {},
   "outputs": [
    {
     "data": {
      "text/plain": [
       "array([[54, 86, 95, 83, 61,  0],\n",
       "       [60, 48, 92, 37, 86,  0],\n",
       "       [39, 48, 88, 89, 56,  0],\n",
       "       [62, 48, 94, 74, 99,  1],\n",
       "       [46, 41, 63, 86, 39,  0],\n",
       "       [46, 69, 89, 63, 37,  1],\n",
       "       [54, 46, 63, 80, 72,  1],\n",
       "       [44, 60, 91, 96, 82,  0],\n",
       "       [71, 77, 71, 43, 69,  1],\n",
       "       [65, 61, 78, 94, 38,  1]])"
      ]
     },
     "execution_count": 106,
     "metadata": {},
     "output_type": "execute_result"
    }
   ],
   "source": [
    "##### Let's introduce an additional field 'status' to data. status of 0 indicates fail and 1 indicates pass\n",
    "status = np.random.randint(0,2,(10)) \n",
    "marks[:,5] = status\n",
    "marks"
   ]
  },
  {
   "cell_type": "code",
   "execution_count": 107,
   "metadata": {},
   "outputs": [
    {
     "data": {
      "text/plain": [
       "array([35, 80, 67, 90, 80])"
      ]
     },
     "execution_count": 107,
     "metadata": {},
     "output_type": "execute_result"
    }
   ],
   "source": [
    "# A new student joins the class and let's try to assign him a status based on his scores\n",
    "newstudent = np.array([35,80,67,90,80])\n",
    "newstudent"
   ]
  },
  {
   "cell_type": "code",
   "execution_count": 110,
   "metadata": {},
   "outputs": [
    {
     "data": {
      "text/plain": [
       "array([[54, 86, 95, 83, 61],\n",
       "       [60, 48, 92, 37, 86],\n",
       "       [39, 48, 88, 89, 56],\n",
       "       [62, 48, 94, 74, 99],\n",
       "       [46, 41, 63, 86, 39],\n",
       "       [46, 69, 89, 63, 37],\n",
       "       [54, 46, 63, 80, 72],\n",
       "       [44, 60, 91, 96, 82],\n",
       "       [71, 77, 71, 43, 69],\n",
       "       [65, 61, 78, 94, 38]])"
      ]
     },
     "execution_count": 110,
     "metadata": {},
     "output_type": "execute_result"
    }
   ],
   "source": [
    "# extract only subject marks\n",
    "marks[:,0:5]"
   ]
  },
  {
   "cell_type": "code",
   "execution_count": 111,
   "metadata": {},
   "outputs": [
    {
     "data": {
      "text/plain": [
       "array([[-19,  -6, -28,   7,  19],\n",
       "       [-25,  32, -25,  53,  -6],\n",
       "       [ -4,  32, -21,   1,  24],\n",
       "       [-27,  32, -27,  16, -19],\n",
       "       [-11,  39,   4,   4,  41],\n",
       "       [-11,  11, -22,  27,  43],\n",
       "       [-19,  34,   4,  10,   8],\n",
       "       [ -9,  20, -24,  -6,  -2],\n",
       "       [-36,   3,  -4,  47,  11],\n",
       "       [-30,  19, -11,  -4,  42]])"
      ]
     },
     "execution_count": 111,
     "metadata": {},
     "output_type": "execute_result"
    }
   ],
   "source": [
    "# Let's apply KNN here. We have to find the closest student for the new student in terms of individual subject marks \n",
    "# distance between new student and every other student marks\n",
    "# here we are finding (x2-x1) , (y2-y1), (z2-z1), (m2-m1), (n2-n1)\n",
    "# x - marks for physics\n",
    "# y - marks for chemistry\n",
    "# z - marks for biology\n",
    "# m - marks for maths\n",
    "# n - marks for computer science\n",
    "distance = newstudent - marks[:,0:5]\n",
    "distance"
   ]
  },
  {
   "cell_type": "code",
   "execution_count": 112,
   "metadata": {},
   "outputs": [
    {
     "data": {
      "text/plain": [
       "array([[ 361,   36,  784,   49,  361],\n",
       "       [ 625, 1024,  625, 2809,   36],\n",
       "       [  16, 1024,  441,    1,  576],\n",
       "       [ 729, 1024,  729,  256,  361],\n",
       "       [ 121, 1521,   16,   16, 1681],\n",
       "       [ 121,  121,  484,  729, 1849],\n",
       "       [ 361, 1156,   16,  100,   64],\n",
       "       [  81,  400,  576,   36,    4],\n",
       "       [1296,    9,   16, 2209,  121],\n",
       "       [ 900,  361,  121,   16, 1764]])"
      ]
     },
     "execution_count": 112,
     "metadata": {},
     "output_type": "execute_result"
    }
   ],
   "source": [
    "# here we are finding (x2-x1)² , (y2-y1)², (z2-z1)², (m2-m1)², (n2-n1)²\n",
    "distance_square = distance * distance\n",
    "distance_square"
   ]
  },
  {
   "cell_type": "code",
   "execution_count": 113,
   "metadata": {},
   "outputs": [
    {
     "data": {
      "text/plain": [
       "array([1591, 5119, 2058, 3099, 3355, 3304, 1697, 1097, 3651, 3162])"
      ]
     },
     "execution_count": 113,
     "metadata": {},
     "output_type": "execute_result"
    }
   ],
   "source": [
    "# here we are finding (x2-x1)² + (y2-y1)² + (z2-z1)² + (m2-m1)² + (n2-n1)²\n",
    "distance_sum = distance_square.sum(axis=1)\n",
    "distance_sum"
   ]
  },
  {
   "cell_type": "code",
   "execution_count": 114,
   "metadata": {},
   "outputs": [
    {
     "data": {
      "text/plain": [
       "array([39.88734135, 71.54718723, 45.36518489, 55.66866264, 57.92236183,\n",
       "       57.48043145, 41.19465985, 33.12099032, 60.42350536, 56.23166368])"
      ]
     },
     "execution_count": 114,
     "metadata": {},
     "output_type": "execute_result"
    }
   ],
   "source": [
    "# here we are finding square root of (x2-x1)² + (y2-y1)² + (z2-z1)² + (m2-m1)² + (n2-n1)²\n",
    "root_distance_sum = np.sqrt(distance_sum)\n",
    "root_distance_sum"
   ]
  },
  {
   "cell_type": "code",
   "execution_count": 115,
   "metadata": {},
   "outputs": [
    {
     "data": {
      "text/plain": [
       "33.12099032335839"
      ]
     },
     "execution_count": 115,
     "metadata": {},
     "output_type": "execute_result"
    }
   ],
   "source": [
    "# Mark of the student that's closer to the new student\n",
    "root_distance_sum.min()"
   ]
  },
  {
   "cell_type": "code",
   "execution_count": 116,
   "metadata": {},
   "outputs": [
    {
     "data": {
      "text/plain": [
       "array([44, 60, 91, 96, 82,  0])"
      ]
     },
     "execution_count": 116,
     "metadata": {},
     "output_type": "execute_result"
    }
   ],
   "source": [
    "# Position of the student that's clsoser to the new student\n",
    "position = root_distance_sum.argmin()\n",
    "closest_student = marks[position]\n",
    "closest_student\n",
    "\n",
    "# since the status of the closest student is '0' we assign the status of the new student also as fail "
   ]
  },
  {
   "cell_type": "markdown",
   "metadata": {},
   "source": [
    "##### We could do all the above steps in a single step too"
   ]
  },
  {
   "cell_type": "code",
   "execution_count": 117,
   "metadata": {},
   "outputs": [
    {
     "data": {
      "text/plain": [
       "array([44, 60, 91, 96, 82,  0])"
      ]
     },
     "execution_count": 117,
     "metadata": {},
     "output_type": "execute_result"
    }
   ],
   "source": [
    "position = np.sqrt((newstudent - marks[:,0:5])**2).sum(axis=1).argmin()\n",
    "closest_student = marks[position]\n",
    "closest_student"
   ]
  },
  {
   "cell_type": "markdown",
   "metadata": {},
   "source": [
    "#### Quick observations on KNN\n",
    "\n",
    "In the example above we used Euclidean distance method. \n",
    "\n",
    "Other methods are Manhattan, Minkowski, and Hamming distance methods. For categorical variables, the hamming distance must be used.\n",
    "\n",
    "Also - In the above example, we used just one closest neighbour and decided the 'fate' of the new student. One of the hyperparameters we could use in the real KNN algorithm is to decide the value of 'k'. If 'k' is chosen as 3, then we could go for majority vote between the output of 3 nearest neighbour. i.e. if 2 out of 3 said, the student will 'pass', then we go with 'pass' even if one said 'fail'. Go for an odd number of 'k' so that clear majority emerges.\n",
    "\n",
    "<b>Pros of KNN</b>\n",
    "- Simple to implement\n",
    "- Flexible to feature/distance choices\n",
    "- Naturally handles multi-class cases\n",
    "- Can do well in practice with enough representative data\n",
    "\n",
    "<b>Cons of KNN</b>\n",
    "- Need to determine the value of parameter K (number of nearest neighbors)\n",
    "- Computation cost is quite high because we need to compute the distance of each query instance to all training samples.\n",
    "- Storage of data\n",
    "- Must know we have a meaningful distance function."
   ]
  }
 ],
 "metadata": {
  "hide_input": false,
  "kernelspec": {
   "display_name": "Python 3",
   "language": "python",
   "name": "python3"
  },
  "language_info": {
   "codemirror_mode": {
    "name": "ipython",
    "version": 3
   },
   "file_extension": ".py",
   "mimetype": "text/x-python",
   "name": "python",
   "nbconvert_exporter": "python",
   "pygments_lexer": "ipython3",
   "version": "3.7.4"
  },
  "toc": {
   "base_numbering": 1,
   "nav_menu": {},
   "number_sections": true,
   "sideBar": true,
   "skip_h1_title": false,
   "title_cell": "Table of Contents",
   "title_sidebar": "Contents",
   "toc_cell": false,
   "toc_position": {},
   "toc_section_display": true,
   "toc_window_display": true
  }
 },
 "nbformat": 4,
 "nbformat_minor": 2
}
