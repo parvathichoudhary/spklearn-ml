{
 "cells": [
  {
   "cell_type": "code",
   "execution_count": null,
   "metadata": {},
   "outputs": [],
   "source": [
    "import cv2\n",
    "import numpy as np\n",
    "import pandas as pd\n",
    "\n",
    "img = cv2.imread(r'')\n",
    "img.shape\n",
    "\n",
    "cv2.imshow('image',img)\n",
    "cv2.waitKey()\n",
    "cv2.destroyAllWindows()\n",
    "\n",
    "\n",
    "import matplotlib.pyplot as plt\n",
    "plt.imshow(img)\n",
    "\n",
    "\n",
    "img[0:100,0:100]\n",
    "\n",
    "\n",
    "img = cv2.cvtColor(img,cv2.COLOR_BG2RGB)\n",
    "\n",
    "plt.imshow(img)"
   ]
  },
  {
   "cell_type": "code",
   "execution_count": null,
   "metadata": {},
   "outputs": [],
   "source": [
    "for i in range(0,9):\n",
    "plt.subplot(3,3,i)\n",
    "number=np.random.randint(0,2329)\n",
    "plt.show(img[0:number,0:number])"
   ]
  },
  {
   "cell_type": "code",
   "execution_count": null,
   "metadata": {},
   "outputs": [],
   "source": [
    "create a folder Deep Learning\n",
    "Create a folder Data Augmentation\n",
    "Create two folders Training, Testing\n",
    "Create two folders inside Training & Testing - Dog, Cat\n",
    "\n",
    "import glob\n",
    "import shutil\n",
    "import os\n",
    "\n",
    "train_dog = glob.glob('dog image train path\\*.jpg')\n",
    "train_cat = glob.glob('cat image train path\\*.jpg')\n",
    "\n",
    "len(train_dog), len(train_cat)\n",
    "\n",
    "for i in range(0,len(train_dog) * 30/100):\n",
    "shutil.move(train_dog[i],'dog image test path')\n",
    "\n",
    "for i in range(0,len(train_cat) * 30/100):\n",
    "shutil.move(train_cat[i],'cat image test path')\n"
   ]
  },
  {
   "cell_type": "code",
   "execution_count": null,
   "metadata": {},
   "outputs": [],
   "source": [
    "plt.figure(figsize=(10,10))\n",
    "for i in range(1,10):\n",
    "plt.subplot(3,3,i)\n",
    "img = cv2.imread(train_dog[i],0)\n",
    "img = cv2.cvtColor(img,cv2.COLOR_BG2GRAY)\n",
    "plt.imshow(img,cmap='gray')"
   ]
  },
  {
   "cell_type": "code",
   "execution_count": null,
   "metadata": {},
   "outputs": [],
   "source": [
    "\n",
    "# conver all images to 100 * 100\n",
    "for i in train_cat:\n",
    "img=cv2.read(i)\n",
    "img=cv.resize(img,(100,100))\n",
    "cv2.imwrite(i,img)\n",
    "\n",
    "master_dataset = []\n",
    "for i in range(0, len(train_cat)):\n",
    " img = cv2.imread(train_cat[i])\n",
    " master_dataset.append(img.ravel())\n",
    "\n"
   ]
  },
  {
   "cell_type": "code",
   "execution_count": null,
   "metadata": {},
   "outputs": [],
   "source": [
    "# if an image of size 30*30 is there and when we have to conver to 100*100 .. techniqu e is called padding"
   ]
  },
  {
   "cell_type": "code",
   "execution_count": null,
   "metadata": {},
   "outputs": [],
   "source": [
    "def img_augmentations(test_cat):\n",
    "  for i in test_cat:\n",
    "     img = cv.imread(i)\n",
    "     img4 = cv2.flip(img,0)\n",
    "     img3 = cv2.flip(img,1)\n",
    "     img2 = cv2.flip(img,-1)\n",
    "     r_image1 = rotate(img, angle = 45)\n",
    "     r_image2 = rotate(img, angle = 30)\n",
    "     "
   ]
  },
  {
   "cell_type": "code",
   "execution_count": null,
   "metadata": {},
   "outputs": [],
   "source": [
    "### Basic transformations\n",
    " affine transformations\n",
    " gan networks\n",
    " feature extractions\n",
    " image histograms\n",
    " "
   ]
  },
  {
   "cell_type": "code",
   "execution_count": null,
   "metadata": {},
   "outputs": [],
   "source": []
  },
  {
   "cell_type": "code",
   "execution_count": null,
   "metadata": {},
   "outputs": [],
   "source": []
  },
  {
   "cell_type": "code",
   "execution_count": null,
   "metadata": {},
   "outputs": [],
   "source": []
  },
  {
   "cell_type": "code",
   "execution_count": null,
   "metadata": {},
   "outputs": [],
   "source": []
  }
 ],
 "metadata": {
  "hide_input": false,
  "kernelspec": {
   "display_name": "Python 3",
   "language": "python",
   "name": "python3"
  },
  "language_info": {
   "codemirror_mode": {
    "name": "ipython",
    "version": 3
   },
   "file_extension": ".py",
   "mimetype": "text/x-python",
   "name": "python",
   "nbconvert_exporter": "python",
   "pygments_lexer": "ipython3",
   "version": "3.7.4"
  },
  "toc": {
   "base_numbering": 1,
   "nav_menu": {},
   "number_sections": true,
   "sideBar": true,
   "skip_h1_title": false,
   "title_cell": "Table of Contents",
   "title_sidebar": "Contents",
   "toc_cell": false,
   "toc_position": {},
   "toc_section_display": true,
   "toc_window_display": false
  }
 },
 "nbformat": 4,
 "nbformat_minor": 2
}
