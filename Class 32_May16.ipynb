{
 "cells": [
  {
   "cell_type": "markdown",
   "metadata": {},
   "source": [
    "Chatbot\n",
    "text summarizer\n",
    "gradient boost classification\n",
    "xg boost\n",
    "\n",
    "Chatbot -> Google dialogueflow is a popular option. \n",
    "\n",
    "How it works ? \n",
    "Every question is converted into tfidf vector. \n",
    "\n",
    "If there are 'n' unique words in the entire text corpus, then there are 'n' dimensions for each vector i.e. n columns in the dataframe. \n",
    "\n",
    "Now each question will be represented by a row. each columns(words) will have the tfidf value. \n",
    "To find similar vectors(or similar questions) we find the question with the least angle, this approach is called cosine similarity. \n",
    "\n",
    "We could also use number vectors instead of tfidf vectors\n",
    "\n",
    "Idea is this -> when a new question is asked, using cosine similarity we find the closest question and then pick the answer for it and respond back"
   ]
  },
  {
   "cell_type": "code",
   "execution_count": null,
   "metadata": {},
   "outputs": [],
   "source": []
  },
  {
   "cell_type": "code",
   "execution_count": null,
   "metadata": {},
   "outputs": [],
   "source": []
  },
  {
   "cell_type": "code",
   "execution_count": 1,
   "metadata": {},
   "outputs": [
    {
     "data": {
      "text/html": [
       "<div>\n",
       "<style scoped>\n",
       "    .dataframe tbody tr th:only-of-type {\n",
       "        vertical-align: middle;\n",
       "    }\n",
       "\n",
       "    .dataframe tbody tr th {\n",
       "        vertical-align: top;\n",
       "    }\n",
       "\n",
       "    .dataframe thead th {\n",
       "        text-align: right;\n",
       "    }\n",
       "</style>\n",
       "<table border=\"1\" class=\"dataframe\">\n",
       "  <thead>\n",
       "    <tr style=\"text-align: right;\">\n",
       "      <th></th>\n",
       "      <th>Question</th>\n",
       "      <th>Answer</th>\n",
       "    </tr>\n",
       "  </thead>\n",
       "  <tbody>\n",
       "    <tr>\n",
       "      <td>0</td>\n",
       "      <td>What is Amazon Elastic Compute Cloud (Amazon E...</td>\n",
       "      <td>Amazon Elastic Compute Cloud (Amazon EC2) is a...</td>\n",
       "    </tr>\n",
       "    <tr>\n",
       "      <td>1</td>\n",
       "      <td>What can I do with Amazon EC2?</td>\n",
       "      <td>Just as Amazon Simple Storage Service (Amazon ...</td>\n",
       "    </tr>\n",
       "    <tr>\n",
       "      <td>2</td>\n",
       "      <td>How can I get started with Amazon EC2?</td>\n",
       "      <td>To sign up for Amazon EC2, click the “Sign up ...</td>\n",
       "    </tr>\n",
       "    <tr>\n",
       "      <td>3</td>\n",
       "      <td>Why am I asked to verify my phone number when ...</td>\n",
       "      <td>Amazon EC2 registration requires you to have a...</td>\n",
       "    </tr>\n",
       "    <tr>\n",
       "      <td>4</td>\n",
       "      <td>What can developers now do that they could not...</td>\n",
       "      <td>Until now, small developers did not have the c...</td>\n",
       "    </tr>\n",
       "    <tr>\n",
       "      <td>...</td>\n",
       "      <td>...</td>\n",
       "      <td>...</td>\n",
       "    </tr>\n",
       "    <tr>\n",
       "      <td>666</td>\n",
       "      <td>Does Amazon Route 53 DNS support DNSSEC?</td>\n",
       "      <td>Amazon Route 53’s DNS services does NOT suppor...</td>\n",
       "    </tr>\n",
       "    <tr>\n",
       "      <td>667</td>\n",
       "      <td>Hello</td>\n",
       "      <td>Hello</td>\n",
       "    </tr>\n",
       "    <tr>\n",
       "      <td>668</td>\n",
       "      <td>How are you?</td>\n",
       "      <td>I’m fine thanks.</td>\n",
       "    </tr>\n",
       "    <tr>\n",
       "      <td>669</td>\n",
       "      <td>Good morning</td>\n",
       "      <td>Hello, good morning.</td>\n",
       "    </tr>\n",
       "    <tr>\n",
       "      <td>670</td>\n",
       "      <td>Bye</td>\n",
       "      <td>Bye, glad to have helped.</td>\n",
       "    </tr>\n",
       "  </tbody>\n",
       "</table>\n",
       "<p>671 rows × 2 columns</p>\n",
       "</div>"
      ],
      "text/plain": [
       "                                              Question  \\\n",
       "0    What is Amazon Elastic Compute Cloud (Amazon E...   \n",
       "1                       What can I do with Amazon EC2?   \n",
       "2               How can I get started with Amazon EC2?   \n",
       "3    Why am I asked to verify my phone number when ...   \n",
       "4    What can developers now do that they could not...   \n",
       "..                                                 ...   \n",
       "666           Does Amazon Route 53 DNS support DNSSEC?   \n",
       "667                                              Hello   \n",
       "668                                       How are you?   \n",
       "669                                       Good morning   \n",
       "670                                                Bye   \n",
       "\n",
       "                                                Answer  \n",
       "0    Amazon Elastic Compute Cloud (Amazon EC2) is a...  \n",
       "1    Just as Amazon Simple Storage Service (Amazon ...  \n",
       "2    To sign up for Amazon EC2, click the “Sign up ...  \n",
       "3    Amazon EC2 registration requires you to have a...  \n",
       "4    Until now, small developers did not have the c...  \n",
       "..                                                 ...  \n",
       "666  Amazon Route 53’s DNS services does NOT suppor...  \n",
       "667                                              Hello  \n",
       "668                                   I’m fine thanks.  \n",
       "669                               Hello, good morning.  \n",
       "670                          Bye, glad to have helped.  \n",
       "\n",
       "[671 rows x 2 columns]"
      ]
     },
     "execution_count": 1,
     "metadata": {},
     "output_type": "execute_result"
    }
   ],
   "source": [
    "import pandas as pd\n",
    "import numpy as np\n",
    "\n",
    "data = pd.read_csv(r\"D:\\sanooj\\datascience\\data\\aws_faq (1).csv\")\n",
    "data"
   ]
  },
  {
   "cell_type": "code",
   "execution_count": 3,
   "metadata": {},
   "outputs": [
    {
     "name": "stdout",
     "output_type": "stream",
     "text": [
      "You can start chatting with me now.\n",
      "what is ec2\n",
      "With a single API call, EC2 Fleet lets you provision compute capacity across different instance types, Availability Zones and across On-Demand, Reserved Instances (RI) and Spot Instances purchase models to help optimize scale, performance and cost.\n",
      "You can start chatting with me now.\n",
      "azure is good\n",
      "Hello, good morning.\n",
      "You can start chatting with me now.\n",
      "azure is the best\n",
      "We highly recommend using multiple Spot capacity pools to maximize the amount of Spot capacity available to you. EC2 provides built-in automation to find the most cost-effective capacity across multiple Spot capacity pools using Spot Fleet. For more information, please see \n",
      "Spot Best Practices\n",
      ".\n",
      "You can start chatting with me now.\n",
      "aws is worst\n",
      "Yes, the AWS CLI provides support for CloudSearch. Using the AWS CLI you can quickly create a search domain, configure your search fields, upload data, and send search queries to your search domain.\n",
      "You can start chatting with me now.\n",
      "exit\n"
     ]
    }
   ],
   "source": [
    "import pandas as pd\n",
    "import numpy as np\n",
    "import seaborn as sns\n",
    "\n",
    "# Read data and drop examples that has no answer\n",
    "df = pd.read_csv(r\"D:\\sanooj\\datascience\\data\\aws_faq (1).csv\")\n",
    "df.dropna(inplace=True)\n",
    "\n",
    "df.head()\n",
    "\n",
    "# Load data preprocessing libs\n",
    "import pandas as pd\n",
    "import numpy as np\n",
    "\n",
    "# Load vectorizer and similarity measure\n",
    "from sklearn.feature_extraction.text import TfidfVectorizer\n",
    "from sklearn.metrics.pairwise import cosine_similarity\n",
    "\n",
    "vectorizer = TfidfVectorizer()\n",
    "vectorizer.fit(np.concatenate((df.Question, df.Answer)))\n",
    "Question_vectors = vectorizer.transform(df.Question)\n",
    "\n",
    "while True:\n",
    "    print(\"You can start chatting with me now.\")\n",
    "    # Read user input\n",
    "    input_question = input()\n",
    "    \n",
    "    if input_question=='exit':\n",
    "            break\n",
    "    else:\n",
    "        # Locate the closest question\n",
    "        input_question_vector = vectorizer.transform([input_question])\n",
    "        # Compute similarities\n",
    "        similarities = cosine_similarity(input_question_vector, Question_vectors)\n",
    "        # Find the closest question\n",
    "        closest = np.argmax(similarities, axis=1)\n",
    "        #print the correct answer\n",
    "        text = df.Answer.iloc[closest].values[0]\n",
    "        print(text)"
   ]
  },
  {
   "cell_type": "code",
   "execution_count": 5,
   "metadata": {},
   "outputs": [
    {
     "name": "stdout",
     "output_type": "stream",
     "text": [
      "Requirement already satisfied: gTTS in c:\\users\\rani\\anaconda3\\lib\\site-packages (2.1.1)\n",
      "Requirement already satisfied: click in c:\\users\\rani\\anaconda3\\lib\\site-packages (from gTTS) (7.0)\n",
      "Requirement already satisfied: requests in c:\\users\\rani\\anaconda3\\lib\\site-packages (from gTTS) (2.22.0)\n",
      "Requirement already satisfied: beautifulsoup4 in c:\\users\\rani\\anaconda3\\lib\\site-packages (from gTTS) (4.8.0)\n",
      "Requirement already satisfied: gtts-token>=1.1.3 in c:\\users\\rani\\anaconda3\\lib\\site-packages (from gTTS) (1.1.3)\n",
      "Requirement already satisfied: six in c:\\users\\rani\\anaconda3\\lib\\site-packages (from gTTS) (1.12.0)\n",
      "Requirement already satisfied: certifi>=2017.4.17 in c:\\users\\rani\\anaconda3\\lib\\site-packages (from requests->gTTS) (2019.9.11)\n",
      "Requirement already satisfied: chardet<3.1.0,>=3.0.2 in c:\\users\\rani\\anaconda3\\lib\\site-packages (from requests->gTTS) (3.0.4)\n",
      "Requirement already satisfied: urllib3!=1.25.0,!=1.25.1,<1.26,>=1.21.1 in c:\\users\\rani\\anaconda3\\lib\\site-packages (from requests->gTTS) (1.24.2)\n",
      "Requirement already satisfied: idna<2.9,>=2.5 in c:\\users\\rani\\anaconda3\\lib\\site-packages (from requests->gTTS) (2.8)\n",
      "Requirement already satisfied: soupsieve>=1.2 in c:\\users\\rani\\anaconda3\\lib\\site-packages (from beautifulsoup4->gTTS) (1.9.3)\n",
      "Note: you may need to restart the kernel to use updated packages.\n"
     ]
    }
   ],
   "source": [
    "pip install gTTS"
   ]
  },
  {
   "cell_type": "code",
   "execution_count": 7,
   "metadata": {},
   "outputs": [
    {
     "name": "stdout",
     "output_type": "stream",
     "text": [
      "Yes, the AWS CLI provides support for CloudSearch. Using the AWS CLI you can quickly create a search domain, configure your search fields, upload data, and send search queries to your search domain.\n"
     ]
    },
    {
     "data": {
      "text/plain": [
       "0"
      ]
     },
     "execution_count": 7,
     "metadata": {},
     "output_type": "execute_result"
    }
   ],
   "source": [
    "print(text)\n",
    "from gtts import gTTS\n",
    "import os\n",
    "mytext = text\n",
    "language='en'\n",
    "myobj = gTTS(text=mytext, lang=language,slow=False)\n",
    "myobj.save('welcome.mp3')\n",
    "os.system('welcome.mp3')"
   ]
  },
  {
   "cell_type": "markdown",
   "metadata": {},
   "source": [
    "### Speech to text"
   ]
  },
  {
   "cell_type": "markdown",
   "metadata": {},
   "source": [
    "### in anaconda prompt run below command as an administrator \n",
    "### this is a package to convert audio to text\n",
    "\n",
    "conda install -c anaconda pyaudio\n",
    "\n",
    "\n",
    "(base) C:\\WINDOWS\\system32>conda install -c anaconda pyaudio\n",
    "Collecting package metadata (current_repodata.json): done\n",
    "Solving environment: done\n",
    "\n",
    "\n",
    "==> WARNING: A newer version of conda exists. <==\n",
    "  current version: 4.7.12\n",
    "  latest version: 4.8.3\n",
    "\n",
    "Please update conda by running\n",
    "\n",
    "    $ conda update -n base -c defaults conda\n",
    "\n",
    "\n",
    "\n",
    "## Package Plan ##\n",
    "\n",
    "  environment location: C:\\Users\\Rani\\Anaconda3\n",
    "\n",
    "  added / updated specs:\n",
    "    - pyaudio\n",
    "\n",
    "\n",
    "The following packages will be downloaded:\n",
    "\n",
    "    package                    |            build\n",
    "    ---------------------------|-----------------\n",
    "    conda-4.8.3                |           py37_0         3.0 MB  anaconda\n",
    "    openssl-1.1.1d             |       he774522_2         5.7 MB  anaconda\n",
    "    portaudio-19.6.0           |       he774522_4         240 KB  anaconda\n",
    "    pyaudio-0.2.11             |   py37he774522_2         189 KB  anaconda\n",
    "    ------------------------------------------------------------\n",
    "                                           Total:         9.2 MB\n",
    "\n",
    "The following NEW packages will be INSTALLED:\n",
    "\n",
    "  portaudio          anaconda/win-64::portaudio-19.6.0-he774522_4\n",
    "  pyaudio            anaconda/win-64::pyaudio-0.2.11-py37he774522_2\n",
    "\n",
    "The following packages will be UPDATED:\n",
    "\n",
    "  conda                      pkgs/main::conda-4.7.12-py37_0 --> anaconda::conda-4.8.3-py37_0\n",
    "\n",
    "The following packages will be SUPERSEDED by a higher-priority channel:\n",
    "\n",
    "  openssl                                         pkgs/main --> anaconda\n",
    "\n",
    "\n",
    "Proceed ([y]/n)? y\n",
    "\n",
    "\n",
    "Downloading and Extracting Packages\n",
    "pyaudio-0.2.11       | 189 KB    | ############################################################################ | 100%\n",
    "conda-4.8.3          | 3.0 MB    | ############################################################################ | 100%\n",
    "openssl-1.1.1d       | 5.7 MB    | ############################################################################ | 100%\n",
    "portaudio-19.6.0     | 240 KB    | ############################################################################ | 100%\n",
    "Preparing transaction: done\n",
    "Verifying transaction: done\n",
    "Executing transaction: done\n",
    "\n",
    "(base) C:\\WINDOWS\\system32>"
   ]
  },
  {
   "cell_type": "code",
   "execution_count": 12,
   "metadata": {
    "scrolled": true
   },
   "outputs": [
    {
     "name": "stdout",
     "output_type": "stream",
     "text": [
      "Requirement already satisfied: google in c:\\users\\rani\\anaconda3\\lib\\site-packages (2.0.3)\n",
      "Requirement already satisfied: beautifulsoup4 in c:\\users\\rani\\anaconda3\\lib\\site-packages (from google) (4.8.0)\n",
      "Requirement already satisfied: soupsieve>=1.2 in c:\\users\\rani\\anaconda3\\lib\\site-packages (from beautifulsoup4->google) (1.9.3)\n",
      "Note: you may need to restart the kernel to use updated packages.\n"
     ]
    }
   ],
   "source": [
    "pip install google"
   ]
  },
  {
   "cell_type": "code",
   "execution_count": 14,
   "metadata": {},
   "outputs": [
    {
     "name": "stdout",
     "output_type": "stream",
     "text": [
      "Collecting SpeechRecognition\n",
      "  Downloading https://files.pythonhosted.org/packages/26/e1/7f5678cd94ec1234269d23756dbdaa4c8cfaed973412f88ae8adf7893a50/SpeechRecognition-3.8.1-py2.py3-none-any.whl (32.8MB)\n",
      "Installing collected packages: SpeechRecognition\n",
      "Successfully installed SpeechRecognition-3.8.1\n",
      "Note: you may need to restart the kernel to use updated packages.\n"
     ]
    }
   ],
   "source": [
    "pip install SpeechRecognition"
   ]
  },
  {
   "cell_type": "code",
   "execution_count": 15,
   "metadata": {},
   "outputs": [],
   "source": [
    "import win32com.client \n",
    "import speech_recognition as sr"
   ]
  },
  {
   "cell_type": "code",
   "execution_count": 16,
   "metadata": {},
   "outputs": [
    {
     "name": "stdout",
     "output_type": "stream",
     "text": [
      "hey, Tell me about your phone ? \n",
      "Listining now ..... \n",
      "You said : my phone is Nokia a good phone Nokia\n",
      "should we continue ?\n",
      "Listining now ..... \n",
      "You said : yes\n",
      "hey, Tell me about your phone ? \n",
      "Listining now ..... \n",
      "You said : my phone is Nokia and a good phone have purchased it appears baccha so far been doing good\n",
      "should we continue ?\n",
      "Listining now ..... \n",
      "Sorry could not recognize what you said\n",
      "hey, Tell me about your phone ? \n",
      "Listining now ..... \n",
      "You said : intent to purchase in iPhone\n",
      "should we continue ?\n",
      "Listining now ..... \n",
      "You said : no\n"
     ]
    }
   ],
   "source": [
    "i=\"yes\"\n",
    "a=[]\n",
    "while (i==\"yes\"): \n",
    "    speaker = win32com.client.Dispatch(\"SAPI.SpVoice\") \n",
    "    r = sr.Recognizer()\n",
    "    with sr.Microphone() as source:\n",
    "        print(\"hey, Tell me about your phone ? \")\n",
    "        speaker.Speak(\"hey, Tell me about your phone ?  \")\n",
    "        print(\"Listining now ..... \")\n",
    "        #print(\"Speak now :\")\n",
    "        #speaker.Speak(\"Speak now :\")\n",
    "        audio = r.listen(source)\n",
    "        try:\n",
    "            text = r.recognize_google(audio)\n",
    "            print(\"You said : {}\".format(text))\n",
    "            a.append(text)\n",
    "        except:\n",
    "            print(\"Sorry could not recognize what you said\")\n",
    "    #i=1\n",
    "    r1 = sr.Recognizer()\n",
    "    #i==\"no\"\n",
    "    with sr.Microphone() as source:\n",
    "        print(\"should we continue ?\")\n",
    "        speaker.Speak(\"should we continue ? \")\n",
    "        print(\"Listining now ..... \")\n",
    "        audio1 = r1.listen(source)\n",
    "        try:\n",
    "            i = r1.recognize_google(audio1)\n",
    "            print(\"You said : {}\".format(i))\n",
    "            #a.append(text)\n",
    "        except:\n",
    "            print(\"Sorry could not recognize what you said\")\n",
    "            \n",
    "\n",
    "#print(a)\n",
    "#y=model.predict(vect.transform(a))\n",
    "#print(y)\n",
    "#r=0\n",
    "#for t in y:\n",
    "    #r+=1\n",
    "    #if t==0:\n",
    "        #speaker.Speak(\"your Feedback for phone {} is recognized as Bad Review!\".format(r))\n",
    "    #else:\n",
    "        #speaker.Speak(\"your Feedback for phone {} is recognized as Good Review!\".format(r))\n",
    "# if y[0]==0:\n",
    "#     speaker.Speak(\"your Feedback is recognized as Bad Review!\")\n",
    "# else:\n",
    "#     speaker.Speak(\"your Feedback is recognized as Good Review!\")"
   ]
  },
  {
   "cell_type": "code",
   "execution_count": null,
   "metadata": {},
   "outputs": [],
   "source": [
    "## Twilio is another speech to text api famous one apart from google"
   ]
  },
  {
   "cell_type": "code",
   "execution_count": null,
   "metadata": {},
   "outputs": [],
   "source": [
    "## https://code.visualstudio.com/\n",
    "## install ubuntu"
   ]
  },
  {
   "cell_type": "code",
   "execution_count": null,
   "metadata": {},
   "outputs": [],
   "source": []
  },
  {
   "cell_type": "code",
   "execution_count": null,
   "metadata": {},
   "outputs": [],
   "source": []
  },
  {
   "cell_type": "code",
   "execution_count": null,
   "metadata": {},
   "outputs": [],
   "source": []
  },
  {
   "cell_type": "code",
   "execution_count": null,
   "metadata": {},
   "outputs": [],
   "source": []
  },
  {
   "cell_type": "code",
   "execution_count": null,
   "metadata": {},
   "outputs": [],
   "source": []
  },
  {
   "cell_type": "code",
   "execution_count": null,
   "metadata": {},
   "outputs": [],
   "source": []
  },
  {
   "cell_type": "code",
   "execution_count": null,
   "metadata": {},
   "outputs": [],
   "source": []
  },
  {
   "cell_type": "code",
   "execution_count": null,
   "metadata": {},
   "outputs": [],
   "source": []
  },
  {
   "cell_type": "code",
   "execution_count": null,
   "metadata": {},
   "outputs": [],
   "source": []
  },
  {
   "cell_type": "code",
   "execution_count": null,
   "metadata": {},
   "outputs": [],
   "source": []
  },
  {
   "cell_type": "code",
   "execution_count": null,
   "metadata": {},
   "outputs": [],
   "source": []
  }
 ],
 "metadata": {
  "hide_input": false,
  "kernelspec": {
   "display_name": "Python 3",
   "language": "python",
   "name": "python3"
  },
  "language_info": {
   "codemirror_mode": {
    "name": "ipython",
    "version": 3
   },
   "file_extension": ".py",
   "mimetype": "text/x-python",
   "name": "python",
   "nbconvert_exporter": "python",
   "pygments_lexer": "ipython3",
   "version": "3.7.4"
  },
  "toc": {
   "base_numbering": 1,
   "nav_menu": {},
   "number_sections": true,
   "sideBar": true,
   "skip_h1_title": false,
   "title_cell": "Table of Contents",
   "title_sidebar": "Contents",
   "toc_cell": false,
   "toc_position": {},
   "toc_section_display": true,
   "toc_window_display": false
  }
 },
 "nbformat": 4,
 "nbformat_minor": 2
}
