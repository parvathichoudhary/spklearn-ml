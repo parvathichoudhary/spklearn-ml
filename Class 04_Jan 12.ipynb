{
 "cells": [
  {
   "cell_type": "markdown",
   "metadata": {},
   "source": [
    "<h1> Day 4 - Class </h1>"
   ]
  },
  {
   "cell_type": "code",
   "execution_count": 2,
   "metadata": {},
   "outputs": [],
   "source": [
    "import numpy as np\n",
    "from IPython.core.interactiveshell import InteractiveShell\n",
    "InteractiveShell.ast_node_interactivity='all'"
   ]
  },
  {
   "cell_type": "markdown",
   "metadata": {},
   "source": [
    "## Numpy Log Functions"
   ]
  },
  {
   "cell_type": "code",
   "execution_count": 3,
   "metadata": {},
   "outputs": [
    {
     "data": {
      "text/plain": [
       "0.0"
      ]
     },
     "execution_count": 3,
     "metadata": {},
     "output_type": "execute_result"
    },
    {
     "data": {
      "text/plain": [
       "0.0"
      ]
     },
     "execution_count": 3,
     "metadata": {},
     "output_type": "execute_result"
    },
    {
     "data": {
      "text/plain": [
       "0.0"
      ]
     },
     "execution_count": 3,
     "metadata": {},
     "output_type": "execute_result"
    },
    {
     "data": {
      "text/plain": [
       "2.313261687518223"
      ]
     },
     "execution_count": 3,
     "metadata": {},
     "output_type": "execute_result"
    },
    {
     "data": {
      "text/plain": [
       "2.584962500721156"
      ]
     },
     "execution_count": 3,
     "metadata": {},
     "output_type": "execute_result"
    }
   ],
   "source": [
    "np.log(1)\n",
    "\n",
    "np.log10(1)\n",
    "\n",
    "np.log2(1)\n",
    "\n",
    "np.logaddexp(1,2)\n",
    "\n",
    "np.logaddexp2(1,2)"
   ]
  },
  {
   "cell_type": "markdown",
   "metadata": {},
   "source": [
    "## Numpy Trigonometric Functions"
   ]
  },
  {
   "cell_type": "code",
   "execution_count": 4,
   "metadata": {},
   "outputs": [
    {
     "data": {
      "text/plain": [
       "0.8414709848078965"
      ]
     },
     "execution_count": 4,
     "metadata": {},
     "output_type": "execute_result"
    },
    {
     "data": {
      "text/plain": [
       "0.5403023058681398"
      ]
     },
     "execution_count": 4,
     "metadata": {},
     "output_type": "execute_result"
    },
    {
     "data": {
      "text/plain": [
       "1.5574077246549023"
      ]
     },
     "execution_count": 4,
     "metadata": {},
     "output_type": "execute_result"
    },
    {
     "data": {
      "text/plain": [
       "3.8981718325193755e-17"
      ]
     },
     "execution_count": 4,
     "metadata": {},
     "output_type": "execute_result"
    },
    {
     "data": {
      "text/plain": [
       "1.1752011936438014"
      ]
     },
     "execution_count": 4,
     "metadata": {},
     "output_type": "execute_result"
    }
   ],
   "source": [
    "np.sin(1)\n",
    "\n",
    "np.cos(1)\n",
    "\n",
    "np.tan(1)\n",
    "\n",
    "np.sinc(1)\n",
    "\n",
    "np.sinh(1)"
   ]
  },
  {
   "cell_type": "markdown",
   "metadata": {},
   "source": [
    "## Numpy Array Functions"
   ]
  },
  {
   "cell_type": "code",
   "execution_count": 5,
   "metadata": {},
   "outputs": [
    {
     "data": {
      "text/plain": [
       "array([1, 2, 3, 4])"
      ]
     },
     "execution_count": 5,
     "metadata": {},
     "output_type": "execute_result"
    }
   ],
   "source": [
    "np.unique([1,2,3,4,1])"
   ]
  },
  {
   "cell_type": "markdown",
   "metadata": {},
   "source": [
    "## Numpy Math Functions"
   ]
  },
  {
   "cell_type": "code",
   "execution_count": 10,
   "metadata": {},
   "outputs": [
    {
     "data": {
      "text/plain": [
       "5"
      ]
     },
     "execution_count": 10,
     "metadata": {},
     "output_type": "execute_result"
    },
    {
     "data": {
      "text/plain": [
       "3"
      ]
     },
     "execution_count": 10,
     "metadata": {},
     "output_type": "execute_result"
    },
    {
     "data": {
      "text/plain": [
       "12"
      ]
     },
     "execution_count": 10,
     "metadata": {},
     "output_type": "execute_result"
    },
    {
     "data": {
      "text/plain": [
       "4.0"
      ]
     },
     "execution_count": 10,
     "metadata": {},
     "output_type": "execute_result"
    }
   ],
   "source": [
    "np.add(2,3)\n",
    "np.subtract(4,1)\n",
    "np.multiply(4,3)\n",
    "np.divide(12,3)"
   ]
  },
  {
   "cell_type": "code",
   "execution_count": 6,
   "metadata": {},
   "outputs": [
    {
     "data": {
      "text/plain": [
       "4.0"
      ]
     },
     "execution_count": 6,
     "metadata": {},
     "output_type": "execute_result"
    },
    {
     "data": {
      "text/plain": [
       "12"
      ]
     },
     "execution_count": 6,
     "metadata": {},
     "output_type": "execute_result"
    },
    {
     "data": {
      "text/plain": [
       "1"
      ]
     },
     "execution_count": 6,
     "metadata": {},
     "output_type": "execute_result"
    },
    {
     "data": {
      "text/plain": [
       "16"
      ]
     },
     "execution_count": 6,
     "metadata": {},
     "output_type": "execute_result"
    },
    {
     "data": {
      "text/plain": [
       "22025.465794806718"
      ]
     },
     "execution_count": 6,
     "metadata": {},
     "output_type": "execute_result"
    },
    {
     "data": {
      "text/plain": [
       "7.38905609893065"
      ]
     },
     "execution_count": 6,
     "metadata": {},
     "output_type": "execute_result"
    }
   ],
   "source": [
    "np.sqrt(16)\n",
    "np.max([12,1,4,7])\n",
    "np.min([12,1,4,7])\n",
    "np.square(4)\n",
    "np.expm1(10)\n",
    "np.exp(2)"
   ]
  },
  {
   "cell_type": "markdown",
   "metadata": {},
   "source": [
    "## Math Package"
   ]
  },
  {
   "cell_type": "code",
   "execution_count": 8,
   "metadata": {},
   "outputs": [
    {
     "data": {
      "text/plain": [
       "2.718281828459045"
      ]
     },
     "execution_count": 8,
     "metadata": {},
     "output_type": "execute_result"
    },
    {
     "data": {
      "text/plain": [
       "7.3890560989306495"
      ]
     },
     "execution_count": 8,
     "metadata": {},
     "output_type": "execute_result"
    },
    {
     "data": {
      "text/plain": [
       "False"
      ]
     },
     "execution_count": 8,
     "metadata": {},
     "output_type": "execute_result"
    }
   ],
   "source": [
    "import math\n",
    "math.e\n",
    "pow(math.e,2)\n",
    "\n",
    "x = pow(math.e,2)\n",
    "y = np.exp(2)\n",
    "\n",
    "# x is same as y"
   ]
  },
  {
   "cell_type": "markdown",
   "metadata": {},
   "source": [
    "## Read Input From User"
   ]
  },
  {
   "cell_type": "code",
   "execution_count": 9,
   "metadata": {},
   "outputs": [
    {
     "name": "stdout",
     "output_type": "stream",
     "text": [
      "sanooj\n"
     ]
    }
   ],
   "source": [
    "a = input()"
   ]
  },
  {
   "cell_type": "code",
   "execution_count": 10,
   "metadata": {},
   "outputs": [
    {
     "data": {
      "text/plain": [
       "str"
      ]
     },
     "execution_count": 10,
     "metadata": {},
     "output_type": "execute_result"
    }
   ],
   "source": [
    "type(a)"
   ]
  },
  {
   "cell_type": "code",
   "execution_count": 11,
   "metadata": {},
   "outputs": [
    {
     "name": "stdout",
     "output_type": "stream",
     "text": [
      "12\n"
     ]
    }
   ],
   "source": [
    "a = int(input())"
   ]
  },
  {
   "cell_type": "code",
   "execution_count": 12,
   "metadata": {},
   "outputs": [
    {
     "data": {
      "text/plain": [
       "int"
      ]
     },
     "execution_count": 12,
     "metadata": {},
     "output_type": "execute_result"
    }
   ],
   "source": [
    "type(a)"
   ]
  },
  {
   "cell_type": "markdown",
   "metadata": {},
   "source": [
    "## Control Structures & Loops\n",
    "- if\n",
    "- if - else\n",
    "- if - elif - else\n",
    "- while\n",
    "- for\n",
    "- break\n",
    "- continue\n",
    "- with"
   ]
  },
  {
   "cell_type": "markdown",
   "metadata": {},
   "source": [
    "### If condition"
   ]
  },
  {
   "cell_type": "code",
   "execution_count": 28,
   "metadata": {},
   "outputs": [
    {
     "name": "stdout",
     "output_type": "stream",
     "text": [
      "6\n",
      "8\n"
     ]
    }
   ],
   "source": [
    "x = int(input())\n",
    "if x > 5:\n",
    "    print(x+2)"
   ]
  },
  {
   "cell_type": "code",
   "execution_count": 32,
   "metadata": {},
   "outputs": [
    {
     "name": "stdout",
     "output_type": "stream",
     "text": [
      "sanooj padmakumar\n",
      "Sanooj padmakumar\n"
     ]
    }
   ],
   "source": [
    "data = input()\n",
    "if len(data) > 5:\n",
    "    print(data.capitalize())"
   ]
  },
  {
   "cell_type": "code",
   "execution_count": 44,
   "metadata": {},
   "outputs": [
    {
     "name": "stdout",
     "output_type": "stream",
     "text": [
      "sanooj\n",
      "Sanooj\n"
     ]
    }
   ],
   "source": [
    "data = input()\n",
    "if len(data) > 5:\n",
    "    print(data.capitalize())\n",
    "else:\n",
    "    print(data[0:len(data)-1] + data[len(data)-1:len(data)].upper())"
   ]
  },
  {
   "cell_type": "code",
   "execution_count": 48,
   "metadata": {},
   "outputs": [
    {
     "name": "stdout",
     "output_type": "stream",
     "text": [
      "pass-1\n",
      "pass-2\n"
     ]
    }
   ],
   "source": [
    "if True:\n",
    "    print('pass-1')\n",
    "\n",
    "if 100:\n",
    "    print('pass-2')\n",
    "    \n",
    "if 0:\n",
    "    print('pass-3')"
   ]
  },
  {
   "cell_type": "markdown",
   "metadata": {},
   "source": [
    "### If - elif - else"
   ]
  },
  {
   "cell_type": "code",
   "execution_count": 51,
   "metadata": {},
   "outputs": [
    {
     "name": "stdout",
     "output_type": "stream",
     "text": [
      "sam\n",
      "Sam\n"
     ]
    }
   ],
   "source": [
    "a = input()\n",
    "if len(a) > 5:\n",
    "    print(a.upper())\n",
    "elif len(a)==5:\n",
    "    print(a.lower())\n",
    "else:\n",
    "    print(a.capitalize())"
   ]
  },
  {
   "cell_type": "code",
   "execution_count": 54,
   "metadata": {},
   "outputs": [
    {
     "name": "stdout",
     "output_type": "stream",
     "text": [
      "7\n",
      "2401\n"
     ]
    }
   ],
   "source": [
    "data = int(input())\n",
    "if data%2 == 0:\n",
    "    print(pow(data,2))\n",
    "elif data%3 == 0:\n",
    "    print(pow(data,3))\n",
    "else:\n",
    "    print(pow(data,4))"
   ]
  },
  {
   "cell_type": "code",
   "execution_count": 56,
   "metadata": {},
   "outputs": [
    {
     "name": "stdout",
     "output_type": "stream",
     "text": [
      "9\n",
      "81\n"
     ]
    }
   ],
   "source": [
    "data = int(input())\n",
    "if data/2:\n",
    "    print(pow(data,2))\n",
    "elif data/3:\n",
    "    print(pow(data,3))\n",
    "else:\n",
    "    print(pow(data,4))"
   ]
  },
  {
   "cell_type": "markdown",
   "metadata": {},
   "source": [
    "### For loop\n",
    "\n",
    "<pre>for << var >> in << index based datastructure >>:</pre>"
   ]
  },
  {
   "cell_type": "code",
   "execution_count": 57,
   "metadata": {},
   "outputs": [
    {
     "name": "stdout",
     "output_type": "stream",
     "text": [
      "d\n",
      "a\n",
      "t\n",
      "a\n"
     ]
    }
   ],
   "source": [
    "x = 'data'\n",
    "for i in x:\n",
    "    print(i)"
   ]
  },
  {
   "cell_type": "code",
   "execution_count": 58,
   "metadata": {},
   "outputs": [
    {
     "name": "stdout",
     "output_type": "stream",
     "text": [
      "1\n",
      "2\n",
      "3\n",
      "4\n",
      "5\n",
      "data science\n"
     ]
    }
   ],
   "source": [
    "x = [1,2,3,4,5,'data science']\n",
    "for i in x:\n",
    "    print(i)"
   ]
  },
  {
   "cell_type": "code",
   "execution_count": 65,
   "metadata": {},
   "outputs": [
    {
     "name": "stdout",
     "output_type": "stream",
     "text": [
      "83 ,even\n",
      "34 ,odd\n",
      "30 ,odd\n",
      "55 ,even\n",
      "55 ,even\n",
      "1 ,even\n",
      "20 ,odd\n",
      "86 ,odd\n",
      "31 ,even\n",
      "90 ,odd\n"
     ]
    }
   ],
   "source": [
    "data = np.random.randint(0,100,10)\n",
    "for i in data:\n",
    "    if(i%2):\n",
    "        print(i,',even')\n",
    "    else:\n",
    "        print(i,',odd')"
   ]
  },
  {
   "cell_type": "markdown",
   "metadata": {},
   "source": [
    "### Range function"
   ]
  },
  {
   "cell_type": "code",
   "execution_count": 13,
   "metadata": {},
   "outputs": [
    {
     "name": "stdout",
     "output_type": "stream",
     "text": [
      "0\n",
      "1\n",
      "2\n",
      "3\n",
      "4\n",
      "5\n"
     ]
    }
   ],
   "source": [
    "for x in range(6):\n",
    "    print(x)"
   ]
  },
  {
   "cell_type": "code",
   "execution_count": 14,
   "metadata": {},
   "outputs": [
    {
     "name": "stdout",
     "output_type": "stream",
     "text": [
      "6\n",
      "7\n",
      "8\n",
      "9\n"
     ]
    }
   ],
   "source": [
    "for x in range(6,10):\n",
    "    print(x)"
   ]
  },
  {
   "cell_type": "code",
   "execution_count": 16,
   "metadata": {},
   "outputs": [
    {
     "name": "stdout",
     "output_type": "stream",
     "text": [
      "2\n",
      "5\n",
      "8\n",
      "11\n",
      "14\n",
      "17\n",
      "20\n",
      "23\n",
      "26\n",
      "29\n"
     ]
    }
   ],
   "source": [
    "for x in range(2, 30, 3):\n",
    "    print(x)"
   ]
  },
  {
   "cell_type": "markdown",
   "metadata": {},
   "source": [
    "### Pass statement\n",
    "for loops cannot be empty, but if you for some reason have a for loop with no content, put in the pass statement to avoid getting an error."
   ]
  },
  {
   "cell_type": "code",
   "execution_count": 17,
   "metadata": {},
   "outputs": [],
   "source": [
    "for x in [0, 1, 2]:\n",
    "    pass"
   ]
  },
  {
   "cell_type": "markdown",
   "metadata": {},
   "source": [
    "### List Comprehension"
   ]
  },
  {
   "cell_type": "code",
   "execution_count": 20,
   "metadata": {},
   "outputs": [
    {
     "name": "stdout",
     "output_type": "stream",
     "text": [
      "[12, 34, 67, 37, 9, 81]\n"
     ]
    }
   ],
   "source": [
    "numbers = [12, 34, 1, 4, 4, 67, 37, 9, 0, 81]\n",
    "\n",
    "result = [number for number in numbers if number > 5]\n",
    "\n",
    "print(result)"
   ]
  },
  {
   "cell_type": "code",
   "execution_count": 21,
   "metadata": {},
   "outputs": [
    {
     "name": "stdout",
     "output_type": "stream",
     "text": [
      "[0, 1, 4, 9, 16, 25, 36, 49, 64, 81]\n"
     ]
    }
   ],
   "source": [
    "squares = [x**2 for x in range(10)]\n",
    "print(squares)"
   ]
  },
  {
   "cell_type": "code",
   "execution_count": 23,
   "metadata": {},
   "outputs": [
    {
     "name": "stdout",
     "output_type": "stream",
     "text": [
      "[0, 1, 4, 9, 16, 25, 36, 49, 64, 81]\n",
      "9\n"
     ]
    }
   ],
   "source": [
    "squares = []\n",
    "for x in range(10):\n",
    "    squares.append(x**2)\n",
    "print(squares)\n",
    "print(x)"
   ]
  },
  {
   "cell_type": "code",
   "execution_count": 24,
   "metadata": {},
   "outputs": [
    {
     "name": "stdout",
     "output_type": "stream",
     "text": [
      "[0, 1, 4, 9, 16, 25, 36, 49, 64, 81]\n"
     ]
    },
    {
     "ename": "NameError",
     "evalue": "name 'z' is not defined",
     "output_type": "error",
     "traceback": [
      "\u001b[1;31m---------------------------------------------------------------------------\u001b[0m",
      "\u001b[1;31mNameError\u001b[0m                                 Traceback (most recent call last)",
      "\u001b[1;32m<ipython-input-24-f228d3bbaabc>\u001b[0m in \u001b[0;36m<module>\u001b[1;34m\u001b[0m\n\u001b[0;32m      1\u001b[0m \u001b[0msquares\u001b[0m \u001b[1;33m=\u001b[0m \u001b[1;33m[\u001b[0m\u001b[0mz\u001b[0m\u001b[1;33m**\u001b[0m\u001b[1;36m2\u001b[0m \u001b[1;32mfor\u001b[0m \u001b[0mz\u001b[0m \u001b[1;32min\u001b[0m \u001b[0mrange\u001b[0m\u001b[1;33m(\u001b[0m\u001b[1;36m10\u001b[0m\u001b[1;33m)\u001b[0m\u001b[1;33m]\u001b[0m\u001b[1;33m\u001b[0m\u001b[1;33m\u001b[0m\u001b[0m\n\u001b[0;32m      2\u001b[0m \u001b[0mprint\u001b[0m\u001b[1;33m(\u001b[0m\u001b[0msquares\u001b[0m\u001b[1;33m)\u001b[0m\u001b[1;33m\u001b[0m\u001b[1;33m\u001b[0m\u001b[0m\n\u001b[1;32m----> 3\u001b[1;33m \u001b[0mz\u001b[0m\u001b[1;33m\u001b[0m\u001b[1;33m\u001b[0m\u001b[0m\n\u001b[0m",
      "\u001b[1;31mNameError\u001b[0m: name 'z' is not defined"
     ]
    }
   ],
   "source": [
    "squares = [z**2 for z in range(10)]\n",
    "print(squares)\n",
    "z"
   ]
  },
  {
   "cell_type": "code",
   "execution_count": 25,
   "metadata": {},
   "outputs": [
    {
     "name": "stdout",
     "output_type": "stream",
     "text": [
      "[0, 9, 36, 81]\n"
     ]
    }
   ],
   "source": [
    "squares = [z**2 for z in range(10) if z%3 == 0]\n",
    "print(squares)"
   ]
  },
  {
   "cell_type": "markdown",
   "metadata": {},
   "source": [
    "## Lamda\n",
    "A lambda function is a small anonymous function.\n",
    "\n",
    "A lambda function can take any number of arguments, but can only have one expression.\n",
    "\n",
    "lambda arguments : expression "
   ]
  },
  {
   "cell_type": "code",
   "execution_count": 26,
   "metadata": {},
   "outputs": [
    {
     "name": "stdout",
     "output_type": "stream",
     "text": [
      "15\n"
     ]
    }
   ],
   "source": [
    "x = lambda a : a + 10\n",
    "print(x(5)) "
   ]
  },
  {
   "cell_type": "code",
   "execution_count": 27,
   "metadata": {},
   "outputs": [
    {
     "name": "stdout",
     "output_type": "stream",
     "text": [
      "16\n"
     ]
    }
   ],
   "source": [
    "y = lambda b : b * b\n",
    "print(y(4))"
   ]
  },
  {
   "cell_type": "markdown",
   "metadata": {},
   "source": [
    "The power of lambda is better shown when you use them as an anonymous function inside another function.\n",
    "\n",
    "Say you have a function definition that takes one argument, and that argument will be multiplied with an unknown number:"
   ]
  },
  {
   "cell_type": "code",
   "execution_count": 30,
   "metadata": {},
   "outputs": [
    {
     "name": "stdout",
     "output_type": "stream",
     "text": [
      "22\n",
      "33\n"
     ]
    }
   ],
   "source": [
    "def myfunc(n):\n",
    "    return lambda a : a * n\n",
    "\n",
    "mydoubler = myfunc(2)\n",
    "mytripler = myfunc(3)\n",
    "\n",
    "print(mydoubler(11))\n",
    "print(mytripler(11))"
   ]
  },
  {
   "cell_type": "markdown",
   "metadata": {},
   "source": [
    "## Browsing directories & filesystem"
   ]
  },
  {
   "cell_type": "code",
   "execution_count": 66,
   "metadata": {},
   "outputs": [
    {
     "data": {
      "text/plain": [
       "['business', 'entertainment', 'politics', 'README.TXT', 'sport']"
      ]
     },
     "execution_count": 66,
     "metadata": {},
     "output_type": "execute_result"
    }
   ],
   "source": [
    "import os\n",
    "bbcdirs = os.listdir(\"D:\\\\sanooj\\\\datascience\\\\data\\\\bbc-fulltext\\\\bbc\")\n",
    "bbcdirs[0:5]"
   ]
  },
  {
   "cell_type": "code",
   "execution_count": 67,
   "metadata": {},
   "outputs": [
    {
     "data": {
      "text/plain": [
       "['D:\\\\sanooj\\\\datascience\\\\data\\\\bbc-fulltext\\\\bbc\\\\README.TXT']"
      ]
     },
     "execution_count": 67,
     "metadata": {},
     "output_type": "execute_result"
    }
   ],
   "source": [
    "import glob\n",
    "glob.glob(\"D:\\\\sanooj\\\\datascience\\\\data\\\\bbc-fulltext\\\\bbc\\\\*.txt\")"
   ]
  },
  {
   "cell_type": "code",
   "execution_count": 68,
   "metadata": {},
   "outputs": [
    {
     "data": {
      "text/plain": [
       "'Consists of 2225 documents from the BBC news website corresponding to stories in five topical areas from 2004-2005.\\nNatural Classes: 5 (business, entertainment, politics, sport, tech)\\n\\nIf you make use of the dataset, please consider citing the publication: \\n- D. Greene and P. Cunningham. \"Practical Solutions to the Problem of Diagonal Dominance in Kernel Document Clustering\", Proc. ICML 2006.\\n\\nAll rights, including copyright, in the content of the original articles are owned by the BBC.\\n\\nContact Derek Greene <derek.greene@ucd.ie> for further information.\\nhttp://mlg.ucd.ie/datasets/bbc.html\\n\\n'"
      ]
     },
     "execution_count": 68,
     "metadata": {},
     "output_type": "execute_result"
    }
   ],
   "source": [
    "f = open('D:\\\\sanooj\\\\datascience\\\\data\\\\bbc-fulltext\\\\bbc\\\\README.TXT')\n",
    "f.read()"
   ]
  },
  {
   "cell_type": "code",
   "execution_count": 69,
   "metadata": {},
   "outputs": [
    {
     "data": {
      "text/plain": [
       "['business', 'entertainment', 'politics', 'sport', 'tech']"
      ]
     },
     "execution_count": 69,
     "metadata": {},
     "output_type": "execute_result"
    }
   ],
   "source": [
    "folder_name = []\n",
    "for i in os.listdir(\"D:\\\\sanooj\\\\datascience\\\\data\\\\bbc-fulltext\\\\bbc\\\\\"):\n",
    "    if \".TXT\" not in i:\n",
    "        folder_name.append(i)\n",
    "folder_name\n",
    "    "
   ]
  },
  {
   "cell_type": "code",
   "execution_count": 74,
   "metadata": {},
   "outputs": [],
   "source": [
    "dataset = []\n",
    "for i in folder_name:\n",
    "    for j in glob.glob(\"D:\\\\sanooj\\\\datascience\\\\data\\\\bbc-fulltext\\\\bbc\\\\\"+i+\"\\\\*.txt\"):\n",
    "        f = open(j)\n",
    "        dataset.append([i,j.split(\"\\\\\")[-1],len(f.read().split())])"
   ]
  },
  {
   "cell_type": "code",
   "execution_count": 75,
   "metadata": {},
   "outputs": [
    {
     "data": {
      "text/plain": [
       "(2225, 3)"
      ]
     },
     "execution_count": 75,
     "metadata": {},
     "output_type": "execute_result"
    }
   ],
   "source": [
    "dataset = np.array(dataset)\n",
    "dataset.shape"
   ]
  },
  {
   "cell_type": "markdown",
   "metadata": {},
   "source": [
    "## Loops - practice problem statements"
   ]
  },
  {
   "cell_type": "code",
   "execution_count": 4,
   "metadata": {},
   "outputs": [
    {
     "name": "stdout",
     "output_type": "stream",
     "text": [
      "* \n",
      "* * \n",
      "* * * \n",
      "* * * * \n",
      "* * * * * \n",
      "* * * * * * \n",
      "* * * * * * * \n",
      "* * * * * * * * \n"
     ]
    }
   ],
   "source": [
    "### An approach using 1 loop\n",
    "countofstars = 8\n",
    "star = ''\n",
    "for i in range(1, countofstars+1):\n",
    "    star = star + '* '\n",
    "    print(star)"
   ]
  },
  {
   "cell_type": "code",
   "execution_count": 3,
   "metadata": {},
   "outputs": [
    {
     "name": "stdout",
     "output_type": "stream",
     "text": [
      "* \n",
      "* * \n",
      "* * * \n",
      "* * * * \n",
      "* * * * * \n",
      "* * * * * * \n",
      "* * * * * * * \n",
      "* * * * * * * * \n"
     ]
    }
   ],
   "source": [
    "### An approach using 2 loops and range option\n",
    "countofstars = 8\n",
    "for i in range(0, countofstars):\n",
    "    for j in range(0, (i+1)):\n",
    "        print('* ',end='')\n",
    "    print()"
   ]
  },
  {
   "cell_type": "code",
   "execution_count": 5,
   "metadata": {},
   "outputs": [
    {
     "name": "stdout",
     "output_type": "stream",
     "text": [
      "* * * * * * * * \n",
      "* * * * * * * \n",
      "* * * * * * \n",
      "* * * * * \n",
      "* * * * \n",
      "* * * \n",
      "* * \n",
      "* \n"
     ]
    }
   ],
   "source": [
    "countofstars = 8\n",
    "for i in range(countofstars, 0, -1):\n",
    "    star = ''\n",
    "    for j in range(1, i+1):\n",
    "        star = star + '* '\n",
    "    print(star)"
   ]
  },
  {
   "cell_type": "code",
   "execution_count": 6,
   "metadata": {},
   "outputs": [
    {
     "name": "stdout",
     "output_type": "stream",
     "text": [
      "        * \n",
      "       * * \n",
      "      * * * \n",
      "     * * * * \n",
      "    * * * * * \n",
      "   * * * * * * \n",
      "  * * * * * * * \n",
      " * * * * * * * * \n"
     ]
    }
   ],
   "source": [
    "countofstars = 8\n",
    "for i in range(0, countofstars):\n",
    "    for k in range(countofstars, i, -1):\n",
    "        print(end=' ')\n",
    "    for j in range(0, (i+1)):\n",
    "        print('* ',end='')\n",
    "    print()"
   ]
  },
  {
   "cell_type": "code",
   "execution_count": 7,
   "metadata": {},
   "outputs": [
    {
     "name": "stdout",
     "output_type": "stream",
     "text": [
      "* * * * * * * * \n",
      " * * * * * * * \n",
      "  * * * * * * \n",
      "   * * * * * \n",
      "    * * * * \n",
      "     * * * \n",
      "      * * \n",
      "       * \n"
     ]
    }
   ],
   "source": [
    "countofstars = 8\n",
    "for i in range(countofstars, 0 , -1):\n",
    "    for k in range(i, countofstars):\n",
    "        print(end=' ')\n",
    "    for j in range(0, i):\n",
    "        print('* ',end='')\n",
    "    print()"
   ]
  },
  {
   "cell_type": "code",
   "execution_count": 8,
   "metadata": {},
   "outputs": [
    {
     "name": "stdout",
     "output_type": "stream",
     "text": [
      "        * \n",
      "       * * \n",
      "      * * * \n",
      "     * * * * \n",
      "    * * * * * \n",
      "   * * * * * * \n",
      "  * * * * * * * \n",
      " * * * * * * * * \n",
      "  * * * * * * * \n",
      "   * * * * * * \n",
      "    * * * * * \n",
      "     * * * * \n",
      "      * * * \n",
      "       * * \n",
      "        * \n"
     ]
    }
   ],
   "source": [
    "countofstars = 8\n",
    "for i in range(0, countofstars):\n",
    "    for k in range(countofstars, i, -1):\n",
    "        print(end=' ')\n",
    "    for j in range(0, (i+1)):\n",
    "        print('* ',end='')\n",
    "    print()\n",
    "\n",
    "for i in range(countofstars-1, 0 , -1):\n",
    "    for k in range(i, countofstars+1):\n",
    "        print(end=' ')\n",
    "    for j in range(0, i):\n",
    "        print('* ',end='')\n",
    "    print()"
   ]
  },
  {
   "cell_type": "code",
   "execution_count": 9,
   "metadata": {},
   "outputs": [
    {
     "name": "stdout",
     "output_type": "stream",
     "text": [
      "az\n",
      "by\n",
      "cx\n",
      "dw\n",
      "ev\n",
      "fu\n",
      "gt\n",
      "hs\n",
      "ir\n",
      "jq\n",
      "kp\n",
      "lo\n",
      "mn\n",
      "nm\n",
      "ol\n",
      "pk\n",
      "qj\n",
      "ri\n",
      "sh\n",
      "tg\n",
      "uf\n",
      "ve\n",
      "wd\n",
      "xc\n",
      "yb\n",
      "za\n"
     ]
    }
   ],
   "source": [
    "alphabets = ['a','b','c','d','e','f','g','h','i','j','k','l','m','n','o','p','q','r','s','t','u','v','w','x','y','z']\n",
    "for i in range(0,len(alphabets)):\n",
    "    print(alphabets[i]+alphabets[-(i+1)])"
   ]
  },
  {
   "cell_type": "code",
   "execution_count": 11,
   "metadata": {},
   "outputs": [
    {
     "name": "stdout",
     "output_type": "stream",
     "text": [
      "\n",
      "I\n",
      "I \n",
      "I l\n",
      "I li\n",
      "I lik\n",
      "I like\n",
      "I like \n",
      "I like d\n",
      "I like da\n",
      "I like dat\n",
      "I like data\n",
      "I like data \n",
      "I like data s\n",
      "I like data sc\n",
      "I like data sci\n",
      "I like data scie\n",
      "I like data scien\n",
      "I like data scienc\n",
      "I like data science\n"
     ]
    }
   ],
   "source": [
    "### Approach using 2 loops\n",
    "data = 'I like data science'\n",
    "for i in range(0, len(data)+1):\n",
    "    for j in range(0,i):\n",
    "        print(data[j],end='')\n",
    "    print()"
   ]
  },
  {
   "cell_type": "code",
   "execution_count": 12,
   "metadata": {},
   "outputs": [
    {
     "name": "stdout",
     "output_type": "stream",
     "text": [
      "\n",
      "I\n",
      "I \n",
      "I l\n",
      "I li\n",
      "I lik\n",
      "I like\n",
      "I like \n",
      "I like d\n",
      "I like da\n",
      "I like dat\n",
      "I like data\n",
      "I like data \n",
      "I like data s\n",
      "I like data sc\n",
      "I like data sci\n",
      "I like data scie\n",
      "I like data scien\n",
      "I like data scienc\n",
      "I like data science\n"
     ]
    }
   ],
   "source": [
    "### Approach using 1 loop\n",
    "data = 'I like data science'\n",
    "for i in range(0, len(data)+1):\n",
    "    print(data[0:i])"
   ]
  },
  {
   "cell_type": "code",
   "execution_count": 13,
   "metadata": {},
   "outputs": [
    {
     "name": "stdout",
     "output_type": "stream",
     "text": [
      "8\n"
     ]
    },
    {
     "data": {
      "text/plain": [
       "8"
      ]
     },
     "execution_count": 13,
     "metadata": {},
     "output_type": "execute_result"
    }
   ],
   "source": [
    "##1. Write a Python function to find the Max of three numbers. \n",
    "data = [4,8,2]\n",
    "\n",
    "maxval = 0\n",
    "for i in data:\n",
    "    if i > maxval:\n",
    "        maxval = i\n",
    "print(maxval)\n",
    "\n",
    "##1. Write a Python function to find the Max of three numbers. \n",
    "import numpy as np\n",
    "data = np.array(data)\n",
    "data.max()"
   ]
  },
  {
   "cell_type": "code",
   "execution_count": 14,
   "metadata": {},
   "outputs": [
    {
     "name": "stdout",
     "output_type": "stream",
     "text": [
      "14\n"
     ]
    },
    {
     "data": {
      "text/plain": [
       "14"
      ]
     },
     "execution_count": 14,
     "metadata": {},
     "output_type": "execute_result"
    }
   ],
   "source": [
    "##2. Write a Python function to sum all the numbers in a list. \n",
    "data = [4,8,2]\n",
    "\n",
    "sum = 0\n",
    "for i in data:\n",
    "    sum = sum + i\n",
    "print(sum)\n",
    "\n",
    "##2. Write a Python function to sum all the numbers in a list. \n",
    "\n",
    "data = np.array(data)\n",
    "data.sum()"
   ]
  },
  {
   "cell_type": "code",
   "execution_count": 15,
   "metadata": {},
   "outputs": [
    {
     "name": "stdout",
     "output_type": "stream",
     "text": [
      "64\n"
     ]
    }
   ],
   "source": [
    "##3. Write a Python function to multiply all the numbers in a list. \n",
    "data = [4,8,2]\n",
    "\n",
    "product = 1\n",
    "for i in data:\n",
    "    product = product * i\n",
    "print(product)"
   ]
  },
  {
   "cell_type": "code",
   "execution_count": 16,
   "metadata": {},
   "outputs": [
    {
     "name": "stdout",
     "output_type": "stream",
     "text": [
      "5\n",
      "120\n"
     ]
    }
   ],
   "source": [
    "## 4. Write a Python function to calculate the factorial of a number (a non- negative integer). The function accepts the \n",
    "## number as an argument \n",
    "number = int(input())\n",
    "if number > 0:\n",
    "    product = 1\n",
    "    for i in range(1,number+1):\n",
    "        product = product * i\n",
    "print(product)"
   ]
  },
  {
   "cell_type": "code",
   "execution_count": 17,
   "metadata": {},
   "outputs": [
    {
     "name": "stdout",
     "output_type": "stream",
     "text": [
      "18\n",
      "18 is between 5 and 23\n"
     ]
    }
   ],
   "source": [
    "## 5. Write a Python function to check whether a number is in a given range \n",
    "minval = 5\n",
    "maxval = 23\n",
    "\n",
    "number = int(input())\n",
    "if (number > minval) & (number < maxval):\n",
    "    print(\"{} is between {} and {}\".format(number, minval, maxval))\n",
    "else:\n",
    "    print(\"{} is NOT between {} and {}\".format(number, minval, maxval))"
   ]
  },
  {
   "cell_type": "code",
   "execution_count": 18,
   "metadata": {},
   "outputs": [
    {
     "name": "stdout",
     "output_type": "stream",
     "text": [
      "Hello My Name Is Sanooj Padmakumar\n",
      "Number of upper case chars is 6 , and number of lower case characters is 23\n"
     ]
    }
   ],
   "source": [
    "## 6. Write a Python function that accepts a string and calculate the number of upper case letters and lower-case letters. \n",
    "data = input()\n",
    "uppercounter = 0\n",
    "lowercounter = 0\n",
    "for i in data:\n",
    "    if i.isupper():\n",
    "        uppercounter = uppercounter + 1\n",
    "    elif i.islower():\n",
    "        lowercounter = lowercounter + 1\n",
    "\n",
    "print(\"Number of upper case chars is {} , and number of lower case characters is {}\".format(uppercounter, lowercounter))"
   ]
  },
  {
   "cell_type": "code",
   "execution_count": 19,
   "metadata": {},
   "outputs": [
    {
     "name": "stdout",
     "output_type": "stream",
     "text": [
      "1 2 1 2 3 4 5 4 hi hello hi\n",
      "['1' '2' '3' '4' '5' 'hello' 'hi']\n",
      "['1', '2', '3', '4', '5', 'hi', 'hello']\n"
     ]
    }
   ],
   "source": [
    "## 7. Write a Python function that takes a list and returns a new list with unique elements of the first list. \n",
    "import numpy as np\n",
    "data = input()\n",
    "data = data.split()\n",
    "print(np.unique(data))\n",
    "\n",
    "uniquelist = []\n",
    "for i in data:\n",
    "    if(i not in uniquelist):\n",
    "        uniquelist.append(i)\n",
    "\n",
    "print(uniquelist)"
   ]
  },
  {
   "cell_type": "code",
   "execution_count": 20,
   "metadata": {},
   "outputs": [
    {
     "name": "stdout",
     "output_type": "stream",
     "text": [
      "23\n",
      "23 is a prime number\n"
     ]
    }
   ],
   "source": [
    "## 8. Write a Python function that takes a number as a parameter and check the number is prime or not. \n",
    "number = int(input())\n",
    "flag = 0\n",
    "if number == 1:\n",
    "    print('{} is not a prime number'.format(number))\n",
    "else:\n",
    "    for i in range(2, number):\n",
    "        if(number%i == 0):\n",
    "            flag = 1\n",
    "            print('{} is not a prime number'.format(number))\n",
    "            break\n",
    "    if(flag == 0):\n",
    "        print('{} is a prime number'.format(number)) "
   ]
  },
  {
   "cell_type": "code",
   "execution_count": 21,
   "metadata": {},
   "outputs": [
    {
     "name": "stdout",
     "output_type": "stream",
     "text": [
      "[0, 2, 4, 6, 8, 10]\n"
     ]
    }
   ],
   "source": [
    "## 9. Write a Python program to print the even numbers from a given list. \n",
    "data = [0,1,2,3,4,5,6,7,8,9,10]\n",
    "even = []\n",
    "for i in data:\n",
    "    if i%2 ==0:\n",
    "        even.append(i)\n",
    "print(even)"
   ]
  },
  {
   "cell_type": "code",
   "execution_count": 22,
   "metadata": {},
   "outputs": [
    {
     "name": "stdout",
     "output_type": "stream",
     "text": [
      "6\n",
      "6 is a perfect number\n"
     ]
    }
   ],
   "source": [
    "## 10. Write a Python function to check whether a number is perfect or not. \n",
    "## Perfect number, a positive integer that is equal to the sum of its proper divisors. \n",
    "number = int(input())\n",
    "sum = 0\n",
    "for i in range(1,number):\n",
    "    if(number % i == 0):\n",
    "        sum = sum + i\n",
    "\n",
    "if sum == number:\n",
    "    print('{} is a perfect number'.format(number))\n",
    "else:\n",
    "    print('{} is NOT a perfect number'.format(number))"
   ]
  },
  {
   "cell_type": "code",
   "execution_count": 23,
   "metadata": {},
   "outputs": [
    {
     "name": "stdout",
     "output_type": "stream",
     "text": [
      "malayalam\n",
      "malayalam is a palindrome\n"
     ]
    }
   ],
   "source": [
    "## 11. Write a Python function that checks whether a passed string is palindrome or not. \n",
    "data = input()\n",
    "flag = 0\n",
    "for i in range(0,len(data)):\n",
    "    if not (data[i] == data[-(i+1)]):\n",
    "        flag = 1\n",
    "        print('{} is not a palindrome'.format(data))\n",
    "        break\n",
    "if flag == 0:\n",
    "    print('{} is a palindrome'.format(data))"
   ]
  },
  {
   "cell_type": "code",
   "execution_count": 24,
   "metadata": {},
   "outputs": [
    {
     "name": "stdout",
     "output_type": "stream",
     "text": [
      "1\n"
     ]
    }
   ],
   "source": [
    "## 12. Write a Python function that prints out the first n rows of Pascal's triangle.\n",
    "rows = int(input())"
   ]
  },
  {
   "cell_type": "code",
   "execution_count": 25,
   "metadata": {},
   "outputs": [
    {
     "name": "stdout",
     "output_type": "stream",
     "text": [
      "the quick brown fox jumps over the lazy dog\n",
      "\"the quick brown fox jumps over the lazy dog\" is a pangram\n"
     ]
    }
   ],
   "source": [
    "## 13. Write a Python function to check whether a string is a pangram or not. \n",
    "## the quick brown fox jumps over the lazy dog\n",
    "alphabets = ['a','b','c','d','e','f','g','h','i','j','k','l','m','n','o','p','q','r','s','t','u','v','w','x','y','z']\n",
    "data = input()\n",
    "flag = 0\n",
    "for i in alphabets:\n",
    "    if i not in data:\n",
    "        flag = 1\n",
    "        print('{} is not a pangram'.format(data))\n",
    "        break\n",
    "\n",
    "if flag == 0:\n",
    "    print('\"{}\" is a pangram'.format(data))"
   ]
  },
  {
   "cell_type": "code",
   "execution_count": 26,
   "metadata": {},
   "outputs": [
    {
     "name": "stdout",
     "output_type": "stream",
     "text": [
      "a-b-e-z-x-a\n",
      "['a', 'a', 'b', 'e', 'x', 'z']\n"
     ]
    }
   ],
   "source": [
    "## 14. Write a Python program that accepts a hyphen-separated sequence of words as input and prints the words in a \n",
    "## hyphen-separated sequence after sorting them alphabetically. \n",
    "data = input()\n",
    "data = data.split('-')\n",
    "data.sort()\n",
    "print(data)"
   ]
  },
  {
   "cell_type": "code",
   "execution_count": 27,
   "metadata": {},
   "outputs": [
    {
     "name": "stdout",
     "output_type": "stream",
     "text": [
      "[1, 4, 9, 16, 25, 36, 49, 64, 81, 100, 121, 144, 169, 196, 225, 256, 289, 324, 361, 400, 441, 484, 529, 576, 625, 676, 729, 784, 841, 900]\n"
     ]
    }
   ],
   "source": [
    "## 15. Write a Python function to create and print a list where the values are Square of numbers between 1 and 30 \n",
    "squarelist = []\n",
    "for i in range(1,31):\n",
    "    squarelist.append(pow(i,2))\n",
    "print(squarelist)"
   ]
  },
  {
   "cell_type": "markdown",
   "metadata": {},
   "source": [
    "## BBC data set - classifying the articles"
   ]
  },
  {
   "cell_type": "code",
   "execution_count": 1,
   "metadata": {},
   "outputs": [
    {
     "data": {
      "text/plain": [
       "['business', 'entertainment', 'politics', 'README.TXT', 'sport']"
      ]
     },
     "execution_count": 1,
     "metadata": {},
     "output_type": "execute_result"
    }
   ],
   "source": [
    "import numpy as np\n",
    "from IPython.core.interactiveshell import InteractiveShell\n",
    "InteractiveShell.ast_node_interactivity='all'\n",
    "import os\n",
    "import glob\n",
    "\n",
    "bbcdirs = os.listdir(\"D:\\\\sanooj\\\\datascience\\\\data\\\\bbc-fulltext\\\\bbc\")\n",
    "bbcdirs[0:5]"
   ]
  },
  {
   "cell_type": "code",
   "execution_count": 2,
   "metadata": {},
   "outputs": [
    {
     "data": {
      "text/plain": [
       "['business', 'entertainment', 'politics', 'sport', 'tech']"
      ]
     },
     "execution_count": 2,
     "metadata": {},
     "output_type": "execute_result"
    }
   ],
   "source": [
    "## Iterate and get all the folders\n",
    "folder_name = []\n",
    "for i in os.listdir(\"D:\\\\sanooj\\\\datascience\\\\data\\\\bbc-fulltext\\\\bbc\\\\\"):\n",
    "    if \".TXT\" not in i:\n",
    "        folder_name.append(i)\n",
    "folder_name"
   ]
  },
  {
   "cell_type": "code",
   "execution_count": 3,
   "metadata": {},
   "outputs": [
    {
     "data": {
      "text/plain": [
       "[['business',\n",
       "  '001.txt',\n",
       "  'ad sales boost time warner profit\\n\\nquarterly profits at us media giant timewarner jumped 76% to $1.13bn (â£600m) for the three months to december, from $639m year-earlier.\\n\\nthe firm, which is now one of the biggest investors in google, benefited from sales of high-speed internet connections and higher advert sales. timewarner said fourth quarter sales rose 2% to $11.1bn from $10.9bn. its profits were buoyed by one-off gains which offset a profit dip at warner bros, and less users for aol.\\n\\ntime warner said on friday that it now owns 8% of search-engine google. but its own internet business, aol, had has mixed fortunes. it lost 464,000 subscribers in the fourth quarter profits were lower than in the preceding three quarters. however, the company said aol\\'s underlying profit before exceptional items rose 8% on the back of stronger internet advertising revenues. it hopes to increase subscribers by offering the online service free to timewarner internet customers and will try to sign up aol\\'s existing customers for high-speed broadband. timewarner also has to restate 2000 and 2003 results following a probe by the us securities exchange commission (sec), which is close to concluding.\\n\\ntime warner\\'s fourth quarter profits were slightly better than analysts\\' expectations. but its film division saw profits slump 27% to $284m, helped by box-office flops alexander and catwoman, a sharp contrast to year-earlier, when the third and final film in the lord of the rings trilogy boosted results. for the full-year, timewarner posted a profit of $3.36bn, up 27% from its 2003 performance, while revenues grew 6.4% to $42.09bn. \"our financial performance was strong, meeting or exceeding all of our full-year objectives and greatly enhancing our flexibility,\" chairman and chief executive richard parsons said. for 2005, timewarner is projecting operating earnings growth of around 5%, and also expects higher revenue and wider profit margins.\\n\\ntimewarner is to restate its accounts as part of efforts to resolve an inquiry into aol by us market regulators. it has already offered to pay $300m to settle charges, in a deal that is under review by the sec. the company said it was unable to estimate the amount it needed to set aside for legal reserves, which it previously set at $500m. it intends to adjust the way it accounts for a deal with german music publisher bertelsmann\\'s purchase of a stake in aol europe, which it had reported as advertising revenue. it will now book the sale of its stake in aol europe as a loss on the value of that stake.\\n',\n",
       "  421]]"
      ]
     },
     "execution_count": 3,
     "metadata": {},
     "output_type": "execute_result"
    },
    {
     "data": {
      "text/plain": [
       "2225"
      ]
     },
     "execution_count": 3,
     "metadata": {},
     "output_type": "execute_result"
    }
   ],
   "source": [
    "dataset = []\n",
    "for i in folder_name:\n",
    "    for j in glob.glob(\"D:\\\\sanooj\\\\datascience\\\\data\\\\bbc-fulltext\\\\bbc\\\\\"+i+\"\\\\*.txt\"):\n",
    "        f = open(j)\n",
    "        content = f.read()\n",
    "        dataset.append([i,j.split(\"\\\\\")[-1],content.lower(),len(content.split())])\n",
    "\n",
    "dataset[0:1]\n",
    "len(dataset)"
   ]
  },
  {
   "cell_type": "code",
   "execution_count": 4,
   "metadata": {},
   "outputs": [
    {
     "data": {
      "text/plain": [
       "(2225, 4)"
      ]
     },
     "execution_count": 4,
     "metadata": {},
     "output_type": "execute_result"
    },
    {
     "data": {
      "text/plain": [
       "60491"
      ]
     },
     "execution_count": 4,
     "metadata": {},
     "output_type": "execute_result"
    }
   ],
   "source": [
    "dataset = np.array(dataset)\n",
    "dataset.shape\n",
    "## normal count 65000\n",
    "## after checking lower case 60616\n",
    "## after checking stop words 60491\n",
    "stopwords = ['i','me','my','myself','we','our','ours','ourselves','you','your','yours','yourself','yourselves','he','him','his','himself','she','her','hers','herself','it','its','itself','they','them','their','theirs','themselves','what','which','who','whom','this','that','these','those','am','is','are','was','were','be','been','being','have','has','had','having','do','does','did','doing','a','an','the','and','but','if','or','because','as','until','while','of','at','by','for','with','about','against','between','into','through','during','before','after','above','below','to','from','up','down','in','out','on','off','over','under','again','further','then','once','here','there','when','where','why','how','all','any','both','each','few','more','most','other','some','such','no','nor','not','only','own','same','so','than','too','very','s','t','can','will','just','don','should','now']\n",
    "words = []\n",
    "for article in dataset[:,2]:\n",
    "    for word in article.split():\n",
    "        if word.lower() not in words:\n",
    "            if word.lower() not in stopwords:\n",
    "                words.append(word.lower())\n",
    "len(words)   "
   ]
  },
  {
   "cell_type": "code",
   "execution_count": 5,
   "metadata": {},
   "outputs": [
    {
     "data": {
      "text/plain": [
       "['ad', 'sales', 'boost', 'time', 'warner']"
      ]
     },
     "execution_count": 5,
     "metadata": {},
     "output_type": "execute_result"
    }
   ],
   "source": [
    "words[0:5]"
   ]
  },
  {
   "cell_type": "code",
   "execution_count": 16,
   "metadata": {},
   "outputs": [
    {
     "data": {
      "text/plain": [
       "[['business', '001.txt', '421', 'ad', 9, 0.021377672209026127],\n",
       " ['business', '001.txt', '421', 'sales', 4, 0.009501187648456057],\n",
       " ['business', '001.txt', '421', 'boost', 2, 0.004750593824228029],\n",
       " ['business', '001.txt', '421', 'time', 10, 0.023752969121140142],\n",
       " ['business', '001.txt', '421', 'warner', 11, 0.026128266033254157]]"
      ]
     },
     "execution_count": 16,
     "metadata": {},
     "output_type": "execute_result"
    }
   ],
   "source": [
    "## for each word let's create a new list that holds \n",
    "## category, filename, total number of words in the file, unique word, count of unique word,\n",
    "## probability of the word in the file\n",
    "\n",
    "## it took 5 hours to process 840 articles and then the process died. So only doing this for a subset of articles\n",
    "## ['business', 'entertainment', 'politics', 'sport', 'tech'] -- idea is to do this only for 50 articles on each category\n",
    "import datetime\n",
    "modified_dataset = []\n",
    "articlecounter = 0\n",
    "max_article_to_scan = 50\n",
    "businessarticlecounter = 0\n",
    "entertainmentarticlecounter = 0\n",
    "politicsarticlecounter = 0\n",
    "sportsarticlecounter = 0\n",
    "techarticlecounter = 0\n",
    "\n",
    "dataset = np.array(dataset)\n",
    "words = np.array(words)\n",
    "for article in dataset:\n",
    "    articlecounter = articlecounter + 1\n",
    "    ## print(' {} processing {} article {} '.format(datetime.datetime.now(),category, articlecounter))\n",
    "    category = article[0]\n",
    "    \n",
    "    if category == 'business':\n",
    "        if businessarticlecounter == max_article_to_scan:\n",
    "            continue\n",
    "        businessarticlecounter = businessarticlecounter + 1\n",
    "        #print(' {} processing {} article {} '.format(datetime.datetime.now(), category, businessarticlecounter))\n",
    "    elif category == 'entertainment':\n",
    "        if entertainmentarticlecounter == max_article_to_scan:\n",
    "            continue\n",
    "        entertainmentarticlecounter = entertainmentarticlecounter + 1\n",
    "        #print(' {} processing {} article {} '.format(datetime.datetime.now(), category, entertainmentarticlecounter))\n",
    "    elif category == 'politics':\n",
    "        if politicsarticlecounter == max_article_to_scan:\n",
    "            continue\n",
    "        politicsarticlecounter = politicsarticlecounter + 1\n",
    "        #print(' {} processing {} article {} '.format(datetime.datetime.now(), category, politicsarticlecounter))\n",
    "    elif category == 'sport':\n",
    "        if sportsarticlecounter == max_article_to_scan:\n",
    "            continue\n",
    "        sportsarticlecounter = sportsarticlecounter +1\n",
    "        #print(' {} processing {} article {} '.format(datetime.datetime.now(), category, sportsarticlecounter))\n",
    "    elif category == 'tech':\n",
    "        if techarticlecounter == max_article_to_scan:\n",
    "            continue\n",
    "        techarticlecounter = techarticlecounter + 1\n",
    "        #print(' {} processing {} article {} '.format(datetime.datetime.now(), category, techarticlecounter))\n",
    "        \n",
    "    filename = article[1]\n",
    "    content = article[2] \n",
    "    totalwords = article[3]\n",
    "    for word in words:\n",
    "        occurrence_of_current_word = content.count(word)\n",
    "        probability_of_current_word = int(occurrence_of_current_word)/int(totalwords)\n",
    "        modified_dataset.append([category,filename,totalwords,word,occurrence_of_current_word,probability_of_current_word])\n",
    "    #len(modified_dataset)   \n",
    "modified_dataset[0:5]"
   ]
  }
 ],
 "metadata": {
  "hide_input": false,
  "kernelspec": {
   "display_name": "Python 3",
   "language": "python",
   "name": "python3"
  },
  "language_info": {
   "codemirror_mode": {
    "name": "ipython",
    "version": 3
   },
   "file_extension": ".py",
   "mimetype": "text/x-python",
   "name": "python",
   "nbconvert_exporter": "python",
   "pygments_lexer": "ipython3",
   "version": "3.7.4"
  },
  "toc": {
   "base_numbering": 1,
   "nav_menu": {},
   "number_sections": true,
   "sideBar": true,
   "skip_h1_title": false,
   "title_cell": "Table of Contents",
   "title_sidebar": "Contents",
   "toc_cell": false,
   "toc_position": {},
   "toc_section_display": true,
   "toc_window_display": true
  }
 },
 "nbformat": 4,
 "nbformat_minor": 2
}
