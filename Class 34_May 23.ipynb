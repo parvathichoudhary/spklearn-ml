{
 "cells": [
  {
   "cell_type": "code",
   "execution_count": null,
   "metadata": {},
   "outputs": [],
   "source": [
    "dataset = pd.DataFrame(dataset)\n",
    "\n",
    "dataset.reset_index(inplace=True)\n",
    "\n",
    "for i in range(1,10):\n",
    "\tdataset[i] = dataset['sales'].shift(i)\n",
    "\n",
    "\n",
    "dataset_new = dataset.dropna(axis=0,how='any')\n",
    "\n",
    "y = dataset_new['Sales']\n",
    "x=dataset_new.drop(['Sales','Date'],axis=1)\n",
    "\n",
    "y.shape, x.shape\n",
    "\n",
    "now run LR on y and x"
   ]
  },
  {
   "cell_type": "code",
   "execution_count": null,
   "metadata": {},
   "outputs": [],
   "source": [
    "pip install tensorflow\n",
    "pip install keras\n",
    "pip install opencv-python\n"
   ]
  },
  {
   "cell_type": "markdown",
   "metadata": {},
   "source": [
    "Naive time series will work fine when all the factors affecting the target is same as the previous day/s. Time series analysis can be considered into 4 parts\n",
    "- cycles\n",
    "- trends\n",
    "- seasons\n",
    "- residuals\n",
    "\n",
    "Additive models, multiplicative models\n",
    "\n",
    "For each part we can have separate models . e.g. if cycles are linear then we can use linear models for forecasting cycles.\n",
    "\n",
    "if seasonality is non linear then we can use non linear model to forecast and finally add/multiply the results\n",
    "\n",
    "\n",
    "step 1 in time series is to divide the data into 4 parts\n",
    "\n",
    "Auto Regression\n",
    "\n",
    "Lag variables ( we can create lag variables using shift() ) \n",
    "\n",
    "see image-2\n",
    "\n",
    "lag-0 at t = t-1\n",
    "lag-1 at t = t-2\n",
    "\n",
    "so after putting lag variables\n",
    "y = b1yt-1 + b2yt-2 + .... \n",
    "and then we can use linear rregression to solve the equation\n",
    "\n",
    "if there is only 1 lag variable then we call as AR(1) .. \n",
    "\n",
    "lag variable is a hyper parameter and found using hyper parameter optimisation also we can use ACF (for moving average) or PACF(for auto regression) plots\n",
    "\n",
    "Moving Average\n",
    "\n",
    "Instead of lag of y variable we can take the lag of errors.. MA(1) = m + Et + theta Et-1 .. this is another version of moving average\n",
    "\n",
    "read ARMA (Auto regression and moving average) , ARIMA (with integration)\n",
    "\n",
    "ARIMAX - we consider macro economic and micro economic variables.. they are available from data.gov (US) and data.gov.in\n",
    "\n",
    "stationary series"
   ]
  },
  {
   "cell_type": "code",
   "execution_count": null,
   "metadata": {},
   "outputs": [],
   "source": []
  },
  {
   "cell_type": "code",
   "execution_count": null,
   "metadata": {},
   "outputs": [],
   "source": []
  },
  {
   "cell_type": "code",
   "execution_count": null,
   "metadata": {},
   "outputs": [],
   "source": []
  },
  {
   "cell_type": "code",
   "execution_count": null,
   "metadata": {},
   "outputs": [],
   "source": []
  },
  {
   "cell_type": "code",
   "execution_count": null,
   "metadata": {},
   "outputs": [],
   "source": []
  },
  {
   "cell_type": "code",
   "execution_count": null,
   "metadata": {},
   "outputs": [],
   "source": []
  },
  {
   "cell_type": "code",
   "execution_count": null,
   "metadata": {},
   "outputs": [],
   "source": []
  },
  {
   "cell_type": "code",
   "execution_count": null,
   "metadata": {},
   "outputs": [],
   "source": []
  },
  {
   "cell_type": "code",
   "execution_count": null,
   "metadata": {},
   "outputs": [],
   "source": []
  },
  {
   "cell_type": "code",
   "execution_count": null,
   "metadata": {},
   "outputs": [],
   "source": []
  },
  {
   "cell_type": "code",
   "execution_count": null,
   "metadata": {},
   "outputs": [],
   "source": []
  },
  {
   "cell_type": "code",
   "execution_count": null,
   "metadata": {},
   "outputs": [],
   "source": []
  },
  {
   "cell_type": "code",
   "execution_count": null,
   "metadata": {},
   "outputs": [],
   "source": []
  },
  {
   "cell_type": "code",
   "execution_count": null,
   "metadata": {},
   "outputs": [],
   "source": []
  },
  {
   "cell_type": "code",
   "execution_count": null,
   "metadata": {},
   "outputs": [],
   "source": []
  },
  {
   "cell_type": "code",
   "execution_count": null,
   "metadata": {},
   "outputs": [],
   "source": []
  },
  {
   "cell_type": "code",
   "execution_count": null,
   "metadata": {},
   "outputs": [],
   "source": []
  },
  {
   "cell_type": "code",
   "execution_count": null,
   "metadata": {},
   "outputs": [],
   "source": []
  },
  {
   "cell_type": "code",
   "execution_count": null,
   "metadata": {},
   "outputs": [],
   "source": []
  },
  {
   "cell_type": "code",
   "execution_count": null,
   "metadata": {},
   "outputs": [],
   "source": []
  },
  {
   "cell_type": "code",
   "execution_count": null,
   "metadata": {},
   "outputs": [],
   "source": []
  },
  {
   "cell_type": "code",
   "execution_count": null,
   "metadata": {},
   "outputs": [],
   "source": []
  }
 ],
 "metadata": {
  "hide_input": false,
  "kernelspec": {
   "display_name": "Python 3",
   "language": "python",
   "name": "python3"
  },
  "language_info": {
   "codemirror_mode": {
    "name": "ipython",
    "version": 3
   },
   "file_extension": ".py",
   "mimetype": "text/x-python",
   "name": "python",
   "nbconvert_exporter": "python",
   "pygments_lexer": "ipython3",
   "version": "3.7.4"
  },
  "toc": {
   "base_numbering": 1,
   "nav_menu": {},
   "number_sections": true,
   "sideBar": true,
   "skip_h1_title": false,
   "title_cell": "Table of Contents",
   "title_sidebar": "Contents",
   "toc_cell": false,
   "toc_position": {},
   "toc_section_display": true,
   "toc_window_display": false
  }
 },
 "nbformat": 4,
 "nbformat_minor": 2
}
