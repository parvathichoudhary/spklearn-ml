{
 "cells": [
  {
   "cell_type": "code",
   "execution_count": null,
   "metadata": {},
   "outputs": [],
   "source": [
    "import numpy as np\n",
    "from IPython.core.InteractiveShell import InteractiveShell\n",
    "InteractiveShell.ast_node_interactivity = 'all'"
   ]
  },
  {
   "cell_type": "markdown",
   "metadata": {},
   "source": [
    "### Variable Types"
   ]
  },
  {
   "cell_type": "markdown",
   "metadata": {},
   "source": [
    "### Statistics Type"
   ]
  },
  {
   "cell_type": "code",
   "execution_count": 31,
   "metadata": {},
   "outputs": [
    {
     "data": {
      "text/plain": [
       "array([[84, 39, 16, 40, 85],\n",
       "       [22, 10, 71, 28, 99],\n",
       "       [39, 67, 16, 57, 95],\n",
       "       [90, 41, 83, 72, 20],\n",
       "       [56, 19, 69, 61, 58],\n",
       "       [55, 38, 38, 44, 81],\n",
       "       [98, 93, 66, 39, 53],\n",
       "       [36, 70, 76, 78, 49],\n",
       "       [18, 58, 76, 35, 57],\n",
       "       [80, 32, 47, 34, 13],\n",
       "       [45, 41, 26, 83, 68],\n",
       "       [96, 90, 10, 79, 43],\n",
       "       [51, 41, 63, 68, 29],\n",
       "       [83, 84, 73, 11,  8],\n",
       "       [ 4, 30, 46, 25, 13],\n",
       "       [62, 88, 61, 40, 98],\n",
       "       [44, 44, 53, 76,  5],\n",
       "       [52, 93, 79, 73, 80],\n",
       "       [90, 57, 96, 16, 12],\n",
       "       [50, 99,  2, 53, 95],\n",
       "       [38,  1, 42, 86, 77],\n",
       "       [45, 73, 75, 26, 40],\n",
       "       [87, 11, 29, 97, 70],\n",
       "       [22, 71, 64, 88, 33],\n",
       "       [78, 82, 90, 50, 83]])"
      ]
     },
     "execution_count": 31,
     "metadata": {},
     "output_type": "execute_result"
    }
   ],
   "source": [
    "##### Mean\n",
    "import numpy as np\n",
    "marks = np.random.randint(1,100,(25,5))\n",
    "marks.shape\n",
    "marks"
   ]
  },
  {
   "cell_type": "code",
   "execution_count": 38,
   "metadata": {},
   "outputs": [
    {
     "name": "stdout",
     "output_type": "stream",
     "text": [
      "[57.0, 54.88, 54.68, 54.36, 54.56]\n",
      "[48.22913022162803, 41.800536057351984, 43.661787219675126, 47.831056543811385, 41.79016175587347]\n",
      "[32.9820414739125, 15.37572770235912, 22.70342491090264, 40.127078620097826, 26.844849825159237]\n"
     ]
    },
    {
     "data": {
      "text/plain": [
       "(5, 3)"
      ]
     },
     "execution_count": 38,
     "metadata": {},
     "output_type": "execute_result"
    }
   ],
   "source": [
    "## come up with a 5*3 matrix that can hold the AM, GM, HM for each of the rows\n",
    "from scipy.stats import gmean,hmean\n",
    "\n",
    "arithmeticmeanarray = []\n",
    "geometricmeanarray = []\n",
    "harmonicmeanarray = []\n",
    "for i in range(0,5):\n",
    "    subjectmarks = marks[:,i]\n",
    "    arithmeticmeanarray.append(subjectmarks.mean())\n",
    "    geometricmeanarray.append(gmean(subjectmarks))\n",
    "    harmonicmeanarray.append(hmean(subjectmarks))\n",
    "\n",
    "print(arithmeticmeanarray)\n",
    "print(geometricmeanarray)\n",
    "print(harmonicmeanarray)\n",
    "\n",
    "combinedmean = np.array([arithmeticmeanarray,geometricmeanarray,harmonicmeanarray])\n",
    "combinedmean.shape\n",
    "combinedmeantranspose = combinedmean.T\n",
    "combinedmeantranspose.shape"
   ]
  },
  {
   "cell_type": "markdown",
   "metadata": {},
   "source": [
    "## IQR"
   ]
  },
  {
   "cell_type": "code",
   "execution_count": 46,
   "metadata": {},
   "outputs": [
    {
     "name": "stdout",
     "output_type": "stream",
     "text": [
      "149.0 -27.0\n",
      "[[ 84  39  16  40  85]\n",
      " [500  10  71 500  99]\n",
      " [ 39  67  16  57  95]\n",
      " [ 90  41  83  72  20]\n",
      " [ 56  19  69  61  58]\n",
      " [ 55  38  38  44  81]\n",
      " [ 98  93  66  39  53]\n",
      " [ 36  70  76  78  49]\n",
      " [ 18  58  76  35  57]\n",
      " [ 80  32  47  34  13]\n",
      " [ 45  41  26  83  68]\n",
      " [ 96  90  10  79  43]\n",
      " [ 51  41  63  68  29]\n",
      " [ 83  84  73  11   8]\n",
      " [  4  30  46  25  13]\n",
      " [ 62  88  61  40  98]\n",
      " [ 44  44  53  76   5]\n",
      " [ 52  93  79  73  80]\n",
      " [ 90  57  96  16  12]\n",
      " [ 50  99   2  53  95]\n",
      " [ 38   1  42  86  77]\n",
      " [ 45  73  75  26  40]\n",
      " [ 87  11  29  97  70]\n",
      " [ 22  71  64  88  33]\n",
      " [ 78  82  90  50  83]]\n",
      "outlier ->  500\n"
     ]
    }
   ],
   "source": [
    "\n",
    "q1 = np.quantile(marks[:,0],0.25)\n",
    "q3 = np.quantile(marks[:,0],0.75)\n",
    "\n",
    "iqr = q3 - q1\n",
    "\n",
    "## find outliers by taking value 1.5 times greater than IQR or 1.5 times lesser than IQR\n",
    "\n",
    "utv = q3 + (1.5*iqr)\n",
    "ltv = q1 - (1.5*iqr)\n",
    "\n",
    "print(utv,ltv)\n",
    "marks[1,0] = 500\n",
    "print(marks)\n",
    "\n",
    "for i in marks[:,0]:\n",
    "    if((i> utv) or (i<ltv)):\n",
    "        print('outlier -> ', i)"
   ]
  },
  {
   "cell_type": "code",
   "execution_count": null,
   "metadata": {},
   "outputs": [],
   "source": []
  },
  {
   "cell_type": "code",
   "execution_count": null,
   "metadata": {},
   "outputs": [],
   "source": []
  },
  {
   "cell_type": "code",
   "execution_count": null,
   "metadata": {},
   "outputs": [],
   "source": []
  },
  {
   "cell_type": "code",
   "execution_count": null,
   "metadata": {},
   "outputs": [],
   "source": []
  },
  {
   "cell_type": "code",
   "execution_count": null,
   "metadata": {},
   "outputs": [],
   "source": []
  },
  {
   "cell_type": "code",
   "execution_count": null,
   "metadata": {},
   "outputs": [],
   "source": []
  },
  {
   "cell_type": "code",
   "execution_count": null,
   "metadata": {},
   "outputs": [],
   "source": []
  },
  {
   "cell_type": "code",
   "execution_count": null,
   "metadata": {},
   "outputs": [],
   "source": []
  },
  {
   "cell_type": "code",
   "execution_count": null,
   "metadata": {},
   "outputs": [],
   "source": []
  },
  {
   "cell_type": "code",
   "execution_count": null,
   "metadata": {},
   "outputs": [],
   "source": []
  },
  {
   "cell_type": "code",
   "execution_count": null,
   "metadata": {},
   "outputs": [],
   "source": []
  },
  {
   "cell_type": "code",
   "execution_count": null,
   "metadata": {},
   "outputs": [],
   "source": []
  },
  {
   "cell_type": "code",
   "execution_count": null,
   "metadata": {},
   "outputs": [],
   "source": []
  },
  {
   "cell_type": "code",
   "execution_count": null,
   "metadata": {},
   "outputs": [],
   "source": []
  }
 ],
 "metadata": {
  "kernelspec": {
   "display_name": "Python 3",
   "language": "python",
   "name": "python3"
  },
  "language_info": {
   "codemirror_mode": {
    "name": "ipython",
    "version": 3
   },
   "file_extension": ".py",
   "mimetype": "text/x-python",
   "name": "python",
   "nbconvert_exporter": "python",
   "pygments_lexer": "ipython3",
   "version": "3.7.4"
  }
 },
 "nbformat": 4,
 "nbformat_minor": 2
}
